{
 "cells": [
  {
   "cell_type": "code",
   "execution_count": null,
   "metadata": {},
   "outputs": [],
   "source": []
  },
  {
   "cell_type": "markdown",
   "metadata": {},
   "source": [
    "# Exercises\n",
    "\n",
    "Work on those you like the most. For the exam, preparing 2 of these is enough (or 3 if you pick those that are very short)."
   ]
  },
  {
   "cell_type": "markdown",
   "metadata": {},
   "source": [
    "## Q1: Machine precision\n",
    "\n",
    "When talking about floating point, we discussed _machine epsilon_, $\\epsilon$&mdash;this is the smallest number that when added to 1 is still different from 1.\n",
    "\n",
    "We'll compute $\\epsilon$ here:\n",
    "\n",
    "  * Pick an initial guess for $\\epsilon$ of `eps = 1`.  \n",
    "\n",
    "  * Create a loop that checks whether `1 + eps` is different from `1`\n",
    "  \n",
    "  * Each loop iteration, cut the value of `eps` in half\n",
    "  \n",
    "What value of $\\epsilon$ do you find?\n",
    "\n"
   ]
  },
  {
   "cell_type": "code",
   "execution_count": null,
   "metadata": {},
   "outputs": [
    {
     "name": "stdout",
     "output_type": "stream",
     "text": [
      "machne precision: 1.1102230246251565e-16\n"
     ]
    }
   ],
   "source": [
    "eps = 1\n",
    "while eps+1 != 1:\n",
    "    eps = eps / 2\n",
    "print(f\"machne precision: {eps}\")    "
   ]
  },
  {
   "cell_type": "markdown",
   "metadata": {},
   "source": [
    "## Q2: Iterations\n",
    "\n",
    "### Part 1\n",
    "\n",
    "To iterate over the tuples, where the _i_-th tuple contains the _i_-th elements of certain sequences, we can use `zip(*sequences)` function.\n",
    "\n",
    "We will iterate over two lists, `names` and `age`, and print out the resulting tuples.\n",
    "\n",
    "  * Start by initializing lists `names = [\"Mary\", \"John\", \"Sarah\"]` and `age = [21, 56, 98]`.\n",
    "  \n",
    "  * Iterate over the tuples containing a name and an age, the `zip(list1, list2)` function might be useful here.\n",
    "  \n",
    "  * Print out formatted strings of the type \"*NAME is AGE years old*\".\n",
    "  \n",
    "\n",
    "### Part 2\n",
    "\n",
    "The function `enumerate(sequence)` returns tuples containing indices of objects in the sequence, and the objects. \n",
    "\n",
    "The `random` module provides tools for working with the random numbers. In particular, `random.randint(start, end)` generates a random number not smaller than `start`, and not bigger than `end`.\n",
    "\n",
    "  * Generate a list of 10 random numbers from 0 to 9.\n",
    "  \n",
    "  * Using the `enumerate(random_list)` function, iterate over the tuples of random numbers and their indices, and print out *\"Match: NUMBER and INDEX\"* if the random number and its index in the list match."
   ]
  },
  {
   "cell_type": "code",
   "execution_count": null,
   "metadata": {},
   "outputs": [
    {
     "name": "stdout",
     "output_type": "stream",
     "text": [
      "Mary is 21 years old\n",
      "John is 56 years old\n",
      "Sarah is 98 years old\n"
     ]
    }
   ],
   "source": [
    "#part 1\n",
    "names = [\"Mary\", \"John\", \"Sarah\"]\n",
    "ages = [21, 56, 98]\n",
    "for (name, age) in zip(names,ages):\n",
    "    print(f\"{name} is {age} years old\")"
   ]
  },
  {
   "cell_type": "code",
   "execution_count": null,
   "metadata": {},
   "outputs": [
    {
     "name": "stdout",
     "output_type": "stream",
     "text": [
      "Match: 8 and 8\n"
     ]
    }
   ],
   "source": [
    "#part 2\n",
    "import random\n",
    "\n",
    "# Generate a list of 10 random numbers from 0 to 9\n",
    "random_list = [random.randint(0, 9) for _ in range(10)]\n",
    "\n",
    "# Using enumerate, iterate over the tuples of random numbers and their indices\n",
    "for index, number in enumerate(random_list):\n",
    "    # Check if the random number matches its index\n",
    "    if index == number:\n",
    "        print(f\"Match: {number} and {index}\")"
   ]
  },
  {
   "cell_type": "markdown",
   "metadata": {},
   "source": [
    "## Q3: Books\n",
    "\n",
    "Here is a list of book titles (from http://thegreatestbooks.org).  Loop through the list and capitalize each word in each title. "
   ]
  },
  {
   "cell_type": "code",
   "execution_count": null,
   "metadata": {},
   "outputs": [],
   "source": [
    "titles = [\"don quixote\", \n",
    "          \"in search of lost time\", \n",
    "          \"ulysses\", \n",
    "          \"the odyssey\", \n",
    "          \"war and piece\", \n",
    "          \"moby dick\", \n",
    "          \"the divine comedy\", \n",
    "          \"hamlet\", \n",
    "          \"the adventures of huckleberry finn\", \n",
    "          \"the great gatsby\"]"
   ]
  },
  {
   "cell_type": "code",
   "execution_count": null,
   "metadata": {},
   "outputs": [
    {
     "name": "stdout",
     "output_type": "stream",
     "text": [
      "Don Quixote\n",
      "In Search Of Lost Time\n",
      "Ulysses\n",
      "The Odyssey\n",
      "War And Piece\n",
      "Moby Dick\n",
      "The Divine Comedy\n",
      "Hamlet\n",
      "The Adventures Of Huckleberry Finn\n",
      "The Great Gatsby\n"
     ]
    }
   ],
   "source": [
    "#looping:\n",
    "for i in range(len(titles)):\n",
    "    titles[i] = ' '.join(word.capitalize() for word in titles[i].split())\n",
    "\n",
    "# Print the updated list of book titles\n",
    "for title in titles:\n",
    "    print(title)"
   ]
  },
  {
   "cell_type": "markdown",
   "metadata": {},
   "source": [
    "## Q4: Word counts\n",
    "\n",
    "Here's some text (the Gettysburg Address).  Our goal is to count how many times each word repeats.  We'll do a brute force method first, and then we'll look a ways to do it more efficiently (and compactly)."
   ]
  },
  {
   "cell_type": "code",
   "execution_count": null,
   "metadata": {},
   "outputs": [],
   "source": [
    "gettysburg_address = \"\"\"\n",
    "Four score and seven years ago our fathers brought forth on this continent, \n",
    "a new nation, conceived in Liberty, and dedicated to the proposition that \n",
    "all men are created equal.\n",
    "\n",
    "Now we are engaged in a great civil war, testing whether that nation, or \n",
    "any nation so conceived and so dedicated, can long endure. We are met on\n",
    "a great battle-field of that war. We have come to dedicate a portion of\n",
    "that field, as a final resting place for those who here gave their lives\n",
    "that that nation might live. It is altogether fitting and proper that we\n",
    "should do this.\n",
    "\n",
    "But, in a larger sense, we can not dedicate -- we can not consecrate -- we\n",
    "can not hallow -- this ground. The brave men, living and dead, who struggled\n",
    "here, have consecrated it, far above our poor power to add or detract.  The\n",
    "world will little note, nor long remember what we say here, but it can never\n",
    "forget what they did here. It is for us the living, rather, to be dedicated\n",
    "here to the unfinished work which they who fought here have thus far so nobly\n",
    "advanced. It is rather for us to be here dedicated to the great task remaining\n",
    "before us -- that from these honored dead we take increased devotion to that\n",
    "cause for which they gave the last full measure of devotion -- that we here\n",
    "highly resolve that these dead shall not have died in vain -- that this\n",
    "nation, under God, shall have a new birth of freedom -- and that government\n",
    "of the people, by the people, for the people, shall not perish from the earth.\n",
    "\"\"\""
   ]
  },
  {
   "cell_type": "markdown",
   "metadata": {},
   "source": [
    "We've already seen the `.split()` method will, by default, split by spaces, so it will split this into words, producing a list:"
   ]
  },
  {
   "cell_type": "code",
   "execution_count": null,
   "metadata": {},
   "outputs": [],
   "source": [
    "ga = gettysburg_address.split()"
   ]
  },
  {
   "cell_type": "code",
   "execution_count": null,
   "metadata": {},
   "outputs": [
    {
     "data": {
      "text/plain": [
       "['Four',\n",
       " 'score',\n",
       " 'and',\n",
       " 'seven',\n",
       " 'years',\n",
       " 'ago',\n",
       " 'our',\n",
       " 'fathers',\n",
       " 'brought',\n",
       " 'forth',\n",
       " 'on',\n",
       " 'this',\n",
       " 'continent,',\n",
       " 'a',\n",
       " 'new',\n",
       " 'nation,',\n",
       " 'conceived',\n",
       " 'in',\n",
       " 'Liberty,',\n",
       " 'and',\n",
       " 'dedicated',\n",
       " 'to',\n",
       " 'the',\n",
       " 'proposition',\n",
       " 'that',\n",
       " 'all',\n",
       " 'men',\n",
       " 'are',\n",
       " 'created',\n",
       " 'equal.',\n",
       " 'Now',\n",
       " 'we',\n",
       " 'are',\n",
       " 'engaged',\n",
       " 'in',\n",
       " 'a',\n",
       " 'great',\n",
       " 'civil',\n",
       " 'war,',\n",
       " 'testing',\n",
       " 'whether',\n",
       " 'that',\n",
       " 'nation,',\n",
       " 'or',\n",
       " 'any',\n",
       " 'nation',\n",
       " 'so',\n",
       " 'conceived',\n",
       " 'and',\n",
       " 'so',\n",
       " 'dedicated,',\n",
       " 'can',\n",
       " 'long',\n",
       " 'endure.',\n",
       " 'We',\n",
       " 'are',\n",
       " 'met',\n",
       " 'on',\n",
       " 'a',\n",
       " 'great',\n",
       " 'battle-field',\n",
       " 'of',\n",
       " 'that',\n",
       " 'war.',\n",
       " 'We',\n",
       " 'have',\n",
       " 'come',\n",
       " 'to',\n",
       " 'dedicate',\n",
       " 'a',\n",
       " 'portion',\n",
       " 'of',\n",
       " 'that',\n",
       " 'field,',\n",
       " 'as',\n",
       " 'a',\n",
       " 'final',\n",
       " 'resting',\n",
       " 'place',\n",
       " 'for',\n",
       " 'those',\n",
       " 'who',\n",
       " 'here',\n",
       " 'gave',\n",
       " 'their',\n",
       " 'lives',\n",
       " 'that',\n",
       " 'that',\n",
       " 'nation',\n",
       " 'might',\n",
       " 'live.',\n",
       " 'It',\n",
       " 'is',\n",
       " 'altogether',\n",
       " 'fitting',\n",
       " 'and',\n",
       " 'proper',\n",
       " 'that',\n",
       " 'we',\n",
       " 'should',\n",
       " 'do',\n",
       " 'this.',\n",
       " 'But,',\n",
       " 'in',\n",
       " 'a',\n",
       " 'larger',\n",
       " 'sense,',\n",
       " 'we',\n",
       " 'can',\n",
       " 'not',\n",
       " 'dedicate',\n",
       " '--',\n",
       " 'we',\n",
       " 'can',\n",
       " 'not',\n",
       " 'consecrate',\n",
       " '--',\n",
       " 'we',\n",
       " 'can',\n",
       " 'not',\n",
       " 'hallow',\n",
       " '--',\n",
       " 'this',\n",
       " 'ground.',\n",
       " 'The',\n",
       " 'brave',\n",
       " 'men,',\n",
       " 'living',\n",
       " 'and',\n",
       " 'dead,',\n",
       " 'who',\n",
       " 'struggled',\n",
       " 'here,',\n",
       " 'have',\n",
       " 'consecrated',\n",
       " 'it,',\n",
       " 'far',\n",
       " 'above',\n",
       " 'our',\n",
       " 'poor',\n",
       " 'power',\n",
       " 'to',\n",
       " 'add',\n",
       " 'or',\n",
       " 'detract.',\n",
       " 'The',\n",
       " 'world',\n",
       " 'will',\n",
       " 'little',\n",
       " 'note,',\n",
       " 'nor',\n",
       " 'long',\n",
       " 'remember',\n",
       " 'what',\n",
       " 'we',\n",
       " 'say',\n",
       " 'here,',\n",
       " 'but',\n",
       " 'it',\n",
       " 'can',\n",
       " 'never',\n",
       " 'forget',\n",
       " 'what',\n",
       " 'they',\n",
       " 'did',\n",
       " 'here.',\n",
       " 'It',\n",
       " 'is',\n",
       " 'for',\n",
       " 'us',\n",
       " 'the',\n",
       " 'living,',\n",
       " 'rather,',\n",
       " 'to',\n",
       " 'be',\n",
       " 'dedicated',\n",
       " 'here',\n",
       " 'to',\n",
       " 'the',\n",
       " 'unfinished',\n",
       " 'work',\n",
       " 'which',\n",
       " 'they',\n",
       " 'who',\n",
       " 'fought',\n",
       " 'here',\n",
       " 'have',\n",
       " 'thus',\n",
       " 'far',\n",
       " 'so',\n",
       " 'nobly',\n",
       " 'advanced.',\n",
       " 'It',\n",
       " 'is',\n",
       " 'rather',\n",
       " 'for',\n",
       " 'us',\n",
       " 'to',\n",
       " 'be',\n",
       " 'here',\n",
       " 'dedicated',\n",
       " 'to',\n",
       " 'the',\n",
       " 'great',\n",
       " 'task',\n",
       " 'remaining',\n",
       " 'before',\n",
       " 'us',\n",
       " '--',\n",
       " 'that',\n",
       " 'from',\n",
       " 'these',\n",
       " 'honored',\n",
       " 'dead',\n",
       " 'we',\n",
       " 'take',\n",
       " 'increased',\n",
       " 'devotion',\n",
       " 'to',\n",
       " 'that',\n",
       " 'cause',\n",
       " 'for',\n",
       " 'which',\n",
       " 'they',\n",
       " 'gave',\n",
       " 'the',\n",
       " 'last',\n",
       " 'full',\n",
       " 'measure',\n",
       " 'of',\n",
       " 'devotion',\n",
       " '--',\n",
       " 'that',\n",
       " 'we',\n",
       " 'here',\n",
       " 'highly',\n",
       " 'resolve',\n",
       " 'that',\n",
       " 'these',\n",
       " 'dead',\n",
       " 'shall',\n",
       " 'not',\n",
       " 'have',\n",
       " 'died',\n",
       " 'in',\n",
       " 'vain',\n",
       " '--',\n",
       " 'that',\n",
       " 'this',\n",
       " 'nation,',\n",
       " 'under',\n",
       " 'God,',\n",
       " 'shall',\n",
       " 'have',\n",
       " 'a',\n",
       " 'new',\n",
       " 'birth',\n",
       " 'of',\n",
       " 'freedom',\n",
       " '--',\n",
       " 'and',\n",
       " 'that',\n",
       " 'government',\n",
       " 'of',\n",
       " 'the',\n",
       " 'people,',\n",
       " 'by',\n",
       " 'the',\n",
       " 'people,',\n",
       " 'for',\n",
       " 'the',\n",
       " 'people,',\n",
       " 'shall',\n",
       " 'not',\n",
       " 'perish',\n",
       " 'from',\n",
       " 'the',\n",
       " 'earth.']"
      ]
     },
     "metadata": {},
     "output_type": "display_data"
    }
   ],
   "source": [
    "ga"
   ]
  },
  {
   "cell_type": "markdown",
   "metadata": {},
   "source": [
    "Now, the next problem is that some of these still have punctuation.  In particular, we see \"`.`\", \"`,`\", and \"`--`\".\n",
    "\n",
    "When considering a word, we can get rid of these by using the `replace()` method:"
   ]
  },
  {
   "cell_type": "code",
   "execution_count": null,
   "metadata": {},
   "outputs": [
    {
     "data": {
      "text/plain": [
       "'end'"
      ]
     },
     "metadata": {},
     "output_type": "display_data"
    }
   ],
   "source": [
    "a = \"end.,\"\n",
    "b = a.replace(\".\", \"\").replace(\",\", \"\")\n",
    "b"
   ]
  },
  {
   "cell_type": "markdown",
   "metadata": {},
   "source": [
    "Another problem is case&mdash;we want to count \"but\" and \"But\" as the same.  Strings have a `lower()` method that can be used to convert a string:"
   ]
  },
  {
   "cell_type": "code",
   "execution_count": null,
   "metadata": {},
   "outputs": [
    {
     "data": {
      "text/plain": [
       "False"
      ]
     },
     "metadata": {},
     "output_type": "display_data"
    }
   ],
   "source": [
    "a = \"But\"\n",
    "b = \"but\"\n",
    "a == b"
   ]
  },
  {
   "cell_type": "code",
   "execution_count": null,
   "metadata": {},
   "outputs": [
    {
     "data": {
      "text/plain": [
       "True"
      ]
     },
     "metadata": {},
     "output_type": "display_data"
    }
   ],
   "source": [
    "a.lower() == b.lower()"
   ]
  },
  {
   "cell_type": "markdown",
   "metadata": {},
   "source": [
    "Recall that strings are immutable, so `replace()` produces a new string on output."
   ]
  },
  {
   "cell_type": "markdown",
   "metadata": {},
   "source": [
    "### Your task\n",
    "\n",
    "Create a dictionary that uses the unique words as keys and has as a value the number of times that word appears.  \n",
    "\n",
    "Write a loop over the words in the string (using our split version) and do the following:\n",
    "  * remove any punctuation\n",
    "  * convert to lowercase\n",
    "  * test if the word is already a key in the dictionary (using the `in` operator)\n",
    "     - if the key exists, increment the word count for that key\n",
    "     - otherwise, add it to the dictionary with the appropriate count of `1`.\n",
    "\n",
    "At the end, print out the words and a count of how many times they appear"
   ]
  },
  {
   "cell_type": "code",
   "execution_count": null,
   "metadata": {},
   "outputs": [
    {
     "name": "stdout",
     "output_type": "stream",
     "text": [
      "{'four': 1, 'score': 1, 'and': 6, 'seven': 1, 'years': 1, 'ago': 1, 'our': 2, 'fathers': 1, 'brought': 1, 'forth': 1, 'on': 2, 'this': 4, 'continent': 1, 'a': 7, 'new': 2, 'nation': 5, 'conceived': 2, 'in': 4, 'liberty': 1, 'dedicated': 4, 'to': 8, 'the': 11, 'proposition': 1, 'that': 13, 'all': 1, 'men': 2, 'are': 3, 'created': 1, 'equal': 1, 'now': 1, 'we': 10, 'engaged': 1, 'great': 3, 'civil': 1, 'war': 2, 'testing': 1, 'whether': 1, 'or': 2, 'any': 1, 'so': 3, 'can': 5, 'long': 2, 'endure': 1, 'met': 1, 'battle-field': 1, 'of': 5, 'have': 5, 'come': 1, 'dedicate': 2, 'portion': 1, 'field': 1, 'as': 1, 'final': 1, 'resting': 1, 'place': 1, 'for': 5, 'those': 1, 'who': 3, 'here': 8, 'gave': 2, 'their': 1, 'lives': 1, 'might': 1, 'live': 1, 'it': 5, 'is': 3, 'altogether': 1, 'fitting': 1, 'proper': 1, 'should': 1, 'do': 1, 'but': 2, 'larger': 1, 'sense': 1, 'not': 5, '--': 7, 'consecrate': 1, 'hallow': 1, 'ground': 1, 'brave': 1, 'living': 2, 'dead': 3, 'struggled': 1, 'consecrated': 1, 'far': 2, 'above': 1, 'poor': 1, 'power': 1, 'add': 1, 'detract': 1, 'world': 1, 'will': 1, 'little': 1, 'note': 1, 'nor': 1, 'remember': 1, 'what': 2, 'say': 1, 'never': 1, 'forget': 1, 'they': 3, 'did': 1, 'us': 3, 'rather': 2, 'be': 2, 'unfinished': 1, 'work': 1, 'which': 2, 'fought': 1, 'thus': 1, 'nobly': 1, 'advanced': 1, 'task': 1, 'remaining': 1, 'before': 1, 'from': 2, 'these': 2, 'honored': 1, 'take': 1, 'increased': 1, 'devotion': 2, 'cause': 1, 'last': 1, 'full': 1, 'measure': 1, 'highly': 1, 'resolve': 1, 'shall': 3, 'died': 1, 'vain': 1, 'under': 1, 'god': 1, 'birth': 1, 'freedom': 1, 'government': 1, 'people': 3, 'by': 1, 'perish': 1, 'earth': 1}\n"
     ]
    }
   ],
   "source": [
    "contate = {}\n",
    "for word in ga:\n",
    "    wordClean = word.replace(\".\", \"\").replace(\",\", \"\")\n",
    "    wordGood = wordClean.lower()\n",
    "    if wordGood in contate:\n",
    "        contate[wordGood] = contate[wordGood] + 1\n",
    "    else:\n",
    "        contate[wordGood] = 1\n",
    "print(contate)            "
   ]
  },
  {
   "cell_type": "markdown",
   "metadata": {},
   "source": [
    "### More compact way\n",
    "\n",
    "We can actually do this a lot more compactly by using another list comprehensions and another python datatype called a set.  A set is a group of items, where each item is unique (e.g., no repetitions)."
   ]
  },
  {
   "cell_type": "markdown",
   "metadata": {},
   "source": [
    "Here's a list comprehension that removes all the punctuation and converts to lower case:"
   ]
  },
  {
   "cell_type": "code",
   "execution_count": null,
   "metadata": {},
   "outputs": [],
   "source": [
    "words = [q.lower().replace(\".\", \"\").replace(\",\", \"\") for q in ga]"
   ]
  },
  {
   "cell_type": "markdown",
   "metadata": {},
   "source": [
    "and by using the `set()` function, we turn the list into a set, removing any duplicates:"
   ]
  },
  {
   "cell_type": "code",
   "execution_count": null,
   "metadata": {},
   "outputs": [],
   "source": [
    "unique_words = set(words)"
   ]
  },
  {
   "cell_type": "markdown",
   "metadata": {},
   "source": [
    "now we can loop over the unique words and use the `count` method of a list to find how many there are"
   ]
  },
  {
   "cell_type": "code",
   "execution_count": null,
   "metadata": {},
   "outputs": [
    {
     "data": {
      "text/plain": [
       "{'died': 1,\n",
       " 'years': 1,\n",
       " 'forth': 1,\n",
       " 'vain': 1,\n",
       " 'last': 1,\n",
       " 'by': 1,\n",
       " 'great': 3,\n",
       " 'take': 1,\n",
       " 'the': 11,\n",
       " 'nobly': 1,\n",
       " 'poor': 1,\n",
       " 'continent': 1,\n",
       " 'task': 1,\n",
       " 'seven': 1,\n",
       " 'do': 1,\n",
       " 'these': 2,\n",
       " 'brave': 1,\n",
       " 'lives': 1,\n",
       " 'our': 2,\n",
       " 'nation': 5,\n",
       " 'earth': 1,\n",
       " 'honored': 1,\n",
       " 'portion': 1,\n",
       " 'devotion': 2,\n",
       " 'civil': 1,\n",
       " 'long': 2,\n",
       " 'work': 1,\n",
       " 'will': 1,\n",
       " 'what': 2,\n",
       " 'unfinished': 1,\n",
       " 'did': 1,\n",
       " 'perish': 1,\n",
       " 'are': 3,\n",
       " 'government': 1,\n",
       " 'it': 5,\n",
       " 'detract': 1,\n",
       " 'dead': 3,\n",
       " 'say': 1,\n",
       " 'increased': 1,\n",
       " 'resting': 1,\n",
       " 'score': 1,\n",
       " 'gave': 2,\n",
       " 'dedicated': 4,\n",
       " 'note': 1,\n",
       " 'field': 1,\n",
       " 'of': 5,\n",
       " 'live': 1,\n",
       " 'come': 1,\n",
       " 'shall': 3,\n",
       " 'engaged': 1,\n",
       " 'proper': 1,\n",
       " 'advanced': 1,\n",
       " 'consecrated': 1,\n",
       " 'should': 1,\n",
       " 'all': 1,\n",
       " 'those': 1,\n",
       " 'consecrate': 1,\n",
       " 'might': 1,\n",
       " 'here': 8,\n",
       " 'fathers': 1,\n",
       " 'larger': 1,\n",
       " 'nor': 1,\n",
       " 'fitting': 1,\n",
       " 'birth': 1,\n",
       " 'never': 1,\n",
       " 'us': 3,\n",
       " 'four': 1,\n",
       " 'world': 1,\n",
       " 'living': 2,\n",
       " 'in': 4,\n",
       " 'proposition': 1,\n",
       " 'equal': 1,\n",
       " 'can': 5,\n",
       " 'not': 5,\n",
       " 'far': 2,\n",
       " 'freedom': 1,\n",
       " 'but': 2,\n",
       " 'and': 6,\n",
       " 'before': 1,\n",
       " 'for': 5,\n",
       " 'now': 1,\n",
       " 'above': 1,\n",
       " 'rather': 2,\n",
       " 'conceived': 2,\n",
       " 'their': 1,\n",
       " 'met': 1,\n",
       " 'liberty': 1,\n",
       " 'ago': 1,\n",
       " 'testing': 1,\n",
       " 'dedicate': 2,\n",
       " 'forget': 1,\n",
       " 'measure': 1,\n",
       " 'is': 3,\n",
       " 'whether': 1,\n",
       " 'new': 2,\n",
       " 'add': 1,\n",
       " 'be': 2,\n",
       " 'little': 1,\n",
       " 'as': 1,\n",
       " 'place': 1,\n",
       " 'battle-field': 1,\n",
       " 'who': 3,\n",
       " 'so': 3,\n",
       " 'final': 1,\n",
       " 'ground': 1,\n",
       " 'god': 1,\n",
       " 'altogether': 1,\n",
       " 'war': 2,\n",
       " 'this': 4,\n",
       " 'men': 2,\n",
       " 'power': 1,\n",
       " 'remaining': 1,\n",
       " 'created': 1,\n",
       " 'they': 3,\n",
       " 'which': 2,\n",
       " 'on': 2,\n",
       " 'any': 1,\n",
       " 'struggled': 1,\n",
       " 'hallow': 1,\n",
       " 'have': 5,\n",
       " 'fought': 1,\n",
       " 'cause': 1,\n",
       " 'resolve': 1,\n",
       " 'under': 1,\n",
       " 'full': 1,\n",
       " 'highly': 1,\n",
       " 'endure': 1,\n",
       " 'from': 2,\n",
       " '--': 7,\n",
       " 'sense': 1,\n",
       " 'a': 7,\n",
       " 'to': 8,\n",
       " 'we': 10,\n",
       " 'that': 13,\n",
       " 'thus': 1,\n",
       " 'people': 3,\n",
       " 'or': 2,\n",
       " 'remember': 1,\n",
       " 'brought': 1}"
      ]
     },
     "metadata": {},
     "output_type": "display_data"
    }
   ],
   "source": [
    "count = {}\n",
    "for uw in unique_words:\n",
    "    count[uw] = words.count(uw)\n",
    "    \n",
    "count"
   ]
  },
  {
   "cell_type": "markdown",
   "metadata": {},
   "source": [
    "Even shorter -- we can use a dictionary comprehension, like a list comprehension"
   ]
  },
  {
   "cell_type": "code",
   "execution_count": null,
   "metadata": {},
   "outputs": [],
   "source": [
    "c = {uw: count[uw] for uw in unique_words}"
   ]
  },
  {
   "cell_type": "code",
   "execution_count": null,
   "metadata": {},
   "outputs": [
    {
     "data": {
      "text/plain": [
       "{'died': 1,\n",
       " 'years': 1,\n",
       " 'forth': 1,\n",
       " 'vain': 1,\n",
       " 'last': 1,\n",
       " 'by': 1,\n",
       " 'great': 3,\n",
       " 'take': 1,\n",
       " 'the': 11,\n",
       " 'nobly': 1,\n",
       " 'poor': 1,\n",
       " 'continent': 1,\n",
       " 'task': 1,\n",
       " 'seven': 1,\n",
       " 'do': 1,\n",
       " 'these': 2,\n",
       " 'brave': 1,\n",
       " 'lives': 1,\n",
       " 'our': 2,\n",
       " 'nation': 5,\n",
       " 'earth': 1,\n",
       " 'honored': 1,\n",
       " 'portion': 1,\n",
       " 'devotion': 2,\n",
       " 'civil': 1,\n",
       " 'long': 2,\n",
       " 'work': 1,\n",
       " 'will': 1,\n",
       " 'what': 2,\n",
       " 'unfinished': 1,\n",
       " 'did': 1,\n",
       " 'perish': 1,\n",
       " 'are': 3,\n",
       " 'government': 1,\n",
       " 'it': 5,\n",
       " 'detract': 1,\n",
       " 'dead': 3,\n",
       " 'say': 1,\n",
       " 'increased': 1,\n",
       " 'resting': 1,\n",
       " 'score': 1,\n",
       " 'gave': 2,\n",
       " 'dedicated': 4,\n",
       " 'note': 1,\n",
       " 'field': 1,\n",
       " 'of': 5,\n",
       " 'live': 1,\n",
       " 'come': 1,\n",
       " 'shall': 3,\n",
       " 'engaged': 1,\n",
       " 'proper': 1,\n",
       " 'advanced': 1,\n",
       " 'consecrated': 1,\n",
       " 'should': 1,\n",
       " 'all': 1,\n",
       " 'those': 1,\n",
       " 'consecrate': 1,\n",
       " 'might': 1,\n",
       " 'here': 8,\n",
       " 'fathers': 1,\n",
       " 'larger': 1,\n",
       " 'nor': 1,\n",
       " 'fitting': 1,\n",
       " 'birth': 1,\n",
       " 'never': 1,\n",
       " 'us': 3,\n",
       " 'four': 1,\n",
       " 'world': 1,\n",
       " 'living': 2,\n",
       " 'in': 4,\n",
       " 'proposition': 1,\n",
       " 'equal': 1,\n",
       " 'can': 5,\n",
       " 'not': 5,\n",
       " 'far': 2,\n",
       " 'freedom': 1,\n",
       " 'but': 2,\n",
       " 'and': 6,\n",
       " 'before': 1,\n",
       " 'for': 5,\n",
       " 'now': 1,\n",
       " 'above': 1,\n",
       " 'rather': 2,\n",
       " 'conceived': 2,\n",
       " 'their': 1,\n",
       " 'met': 1,\n",
       " 'liberty': 1,\n",
       " 'ago': 1,\n",
       " 'testing': 1,\n",
       " 'dedicate': 2,\n",
       " 'forget': 1,\n",
       " 'measure': 1,\n",
       " 'is': 3,\n",
       " 'whether': 1,\n",
       " 'new': 2,\n",
       " 'add': 1,\n",
       " 'be': 2,\n",
       " 'little': 1,\n",
       " 'as': 1,\n",
       " 'place': 1,\n",
       " 'battle-field': 1,\n",
       " 'who': 3,\n",
       " 'so': 3,\n",
       " 'final': 1,\n",
       " 'ground': 1,\n",
       " 'god': 1,\n",
       " 'altogether': 1,\n",
       " 'war': 2,\n",
       " 'this': 4,\n",
       " 'men': 2,\n",
       " 'power': 1,\n",
       " 'remaining': 1,\n",
       " 'created': 1,\n",
       " 'they': 3,\n",
       " 'which': 2,\n",
       " 'on': 2,\n",
       " 'any': 1,\n",
       " 'struggled': 1,\n",
       " 'hallow': 1,\n",
       " 'have': 5,\n",
       " 'fought': 1,\n",
       " 'cause': 1,\n",
       " 'resolve': 1,\n",
       " 'under': 1,\n",
       " 'full': 1,\n",
       " 'highly': 1,\n",
       " 'endure': 1,\n",
       " 'from': 2,\n",
       " '--': 7,\n",
       " 'sense': 1,\n",
       " 'a': 7,\n",
       " 'to': 8,\n",
       " 'we': 10,\n",
       " 'that': 13,\n",
       " 'thus': 1,\n",
       " 'people': 3,\n",
       " 'or': 2,\n",
       " 'remember': 1,\n",
       " 'brought': 1}"
      ]
     },
     "metadata": {},
     "output_type": "display_data"
    }
   ],
   "source": [
    "c"
   ]
  }
 ],
 "metadata": {
  "language_info": {
   "name": "python"
  }
 },
 "nbformat": 4,
 "nbformat_minor": 2
}
