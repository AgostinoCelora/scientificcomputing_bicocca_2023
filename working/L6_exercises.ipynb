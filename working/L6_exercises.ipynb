{
 "cells": [
  {
   "cell_type": "markdown",
   "metadata": {},
   "source": [
    "# A1: my project\n",
    "https://gitlab.com/agostino.celora/REVOLT \n",
    "\n",
    "This is the main project from my master thesis that I'm still working on (publishing and expanding the algorithm). It is a bit messy because I started using gitlab with this project so I made a mess few times, and I'm still using it not in the proper way."
   ]
  },
  {
   "cell_type": "markdown",
   "metadata": {},
   "source": [
    "# A2: ditch overleaf\n",
    "https://github.com/AgostinoCelora/write_latex\n",
    "I've exported the tamplate provided and modified to produce papers on a journal that is usually used in my field: JINST. I started the draft of the next possible paper "
   ]
  },
  {
   "cell_type": "markdown",
   "metadata": {},
   "source": []
  }
 ],
 "metadata": {
  "language_info": {
   "name": "python"
  }
 },
 "nbformat": 4,
 "nbformat_minor": 2
}
