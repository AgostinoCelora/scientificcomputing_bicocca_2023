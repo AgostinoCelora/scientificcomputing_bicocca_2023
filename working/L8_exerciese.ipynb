{
 "cells": [
  {
   "cell_type": "markdown",
   "metadata": {},
   "source": [
    "# Exercise\n",
    "\n",
    "For the exams work on at least two of the these three exercises\n",
    "\n",
    "## Q1: I love pip \n",
    "\n",
    "- Take a piece of python code you wrote (for instance pick one of the exercises you've done for this class). \n",
    "- Turn it into a module\n",
    "- Install it locally\n",
    "- Deploy on pypi (only using the test-pypi server!)\n",
    "\n",
    "<div class=\"alert alert-block alert-warning\">\n",
    "<span class=\"fa fa-flash\"></span> VERY IMPORTANT\n",
    "    \n",
    "Both the pypi and test-pypi server are public on the web! Don't compromise your research by putting up something your competitors can use and steal your idea before you've published a paper on it!!! \n",
    "\n",
    "</div>\n"
   ]
  },
  {
   "cell_type": "markdown",
   "metadata": {},
   "source": [
    "I've Uploaded L8module on pip, with the simple Marov Chain program"
   ]
  },
  {
   "cell_type": "markdown",
   "metadata": {},
   "source": [
    "## Q3: How do professionals do it?\n",
    "Pick a big git repo, say [scipy](https://github.com/scipy/scipy) or [numpy](https://github.com/numpy/numpy),  and have a look at their development workflow, including their testing strategies."
   ]
  },
  {
   "cell_type": "markdown",
   "metadata": {},
   "source": [
    "Here a report of one of the workflows:\n",
    "\n",
    "The Linux.yml workflow within the numpy repository on GitHub orchestrates a series of essential tasks spanning testing, linting, building, and benchmarking to maintain the robustness and performance of the numpy library. \n",
    "\n",
    "    Linting:\n",
    "        Utilizes a linter to scrutinize the code for adherence to coding standards, style consistency, and bug detection.\n",
    "        Executes specifically when the event isn't a direct push, such as during pull requests, ensuring code quality is maintained during collaborative projects.\n",
    "\n",
    "    Smoke Testing:\n",
    "        Conducts initial tests to verify the fundamental functionalities of the codebase.\n",
    "        Crucially ensures successful compilation and operation on a new, isolated environment, assuring baseline functionality.\n",
    "\n",
    "    PyPy Testing:\n",
    "        Evaluates numpy's compatibility and performance under the PyPy interpreter.\n",
    "        Configured to work with specific Python versions for comprehensive testing coverage.\n",
    "\n",
    "    Debug Testing:\n",
    "        Sets up a debug Python environment and constructs numpy in debug mode to facilitate more detailed analysis and error tracing.\n",
    "        Executes tests with enhanced debug information enabled to pinpoint and rectify issues effectively.\n",
    "\n",
    "    Full Testing:\n",
    "        Initiates the creation of a distributable wheel package for numpy, followed by its installation and execution of the complete test suite.\n",
    "\n",
    "    Benchmark Testing:\n",
    "        Executes performance benchmarks to assess numpy's efficiency under various workloads.\n",
    "        Utilizing ASV, it orchestrates benchmark executions and facilitates performance comparison across different configurations.\n",
    "\n",
    "    Source Distribution:\n",
    "        Generates wheel distributions directly from numpy's source distribution.\n",
    "        Subsequently installs the created wheel and executes the test suite to validate functionality and compatibility.\n",
    "\n",
    "    Array API Tests:\n",
    "        Validates numpy's compatibility with the Array API tests, ensuring adherence to established standards.\n",
    "        Enables comparison between numpy and the Array API to detect and solve any discrepancies.\n",
    "\n",
    "    Custom Checks:\n",
    "        Implements tailored checks to further analyze the codebase for specific issues such as missing dependencies and identification of unreachable code paths."
   ]
  },
  {
   "cell_type": "markdown",
   "metadata": {},
   "source": []
  }
 ],
 "metadata": {
  "language_info": {
   "name": "python"
  }
 },
 "nbformat": 4,
 "nbformat_minor": 2
}
