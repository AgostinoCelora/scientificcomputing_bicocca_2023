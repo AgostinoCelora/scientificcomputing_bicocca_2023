{
 "cells": [
  {
   "cell_type": "code",
   "execution_count": null,
   "metadata": {},
   "outputs": [],
   "source": []
  },
  {
   "cell_type": "markdown",
   "metadata": {},
   "source": [
    "## Q1: Fun with arrays\n",
    "\n",
    "**A.**  Create the array: \n",
    "```\n",
    "[[1,  6, 11],\n",
    " [2,  7, 12],\n",
    " [3,  8, 13],\n",
    " [4,  9, 14],\n",
    " [5, 10, 15]]\n",
    "```\n",
    "with out explicitly typing it in.\n",
    "\n",
    "Now create a new array containing only its 2nd and 4th rows.\n",
    "\n",
    "\n",
    "**B.** Create a 2d array with `1` on the border and `0` on the inside, e.g., like:\n",
    "```\n",
    "1 1 1 1 1\n",
    "1 0 0 0 1\n",
    "1 0 0 0 1\n",
    "1 1 1 1 1\n",
    "```\n",
    "\n",
    "Do this using array slice notation to let it work for an arbitrary-sized array"
   ]
  },
  {
   "cell_type": "code",
   "execution_count": null,
   "metadata": {},
   "outputs": [
    {
     "name": "stdout",
     "output_type": "stream",
     "text": [
      "(5, 3)\n",
      "A:\n",
      "[[ 1  6 11]\n",
      " [ 2  7 12]\n",
      " [ 3  8 13]\n",
      " [ 4  9 14]\n",
      " [ 5 10 15]]\n",
      "second and fourth rows:\n",
      "[[ 2  7 12]\n",
      " [ 4  9 14]]\n"
     ]
    }
   ],
   "source": [
    "import numpy as np\n",
    "\n",
    "A = np.array([[j + i*5+1  for i in range(3)] for j in range(5)])\n",
    "print(A.shape)\n",
    "print(f\"A:\\n{A}\")\n",
    "print(f\"second and fourth rows:\\n{A[[1,3]]}\")"
   ]
  },
  {
   "cell_type": "markdown",
   "metadata": {},
   "source": [
    "## Q4: Bootstraps\n",
    "\n",
    "Boostrapping is a prominent statistical tecnique to estimate errors when you're stuck and don't know what else to o: https://erikjanvankesteren.nl/blog/2018-03-01-baron-bootstrap.html\n",
    "\n",
    "Generate a 1D array (say from a Gaussian, but then add some outliers for fun). Compute the bootstrapped 95% confidence intervals for the mean of that array (i.e., resample the elements of an array with replacement N times, compute the mean of each sample, and then compute percentiles over the means). "
   ]
  },
  {
   "cell_type": "code",
   "execution_count": null,
   "metadata": {},
   "outputs": [],
   "source": [
    "\n",
    "def bootstrap_confidence_intervals(data, num_bootstrap_samples=5000, confidence_level=0.95):\n",
    "    bootMeans = []\n",
    "    for _ in range(num_bootstrap_samples):\n",
    "        bootSample = np.random.choice(data, size= int(len(data)/10), replace=True)\n",
    "        bootMeans.append(np.mean(bootSample))\n",
    "        lowPerc = (1 - confidence_level) / 2 * 100\n",
    "        upPerc = 100 - lowPerc\n",
    "        lower_confidence_interval = np.percentile(bootMeans, lowPerc)\n",
    "        upper_confidence_interval = np.percentile(bootMeans, upPerc)\n",
    "    return lower_confidence_interval, upper_confidence_interval        "
   ]
  },
  {
   "cell_type": "code",
   "execution_count": null,
   "metadata": {},
   "outputs": [
    {
     "name": "stdout",
     "output_type": "stream",
     "text": [
      "Bootstrapped 95% confidence intervals for the mean:\n",
      "Lower CI: 99.55744471863855\n",
      "Upper CI: 104.18233184622282\n"
     ]
    }
   ],
   "source": [
    "mean = 100\n",
    "std_dev = 10\n",
    "numSamples = 1000\n",
    "numOutliers = 50\n",
    "data = np.random.normal(mean, std_dev, numSamples) #now it's gaussian\n",
    "\n",
    "outliers = np.random.uniform(120, 150, numOutliers) #outliers as uniform ditribution added to the gaussian\n",
    "data = np.concatenate([data, outliers])\n",
    "lower_ci, upper_ci = bootstrap_confidence_intervals(data)\n",
    "\n",
    "print(\"Bootstrapped 95% confidence intervals for the mean:\")\n",
    "print(\"Lower CI:\", lower_ci)\n",
    "print(\"Upper CI:\", upper_ci)\n"
   ]
  }
 ],
 "metadata": {
  "language_info": {
   "name": "python"
  }
 },
 "nbformat": 4,
 "nbformat_minor": 2
}
