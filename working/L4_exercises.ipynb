{
 "cells": [
  {
   "cell_type": "markdown",
   "metadata": {},
   "source": [
    "## Q5: Planetary orbits\n",
    "\n",
    "We want to consider planetary orbits.  To do this, we need to solve Newton's second law together with Newton's law of gravity.  If we restrict ourselves to the x-y plane, then there are 4 quantities we need to solve for: $x$, $y$, $v_x$, and $v_y$.  These evolve according to:\n",
    "\n",
    "\\begin{align*}\n",
    "\\frac{dx}{dt} &= v_x \\\\\n",
    "\\frac{dy}{dt} &= v_y \\\\\n",
    "\\frac{dv_x}{dt} &= a_x = -\\frac{GM_\\star x}{r^3} \\\\\n",
    "\\frac{dv_y}{dt} &= a_y = -\\frac{GM_\\star y}{r^3}\n",
    "\\end{align*}\n",
    "\n",
    "To integrate these forward in time, we need an initial condition for each quantity.  We'll setup our system such that the Sun is at the origin (that will be one focus), and the planet begins at perihelion and orbits counterclockwise. \n",
    "\n",
    "![orbit_setup.png](attachment:orbit_setup.png)\n",
    "\n",
    "The distance of perihelion from the focus is:\n",
    "\n",
    "$$r_p = a (1 - e)$$\n",
    "\n",
    "where $a$ is the semi-major axis and $e$ is the eccentricity.  The perihelion velocity is all in the $y$ direction and is:\n",
    "\n",
    "$$v_y = v_p = \\sqrt{\\frac{GM_\\star}{a} \\frac{1+e}{1-e}}$$\n",
    "\n",
    "We'll work in units of AU, years, and solar masses, in which case, $GM_\\star = 4\\pi^2$ (for the Sun).  \n",
    "\n",
    "Your initial conditions should be:\n",
    "\n",
    "  * $x(t=0) = r_p$\n",
    "  * $y(t=0) = 0$\n",
    "  * $v_x(t=0) = 0$\n",
    "  * $v_y(t=0) = v_p$"
   ]
  },
  {
   "cell_type": "code",
   "execution_count": null,
   "metadata": {},
   "outputs": [],
   "source": [
    "import numpy as np\n",
    "from scipy.integrate import solve_ivp\n",
    "import matplotlib.pyplot as plt\n",
    "from scipy import integrate\n",
    " \n",
    "def rhs(t,coord):# coord = x y vx vy\n",
    "    r = np.sqrt(coord[0]**2 + coord[1]**2)  # Distance from the Sun\n",
    "    xdot = coord[2]\n",
    "    ydot = coord[3]\n",
    "    vxdot = -(4*np.pi**2 * coord[0]) / r**3\n",
    "    vydot = -(4*np.pi**2 * coord[1]) / r**3\n",
    "    return np.array([xdot, ydot, vxdot, vydot])\n",
    "\n",
    "def ode_integrate(coord0,dt,tmax,method = \"RK45\"):\n",
    "    r = integrate.solve_ivp(rhs, (0.0,tmax), coord0, method=method, dense_output=True)\n",
    "    ts = np.arange(0.0,tmax,dt)\n",
    "    Xs = r.sol(ts)\n",
    "    return ts,Xs\n",
    "\n",
    "#starting values\n",
    "rp = 0.5  # Perihelion distance in AU\n",
    "e = 0.5  # Eccentricity\n",
    "a = rp / (1 - e)  # Semi-major axis\n",
    "vp = np.sqrt( (4 * np.pi**2 / a) * (1 + e)  / (1 - e))  # Perihelion velocity in AU/year\n",
    "\n",
    "x0 = rp\n",
    "y0 = 0\n",
    "vx0 = 0\n",
    "vy0 = vp\n",
    "coord0 = [x0, y0, vx0, vy0]\n",
    "\n",
    "t, Xa = ode_integrate(coord0, 0.01,20,method = \"RK45\")#ten orbits\n",
    "t, Xb = ode_integrate(coord0, 0.01,100, method = \"DOP853\")#ten orbits\n",
    "\n",
    "# Plot the trajectory of the planet\n",
    "fig = plt.figure()\n",
    "ax = fig.add_subplot(111)\n",
    "\n",
    "ax.plot(Xa[0,:], Xa[1,:], label = \"Runge-Kutta at 5th order, 20 revolutions\")\n",
    "ax.plot(Xb[0,:], Xb[1,:], label = \"Runge-Kutta at 8th order, 100 revolutions\") #increasing the order gives better precision, even if no constants of motion are strictly preserved and the solution eventually diverge\n",
    "ax.set_title(\"Planetary orbit\")\n",
    "ax.set_xlabel(\"x [AU]\")\n",
    "ax.set_ylabel(\"y [AU]\")\n",
    "ax.grid()\n",
    "ax.legend()"
   ]
  },
  {
   "cell_type": "markdown",
   "metadata": {},
   "source": [
    "# Q7 Noisy signal"
   ]
  },
  {
   "cell_type": "code",
   "execution_count": null,
   "metadata": {},
   "outputs": [],
   "source": [
    "def fdata(x, L):\n",
    "    A = L/10.0\n",
    "    return 2*np.sin(2*np.pi*x/L) + x*(L-x)**2/L**3 * np.cos(x) + \\\n",
    "           5*x*(L-x)/L**2 + A/2 + 0.1*A*np.sin(13*np.pi*x/L)\n",
    "\n",
    "N = 2048\n",
    "L = 50.0\n",
    "x = np.linspace(0, L, N, endpoint=False)\n",
    "orig = fdata(x, L)\n",
    "print(orig)\n",
    "noisy = orig + 0.5*np.random.randn(N)"
   ]
  },
  {
   "cell_type": "code",
   "execution_count": null,
   "metadata": {},
   "outputs": [],
   "source": [
    "plt.plot(x, noisy)\n",
    "plt.plot(x, orig)"
   ]
  },
  {
   "cell_type": "code",
   "execution_count": null,
   "metadata": {},
   "outputs": [],
   "source": [
    "from scipy.signal import convolve, gaussian\n",
    "\n",
    "sigmas = [int(N/1e3),int(N/5e2),int(N/1e2)]\n",
    "smoothed = {}\n",
    "for sigma in sigmas:\n",
    "    gaussian_kernel = gaussian(N, sigma)\n",
    "    gaussian_kernel /= np.sum(gaussian_kernel) #normalizzazion\n",
    "    smoothed_data = convolve(noisy, gaussian_kernel, mode='same') \n",
    "    smoothed[str(sigma)] = smoothed_data\n",
    "\n",
    "plt.figure(figsize=(10, 6))\n",
    "plt.plot(x, noisy, label='Original Data')\n",
    "for sigma, smoothed in smoothed.items():\n",
    "    plt.plot(x, smoothed, label=f'Smoothed (sigma={sigma})', linestyle='-')\n",
    "plt.title('Smoothing Noisy Data with Convolution')\n",
    "plt.xlabel('x')\n",
    "plt.ylabel('y')\n",
    "plt.legend()\n",
    "plt.show()"
   ]
  }
 ],
 "metadata": {
  "language_info": {
   "name": "python"
  }
 },
 "nbformat": 4,
 "nbformat_minor": 2
}
