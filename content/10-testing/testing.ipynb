{
  "cells": [
    {
      "cell_type": "markdown",
      "metadata": {},
      "source": [
        "# Testing\n",
        "\n",
        "Testing is an integral part of the software development process.  We want to catch\n",
        "mistakes early, before the go on to affect our results.\n",
        "\n",
        "## Types of testing\n",
        "\n",
        "There are a lot of different types of software testing that exist.\n",
        "Most commonly, for scientific codes, we hear about:\n",
        "\n",
        "* Unit testing : Tests that a single function does what it was designed to do\n",
        "\n",
        "* Integration testing : Tests whether the individual pieces work together as intended.\n",
        "  Sometimes done one piece at a time (iteratively)\n",
        "\n",
        "* Regression testing : Checks whether changes have changed answers\n",
        "\n",
        "* Verification & Validation (from the science perspective)\n",
        "\n",
        "  * Verification: are we solving the equations correctly?\n",
        "\n",
        "  * Validation: are we solving the correct equations?\n",
        "\n",
        "## Automating testing\n",
        "\n",
        "The best testing is automated.  Github provides a *continuous integration* service that can\n",
        "be run on pull requests.  You write a short definition (a Github workflow) that tells Github\n",
        "how to run your tests and then any time there is a change, the tests are run.\n",
        "\n",
        "## Unit testing\n",
        "\n",
        "* When to write tests?\n",
        "\n",
        "  * Some people advocate writing a unit test for a specification\n",
        "    before you write the functions they will test\n",
        "\n",
        "    * This is called Test-driven development (TDD):\n",
        "      https://en.wikipedia.org/wiki/Test-driven_development\n",
        "\n",
        "  * This helps you understand the interface, return values,\n",
        "    side-effects, etc. of what you intend to write\n",
        "\n",
        "* Often we already have code, so we can start by writing tests to\n",
        "  cover some core functionality\n",
        "\n",
        "  * Add new tests when you encounter a bug, precisely to ensure that\n",
        "    this bug doesn\u00e2\u20ac\u2122t arise again\n",
        "\n",
        "* Tests should be short\n",
        "\n",
        "  * You want to be able to run them frequently\n",
        "\n",
        "\n",
        "\n"
      ]
    }
  ],
  "metadata": {
    "kernelspec": {
      "display_name": "Python 3",
      "language": "python",
      "name": "python3"
    },
    "language_info": {
      "codemirror_mode": {
        "name": "ipython",
        "version": 3
      },
      "file_extension": ".py",
      "mimetype": "text/x-python",
      "name": "python",
      "nbconvert_exporter": "python",
      "pygments_lexer": "ipython3",
      "version": "3.7.8"
    }
  },
  "nbformat": 4,
  "nbformat_minor": 4
}