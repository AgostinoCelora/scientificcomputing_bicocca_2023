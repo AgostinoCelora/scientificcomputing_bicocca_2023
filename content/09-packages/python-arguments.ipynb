{
  "cells": [
    {
      "cell_type": "markdown",
      "metadata": {},
      "source": [
        "# Command line arguments\n",
        "\n",
        "For standalone programs, we often want to have our program take\n",
        "command line arguments that affect the runtime behavior of our\n",
        "program.  There are a variety of mechanisms to do this in python, but\n",
        "the best option is the [argparse\n",
        "module](https://docs.python.org/3/library/argparse.html).\n",
        "\n",
        "Here's an example of using `argparse` to take a variety of options:\n",
        "\n",
        "```{literalinclude} argparse_example.py\n",
        "---\n",
        "language: python\n",
        "```\n",
        "\n",
        "A nice feature of `argparse` is that it automatically generates help for us.  If\n",
        "we place the above code in `argparse_example.py` then we can do:\n",
        "\n",
        "```python\n",
        "python argparse_example.py --help\n",
        "```\n"
      ]
    }
  ],
  "metadata": {
    "kernelspec": {
      "display_name": "Python 3",
      "language": "python",
      "name": "python3"
    },
    "language_info": {
      "codemirror_mode": {
        "name": "ipython",
        "version": 3
      },
      "file_extension": ".py",
      "mimetype": "text/x-python",
      "name": "python",
      "nbconvert_exporter": "python",
      "pygments_lexer": "ipython3",
      "version": "3.7.8"
    }
  },
  "nbformat": 4,
  "nbformat_minor": 4
}