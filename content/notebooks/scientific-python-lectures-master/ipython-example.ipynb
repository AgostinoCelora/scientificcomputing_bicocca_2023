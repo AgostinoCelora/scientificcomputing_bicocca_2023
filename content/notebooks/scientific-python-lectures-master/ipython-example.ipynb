{
 "metadata": {
  "name": "ipython-example"
 },
 "nbformat": 3,
 "nbformat_minor": 0,
 "worksheets": [
  {
   "cells": [
    {
     "cell_type": "heading",
     "level": 1,
     "metadata": {},
     "source": [
      "Simple IPython demonstration notebook"
     ]
    },
    {
     "cell_type": "raw",
     "metadata": {},
     "source": [
      "here we explore some of IPython's features.\n",
      "\n",
      "One useful thing is to enable inline plots through the matplotlib library"
     ]
    },
    {
     "cell_type": "code",
     "collapsed": false,
     "input": [
      "%pylab inline"
     ],
     "language": "python",
     "metadata": {},
     "outputs": [
      {
       "output_type": "stream",
       "stream": "stdout",
       "text": [
        "\n",
        "Welcome to pylab, a matplotlib-based Python environment [backend: module://IPython.zmq.pylab.backend_inline].\n",
        "For more information, type 'help(pylab)'.\n"
       ]
      }
     ],
     "prompt_number": 1
    },
    {
     "cell_type": "raw",
     "metadata": {},
     "source": [
      "Now we'll define a simple python class that defines a circle and the x,y coordinates needed to draw it"
     ]
    },
    {
     "cell_type": "code",
     "collapsed": false,
     "input": [
      "class circle:\n",
      "    def __init__(self, r, Npts=100):\n",
      "        theta = numpy.linspace(0.0, 2.0*math.pi, num=Npts)\n",
      "        self.x = r*numpy.cos(theta)\n",
      "        self.y = r*numpy.sin(theta)\n"
     ],
     "language": "python",
     "metadata": {},
     "outputs": [],
     "prompt_number": 2
    },
    {
     "cell_type": "code",
     "collapsed": false,
     "input": [
      "a = circle(10)"
     ],
     "language": "python",
     "metadata": {},
     "outputs": [],
     "prompt_number": 3
    },
    {
     "cell_type": "code",
     "collapsed": false,
     "input": [
      "pylab.plot(a.x, a.y)"
     ],
     "language": "python",
     "metadata": {},
     "outputs": [
      {
       "output_type": "pyout",
       "prompt_number": 5,
       "text": [
        "[<matplotlib.lines.Line2D at 0x405db90>]"
       ]
      },
      {
       "output_type": "display_data",
       "png": "[encoded data removed]"
      }
     ],
     "prompt_number": 5
    },
    {
     "cell_type": "code",
     "collapsed": false,
     "input": [],
     "language": "python",
     "metadata": {},
     "outputs": []
    }
   ],
   "metadata": {}
  }
 ]
}