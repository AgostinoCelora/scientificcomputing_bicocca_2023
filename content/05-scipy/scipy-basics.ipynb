{
 "cells": [
  {
   "cell_type": "code",
   "execution_count": null,
   "metadata": {},
   "outputs": [],
   "source": [
    "import numpy as np\n",
    "import matplotlib.pyplot as plt"
   ]
  },
  {
   "cell_type": "markdown",
   "metadata": {},
   "source": [
    "# SciPy\n",
    "\n",
    "SciPy is a collection of numerical algorithms with python interfaces.  In many cases, these interfaces are wrappers around standard numerical libraries that have been developed in the community and are used with other languages.  Usually detailed references are available to explain the implementation.\n",
    "\n",
    "There are many subpackages generally, you load the subpackages separately, e.g.\n",
    "\n",
    "```\n",
    "from scipy import linalg, optimize\n",
    "```\n",
    "then you have access to the methods in those namespaces\n"
   ]
  },
  {
   "cell_type": "markdown",
   "metadata": {},
   "source": [
    "## Numerical Methods \n",
    "\n",
    "One thing to keep in mind -- all numerical methods have strengths and weaknesses, and make assumptions.  You should always do some research into the method to understand what it is doing.\n",
    "\n",
    "It is also always a good idea to run a new method on some test where you know the answer, to make sure it is behaving as expected."
   ]
  },
  {
   "cell_type": "markdown",
   "metadata": {},
   "source": [
    "## Integration"
   ]
  },
  {
   "cell_type": "markdown",
   "metadata": {},
   "source": [
    "we'll do some integrals of the form\n",
    "\n",
    "$$I = \\int_a^b f(x) dx$$\n",
    "\n",
    "We can imagine two situations:\n",
    "* our function $f(x)$ is given by an analytic expression.  This gives us the freedom to pick our integration points, and in general can allow us to optimize our result and get high accuracy\n",
    "* our function $f(x)$ is defined on at a set of (possibly regular spaced) points.  \n",
    "\n",
    "In numerical analysis, the term _quadrature_ is used to describe any integration method that represents the integral as the weighted sum of a discrete number of points."
   ]
  },
  {
   "cell_type": "code",
   "execution_count": null,
   "metadata": {},
   "outputs": [],
   "source": [
    "from scipy import integrate\n",
    "#help(integrate)"
   ]
  },
  {
   "cell_type": "markdown",
   "metadata": {},
   "source": [
    "quad is the basic integrator for a general (not sampled) function.  It uses a general-interface from the Fortran package QUADPACK (QAGS or QAGI).  It will return the integral in an interval and an estimate of the error in the approximation"
   ]
  },
  {
   "cell_type": "code",
   "execution_count": null,
   "metadata": {},
   "outputs": [],
   "source": [
    "def f(x):\n",
    "    return np.sin(x)**2"
   ]
  },
  {
   "cell_type": "code",
   "execution_count": null,
   "metadata": {},
   "outputs": [],
   "source": [
    "I, err = integrate.quad(f, 0.0, 2.0*np.pi, epsabs=1.e-14)\n",
    "print(I)\n",
    "print(err)"
   ]
  },
  {
   "cell_type": "code",
   "execution_count": null,
   "metadata": {},
   "outputs": [],
   "source": [
    "#help(integrate.quad)"
   ]
  },
  {
   "cell_type": "markdown",
   "metadata": {},
   "source": [
    "sometimes our integrand function takes optional arguments"
   ]
  },
  {
   "cell_type": "code",
   "execution_count": null,
   "metadata": {},
   "outputs": [],
   "source": [
    "def g(x, A, sigma):\n",
    "    return A*np.exp(-x**2/sigma**2)"
   ]
  },
  {
   "cell_type": "code",
   "execution_count": null,
   "metadata": {},
   "outputs": [],
   "source": [
    "I, err = integrate.quad(g, -1.0, 1.0, args=(1.0, 2.0))\n",
    "print(I, err)"
   ]
  },
  {
   "cell_type": "markdown",
   "metadata": {},
   "source": [
    "numpy defines the inf quantity which can be used in the integration limits.  We can integrate a Gaussian (we know the answer is sqrt(pi)\n",
    "\n",
    "Note: behind the scenes, what the integration function does is do a variable transform like: $t = 1/x$.  This works when one limit is $\\infty$, giving\n",
    "\n",
    "$$\\int_a^b f(x) dx = \\int_{1/b}^{1/a} \\frac{1}{t^2} f\\left (\\frac{1}{t}\\right) dt$$"
   ]
  },
  {
   "cell_type": "code",
   "execution_count": null,
   "metadata": {},
   "outputs": [],
   "source": [
    "I, err = integrate.quad(g, -np.inf, np.inf, args=(1.0, 1.0))\n",
    "print(I, err)"
   ]
  },
  {
   "cell_type": "markdown",
   "metadata": {},
   "source": [
    "### Multidimensional integrals"
   ]
  },
  {
   "cell_type": "markdown",
   "metadata": {},
   "source": [
    "multidimensional integration can be done with successive calls to quad(), but there are wrappers that help"
   ]
  },
  {
   "cell_type": "markdown",
   "metadata": {},
   "source": [
    "Let's compute \n",
    "\n",
    "$$I = \\int_{y=0}^{1/2} \\int_{x=0}^{1-2y} xy dxdy = \\frac{1}{96}$$\n",
    "\n",
    "(this example comes from the SciPy tutorial)\n",
    "\n",
    "Notice that the limits of integration in x depend on y.\n",
    "\n",
    "Note the form of the function:\n",
    "\n",
    "```\n",
    "dblquad(f, a, b, xlo, xhi)\n",
    "```\n",
    "where `f` = `f(y, x)` -- the y argument is first\n",
    "\n",
    "The integral will be from: $y = [0, 1/2]$, and $x$ = `xlo(y)`, $x$ = `xhi(y)`"
   ]
  },
  {
   "cell_type": "code",
   "execution_count": null,
   "metadata": {},
   "outputs": [],
   "source": [
    "def integrand(y, x):\n",
    "    return x*y\n",
    "\n",
    "def x_lower_lim(y):\n",
    "    return 0\n",
    "    \n",
    "def x_upper_lim(y):\n",
    "    return 1-2*y\n",
    "\n",
    "# we change the definitions of x and y in this call\n",
    "I, err = integrate.dblquad(integrand, 0.0, 0.5, x_lower_lim, x_upper_lim)\n",
    "print(I, 1.0/I)\n"
   ]
  },
  {
   "cell_type": "markdown",
   "metadata": {},
   "source": [
    "If you remember the python lambda functions (one expression functions), you can do this more compactly:"
   ]
  },
  {
   "cell_type": "code",
   "execution_count": null,
   "metadata": {},
   "outputs": [],
   "source": [
    "I, err = integrate.dblquad(lambda x, y: x*y, 0.0, 0.5, lambda y: 0, lambda y: 1-2*y)\n",
    "print(I)"
   ]
  },
  {
   "cell_type": "markdown",
   "metadata": {},
   "source": [
    "### integration of a sampled function"
   ]
  },
  {
   "cell_type": "markdown",
   "metadata": {},
   "source": [
    "here we integrate a function that is defined only at a sequece of points.  Recall that Simpson's rule will use piecewise parabola data.  Let's compute\n",
    "\n",
    "$$I = \\int_0^{2\\pi} f(x_i) dx$$\n",
    "\n",
    "with $x_i = 0, \\ldots, 2\\pi$ defined at $N$ points"
   ]
  },
  {
   "cell_type": "code",
   "execution_count": null,
   "metadata": {},
   "outputs": [],
   "source": [
    "N = 17\n",
    "x = np.linspace(0.0, 2.0*np.pi, N, endpoint=True)\n",
    "y = np.sin(x)**2\n",
    "\n",
    "I = integrate.simps(y, x)\n",
    "print(I)"
   ]
  },
  {
   "cell_type": "markdown",
   "metadata": {},
   "source": [
    "Romberg integration is specific to equally-spaced samples, where $N = 2^k + 1$  and can be more converge faster (it uses extrapolation of coarser integration results to achieve higher accuracy)"
   ]
  },
  {
   "cell_type": "code",
   "execution_count": null,
   "metadata": {},
   "outputs": [],
   "source": [
    "N = 17\n",
    "x = np.linspace(0.0, 2.0*np.pi, N, endpoint=True)\n",
    "y = np.sin(x)**2\n",
    "\n",
    "I = integrate.romb(y, dx=x[1]-x[0])\n",
    "print(I)"
   ]
  },
  {
   "cell_type": "markdown",
   "metadata": {},
   "source": [
    "## Interpolation"
   ]
  },
  {
   "cell_type": "markdown",
   "metadata": {},
   "source": [
    "Interpolation fills in the gaps between a discrete number of points by making an assumption about the behavior of the functional form of the data.\n",
    "\n",
    "Many different types of interpolation exist\n",
    "* some ensure no new extrema are introduced\n",
    "* some conserve the quantity being interpolated\n",
    "* some match derivative at end points\n",
    "\n",
    "Pathologies exist -- it is not always best to use a high-order polynomial to pass through all of the points in your dataset."
   ]
  },
  {
   "cell_type": "markdown",
   "metadata": {},
   "source": [
    "the `interp1d()` function allows for a variety of 1-d interpolation methods.  It returns an object that acts as a function, which can be evaluated at any point."
   ]
  },
  {
   "cell_type": "code",
   "execution_count": null,
   "metadata": {},
   "outputs": [],
   "source": [
    "import scipy.interpolate as interpolate"
   ]
  },
  {
   "cell_type": "code",
   "execution_count": null,
   "metadata": {},
   "outputs": [],
   "source": [
    "def f_exact(x):\n",
    "    return np.sin(x)*x\n",
    "\n",
    "N = 10\n",
    "x = np.linspace(0, 20, N)\n",
    "\n",
    "y = f_exact(x)\n",
    "\n",
    "f_interp = interpolate.interp1d(x, y, kind=3)\n",
    "\n",
    "# use finer points when we plot\n",
    "xplot = np.linspace(0, 20, 10*N)\n",
    "\n",
    "fig, ax = plt.subplots()\n",
    "ax.plot(x, y, \"ro\", label=\"known points\")\n",
    "ax.plot(xplot, f_exact(xplot), \"b:\", label=\"exact function\")\n",
    "ax.plot(xplot, f_interp(xplot), \"r-\", label=\"interpolant\")\n",
    "\n",
    "ax.legend(frameon=False, loc=\"best\")"
   ]
  },
  {
   "cell_type": "markdown",
   "metadata": {},
   "source": [
    "### Multi-d interpolation"
   ]
  },
  {
   "cell_type": "markdown",
   "metadata": {},
   "source": [
    "Here's an example of mult-d interpolation from the official tutorial.\n",
    "\n",
    "First we define the \"answer\" -- this is the true function that we will sample at a number of points and then try to use interpolation to recover"
   ]
  },
  {
   "cell_type": "code",
   "execution_count": null,
   "metadata": {},
   "outputs": [],
   "source": [
    "def func(x, y):\n",
    "    return x*(1-x)*np.cos(4*np.pi*x) * np.sin(4*np.pi*y**2)**2"
   ]
  },
  {
   "cell_type": "markdown",
   "metadata": {},
   "source": [
    "here will use mgrid to create the grid of (x,y) where we know func exactly -- this will be for plotting.  Note the fun trick here, this is not really a function, but rather something that can magically look like an array, and we index it with the start:stop:stride.  If we set stride to an imaginary number, then it is interpreted as the number of points to put between the start and stop"
   ]
  },
  {
   "cell_type": "code",
   "execution_count": null,
   "metadata": {},
   "outputs": [],
   "source": [
    "grid_x, grid_y = np.mgrid[0:1:100j, 0:1:200j]"
   ]
  },
  {
   "cell_type": "code",
   "execution_count": null,
   "metadata": {},
   "outputs": [],
   "source": [
    "print(grid_x.shape)\n",
    "print(grid_y.shape)"
   ]
  },
  {
   "cell_type": "markdown",
   "metadata": {},
   "source": [
    "here's what the exact function looks like -- note that our function is defined in x,y, but imshow is meant for plotting an array, so the first index is the row.  We take the transpose when plotting"
   ]
  },
  {
   "cell_type": "code",
   "execution_count": null,
   "metadata": {},
   "outputs": [],
   "source": [
    "fig, ax = plt.subplots()\n",
    "ax.imshow(func(grid_x, grid_y).T, extent=(0,1,0,1), origin=\"lower\")"
   ]
  },
  {
   "cell_type": "markdown",
   "metadata": {},
   "source": [
    "now we'll define 1000 random points where we'll sample the function"
   ]
  },
  {
   "cell_type": "code",
   "execution_count": null,
   "metadata": {},
   "outputs": [],
   "source": [
    "points = np.random.rand(1000, 2)\n",
    "values = func(points[:,0], points[:,1])"
   ]
  },
  {
   "cell_type": "markdown",
   "metadata": {},
   "source": [
    "Here's what those points look like:"
   ]
  },
  {
   "cell_type": "code",
   "execution_count": null,
   "metadata": {},
   "outputs": [],
   "source": [
    "fig, ax = plt.subplots()\n",
    "ax.scatter(points[:,0], points[:,1], s=1)\n",
    "ax.set_xlim(0, 1)\n",
    "ax.set_ylim(0, 1)"
   ]
  },
  {
   "cell_type": "markdown",
   "metadata": {},
   "source": [
    "The interpolate.griddata() function provides many ways to interpolate a collection of points into a uniform grid.  There are many different interpolation methods within this function"
   ]
  },
  {
   "cell_type": "code",
   "execution_count": null,
   "metadata": {},
   "outputs": [],
   "source": [
    "grid_z0 = interpolate.griddata(points, values, (grid_x, grid_y), method='nearest')\n",
    "\n",
    "fig, ax = plt.subplots()\n",
    "ax.imshow(grid_z0.T, extent=(0,1,0,1), origin=\"lower\")"
   ]
  },
  {
   "cell_type": "code",
   "execution_count": null,
   "metadata": {},
   "outputs": [],
   "source": [
    "grid_z0 = interpolate.griddata(points, values, (grid_x, grid_y), method='linear')\n",
    "\n",
    "fig, ax = plt.subplots()\n",
    "ax.imshow(grid_z0.T, extent=(0,1,0,1), origin=\"lower\")"
   ]
  },
  {
   "cell_type": "code",
   "execution_count": null,
   "metadata": {},
   "outputs": [],
   "source": [
    "grid_z0 = interpolate.griddata(points, values, (grid_x, grid_y), method='cubic')\n",
    "\n",
    "fig, ax = plt.subplots()\n",
    "ax.imshow(grid_z0.T, extent=(0,1,0,1), origin=\"lower\")"
   ]
  },
  {
   "cell_type": "markdown",
   "metadata": {},
   "source": [
    "## Root Finding"
   ]
  },
  {
   "cell_type": "markdown",
   "metadata": {},
   "source": [
    "Often we need to find a value of a variable that zeros a function -- this is _root finding_.  Sometimes, this is a multidimensional problem."
   ]
  },
  {
   "cell_type": "markdown",
   "metadata": {},
   "source": [
    "The `brentq()` routine offers a very robust method for find roots from a scalar function.  You do need to provide an interval that bounds the root."
   ]
  },
  {
   "cell_type": "markdown",
   "metadata": {},
   "source": [
    "Let's consider:\n",
    "\n",
    "$f(x) = \\frac{x e^x}{e^x - 1} - 5$"
   ]
  },
  {
   "cell_type": "code",
   "execution_count": null,
   "metadata": {},
   "outputs": [],
   "source": [
    "import scipy.optimize as optimize\n",
    "\n",
    "def f(x):\n",
    "    # this is the non-linear equation that comes up in deriving Wien's law for radiation\n",
    "    return (x*np.exp(x)/(np.exp(x) - 1.0) - 5.0)"
   ]
  },
  {
   "cell_type": "code",
   "execution_count": null,
   "metadata": {},
   "outputs": [],
   "source": [
    "root, r = optimize.brentq(f, 0.1, 10.0, full_output=True)\n",
    "\n",
    "print(root)\n",
    "print(r.converged)"
   ]
  },
  {
   "cell_type": "code",
   "execution_count": null,
   "metadata": {},
   "outputs": [],
   "source": [
    "x = np.linspace(0.1, 10.0, 1000)\n",
    "fig, ax = plt.subplots()\n",
    "ax.plot(x, f(x))\n",
    "ax.plot(np.array([root]), np.array([f(root)]), 'ro')"
   ]
  },
  {
   "cell_type": "markdown",
   "metadata": {},
   "source": [
    "## ODEs"
   ]
  },
  {
   "cell_type": "markdown",
   "metadata": {},
   "source": [
    "Many methods exist for integrating ordinary differential equations.  Most will want you to write your ODEs as a system of first order equations."
   ]
  },
  {
   "cell_type": "markdown",
   "metadata": {},
   "source": [
    "This system of ODEs is the Lorenz system:\n",
    "\n",
    "$$\\frac{dx}{dt} = \\sigma (y - x)$$\n",
    "$$\\frac{dy}{dt} = rx - y - xz$$\n",
    "$$\\frac{dz}{dt} = xy - bz$$\n",
    "\n",
    "the steady states of this system correspond to:\n",
    "\n",
    "$${\\bf f}({\\bf x}) = \n",
    "\\left (\n",
    "\\sigma (y -x), \n",
    "rx - y -xz, \n",
    "xy - bz\n",
    "\\right )^\\intercal\n",
    "= 0$$\n"
   ]
  },
  {
   "cell_type": "code",
   "execution_count": null,
   "metadata": {},
   "outputs": [],
   "source": [
    "# system parameters\n",
    "sigma = 10.0\n",
    "b = 8./3.\n",
    "r = 28.0\n",
    "\n",
    "def rhs(t, x):\n",
    "    xdot = sigma*(x[1] - x[0])\n",
    "    ydot = r*x[0] - x[1] - x[0]*x[2]\n",
    "    zdot = x[0]*x[1] - b*x[2]\n",
    "\n",
    "    return np.array([xdot, ydot, zdot])\n",
    "\n",
    "def jac(t, x):\n",
    "\n",
    "    return np.array(\n",
    "        [ [-sigma, sigma, 0.0], \n",
    "          [r - x[2], -1.0, -x[0]],\n",
    "          [x[1], x[0], -b] ])\n",
    "\n",
    "def f(x):\n",
    "    return rhs(0.,x), jac(0.,x)"
   ]
  },
  {
   "cell_type": "markdown",
   "metadata": {},
   "source": [
    "SciPy has a uniform interface to the different ODE solvers, `solve_ivp()` -- we use that here.  \n",
    "\n",
    "Note, some (but not all) solvers provide a way to get the solution data at intermediate times (called dense output)."
   ]
  },
  {
   "cell_type": "code",
   "execution_count": null,
   "metadata": {},
   "outputs": [],
   "source": [
    "def ode_integrate(X0, dt, tmax):\n",
    "    \"\"\" integrate using the VODE method, storing the solution each dt \"\"\"\n",
    "\n",
    "    r = integrate.solve_ivp(rhs, (0.0, tmax), X0,\n",
    "                            method=\"RK45\", dense_output=True)\n",
    "\n",
    "    # get the solution at intermediate times\n",
    "    ts = np.arange(0.0, tmax, dt)\n",
    "    \n",
    "    Xs = r.sol(ts)\n",
    "    return ts, Xs"
   ]
  },
  {
   "cell_type": "code",
   "execution_count": null,
   "metadata": {},
   "outputs": [],
   "source": [
    "t, X = ode_integrate([1.0, 1.0, 20.0], 0.02, 30)\n",
    "from mpl_toolkits.mplot3d import Axes3D\n",
    "\n",
    "fig = plt.figure()\n",
    "ax = plt.axes(projection='3d')\n",
    "ax.plot(X[0,:], X[1,:], X[2,:])\n",
    "fig.set_size_inches(8.0,6.0)"
   ]
  },
  {
   "cell_type": "markdown",
   "metadata": {},
   "source": [
    "### Multi-variate root find"
   ]
  },
  {
   "cell_type": "markdown",
   "metadata": {},
   "source": [
    "we can find the steady points in this system by doing a multi-variate root find on the RHS vector"
   ]
  },
  {
   "cell_type": "code",
   "execution_count": null,
   "metadata": {},
   "outputs": [],
   "source": [
    "sol1 = optimize.root(f, [1., 1., 1.], jac=True)\n",
    "print(sol1.x)\n",
    "\n",
    "sol2 = optimize.root(f, [10., 10., 10.], jac=True)\n",
    "print(sol2.x)\n",
    "\n",
    "sol3 = optimize.root(f, [-10., -10., -10.], jac=True)\n",
    "print(sol3.x)"
   ]
  },
  {
   "cell_type": "code",
   "execution_count": null,
   "metadata": {},
   "outputs": [],
   "source": [
    "fig = plt.figure()\n",
    "fig.set_size_inches(8, 8)\n",
    "ax = plt.axes(projection='3d')\n",
    "\n",
    "ax.plot(X[0,:], X[1,:], X[2,:])\n",
    "\n",
    "ax.scatter(sol1.x[0], sol1.x[1], sol1.x[2], marker=\"x\", color=\"r\")\n",
    "ax.scatter(sol2.x[0], sol2.x[1], sol2.x[2], marker=\"x\", color=\"r\")\n",
    "ax.scatter(sol3.x[0], sol3.x[1], sol3.x[2], marker=\"x\", color=\"r\")\n",
    "\n",
    "ax.set_xlabel(\"x\")\n",
    "ax.set_ylabel(\"y\")\n",
    "ax.set_zlabel(\"z\")"
   ]
  },
  {
   "cell_type": "markdown",
   "metadata": {},
   "source": [
    "### Stiff system of ODEs"
   ]
  },
  {
   "cell_type": "markdown",
   "metadata": {},
   "source": [
    "A stiff system of ODEs is one where there are multiple disparate timescales for change and we need to respect all of them to get an accurate solution\n",
    "\n",
    "Here is an example from Chemical Kinetics (see, ex. Byrne & Hindmarsh 1986, or the VODE source code)\n",
    "\n",
    "$$\n",
    "\\frac{d}{dt} \\left (\n",
    "   \\begin{array}{c} y_1 \\newline y_2 \\newline y_3 \\end{array}\n",
    "  \\right ) =\n",
    "%\n",
    "\\left (\n",
    " \\begin{array}{rrr}\n",
    "  -0.04 y_1 & + 10^4 y_2 y_3  & \\newline\n",
    "   0.04 y_1 & - 10^4 y_2 y_3 & -3\\times 10^7 y_2^2 \\newline\n",
    "   &  & 3\\times 10^7 y_2^2 \n",
    "\\end{array}\n",
    "\\right )\n",
    "$$\n",
    "\n",
    "$$\n",
    "{\\bf J} = \\left (\n",
    "\\begin{array}{ccc}\n",
    "  -0.04 & 10^4 y_3 & 10^4 y_2 \\newline\n",
    "   0.04 & -10^4 y_3 - 6\\times 10^7 y_2 & -10^4 y_2 \\newline\n",
    "   0 & 6\\times 10^7 y_2 & 0 \n",
    "\\end{array}\n",
    "\\right )\n",
    "$$\n",
    "\n",
    "start with $y_1(0) = 1, y_2(0) = y_3(0) = 0$.  Long term behavior is $y_1, y_2 \\rightarrow 0; y_3 \\rightarrow 1$"
   ]
  },
  {
   "cell_type": "code",
   "execution_count": null,
   "metadata": {},
   "outputs": [],
   "source": [
    "def rhs(t, Y):\n",
    "    \"\"\" RHS of the system -- using 0-based indexing \"\"\"\n",
    "    y1 = Y[0]\n",
    "    y2 = Y[1]\n",
    "    y3 = Y[2]\n",
    "\n",
    "    dy1dt = -0.04*y1 + 1.e4*y2*y3\n",
    "    dy2dt =  0.04*y1 - 1.e4*y2*y3 - 3.e7*y2**2\n",
    "    dy3dt =                         3.e7*y2**2\n",
    "\n",
    "    return np.array([dy1dt, dy2dt, dy3dt])\n",
    "\n",
    "def jac(t, Y):\n",
    "    \"\"\" J_{i,j} = df_i/dy_j \"\"\"\n",
    "\n",
    "    y1 = Y[0]\n",
    "    y2 = Y[1]\n",
    "    y3 = Y[2]\n",
    "\n",
    "    df1dy1 = -0.04\n",
    "    df1dy2 = 1.e4*y3\n",
    "    df1dy3 = 1.e4*y2\n",
    "\n",
    "    df2dy1 = 0.04\n",
    "    df2dy2 = -1.e4*y3 - 6.e7*y2\n",
    "    df2dy3 = -1.e4*y2\n",
    "\n",
    "    df3dy1 = 0.0\n",
    "    df3dy2 = 6.e7*y2\n",
    "    df3dy3 = 0.0\n",
    "\n",
    "    return np.array([ [ df1dy1, df1dy2, df1dy3 ],\n",
    "                      [ df2dy1, df2dy2, df2dy3 ],\n",
    "                      [ df3dy1, df3dy2, df3dy3 ] ])"
   ]
  },
  {
   "cell_type": "code",
   "execution_count": null,
   "metadata": {},
   "outputs": [],
   "source": [
    "def vode_integrate(Y0, tmax):\n",
    "    \"\"\" integrate using the NDF method \"\"\"\n",
    "\n",
    "    r = integrate.solve_ivp(rhs, (0.0, tmax), Y0,\n",
    "                            method=\"BDF\", jac=jac, rtol=1.e-7, atol=1.e-10)\n",
    "\n",
    "    # Note: this solver does not have a dens_output method, instead we \n",
    "    # access the solution data where it was evaluated internally via\n",
    "    # the return object\n",
    "    \n",
    "    return r.t, r.y"
   ]
  },
  {
   "cell_type": "code",
   "execution_count": null,
   "metadata": {},
   "outputs": [],
   "source": [
    "Y0 = np.array([1.0, 0.0, 0.0])\n",
    "tmax = 4.e7\n",
    "\n",
    "ts, Ys = vode_integrate(Y0, tmax)\n",
    "\n",
    "ax = plt.gca()\n",
    "ax.set_xscale('log')\n",
    "ax.set_yscale('log')\n",
    "\n",
    "plt.plot(ts, Ys[0,:], label=r\"$y_1$\")\n",
    "plt.plot(ts, Ys[1,:], label=r\"$y_2$\")\n",
    "plt.plot(ts, Ys[2,:], label=r\"$y_3$\")\n",
    "\n",
    "plt.legend(loc=\"best\", frameon=False)"
   ]
  },
  {
   "cell_type": "markdown",
   "metadata": {},
   "source": [
    "## Fitting\n",
    "\n",
    "Fitting is used to match a model to experimental data.  E.g. we have N points of $(x_i, y_i)$ with associated errors, $\\sigma_i$, and we want to find a simply function that best represents the data.\n",
    "\n",
    "Usually this means that we will need to define a metric, often called the residual, for how well our function matches the data, and then minimize this residual.  Least-squares fitting is a popular formulation.\n",
    "\n",
    "We want to fit our data to a function $Y(x, \\{a_j\\})$, where $a_j$ are model parameters we can adjust.  We want to find the optimal $a_j$ to minimize the distance of $Y$ from our data:\n",
    "\n",
    "$$\\Delta_i = Y(x_i, \\{a_j\\}) - y_i$$\n",
    "\n",
    "Least-squares minimizes $\\chi^2$:\n",
    "\n",
    "$$\\chi^2(\\{a_j\\}) = \\sum_{i=1}^N \\left ( \\frac{\\Delta_i}{\\sigma_i} \\right )^2$$"
   ]
  },
  {
   "cell_type": "markdown",
   "metadata": {},
   "source": [
    "### general linear least squares"
   ]
  },
  {
   "cell_type": "markdown",
   "metadata": {},
   "source": [
    "First we'll make some experimental data (a quadratic with random fashion).  We use the randn() function to provide Gaussian normalized errors."
   ]
  },
  {
   "cell_type": "code",
   "execution_count": null,
   "metadata": {},
   "outputs": [],
   "source": [
    "def y_experiment2(a1, a2, a3, sigma, x):\n",
    "    \"\"\" return the experimental data in a quadratic + random fashion,                              \n",
    "        with a1, a2, a3 the coefficients of the quadratic and sigma is                             \n",
    "        the error.  This will be poorly matched to a linear fit for                                \n",
    "        a3 != 0 \"\"\"\n",
    "\n",
    "    N = len(x)\n",
    "\n",
    "    # randn gives samples from the \"standard normal\" distribution                                  \n",
    "    r = np.random.randn(N)\n",
    "\n",
    "    y = a1 + a2*x + a3*x*x + sigma*r\n",
    "\n",
    "    return y\n",
    "\n",
    "N = 40\n",
    "sigma = 5.0*np.ones(N)\n",
    "\n",
    "x = np.linspace(0, 100.0, N)\n",
    "y = y_experiment2(2.0, 1.50, -0.02, sigma, x)"
   ]
  },
  {
   "cell_type": "code",
   "execution_count": null,
   "metadata": {},
   "outputs": [],
   "source": [
    "fig, ax = plt.subplots()\n",
    "ax.scatter(x,y)\n",
    "ax.errorbar(x, y, yerr=sigma, fmt=\"o\")"
   ]
  },
  {
   "cell_type": "code",
   "execution_count": null,
   "metadata": {},
   "outputs": [],
   "source": [
    "def resid(avec, x, y, sigma):\n",
    "    \"\"\" the residual function -- this is what will be minimized by the\n",
    "        scipy.optimize.leastsq() routine.  avec is the parameters we\n",
    "        are optimizing -- they are packed in here, so we unpack to\n",
    "        begin.  (x, y) are the data points \n",
    "\n",
    "        scipy.optimize.leastsq() minimizes:\n",
    "\n",
    "           x = arg min(sum(func(y)**2,axis=0))\n",
    "                    y\n",
    "\n",
    "        so this should just be the distance from a point to the curve,\n",
    "        and it will square it and sum over the points\n",
    "        \"\"\"\n",
    "\n",
    "    a0, a1, a2 = avec\n",
    "    \n",
    "    return (y - (a0 + a1*x + a2*x**2))/sigma"
   ]
  },
  {
   "cell_type": "code",
   "execution_count": null,
   "metadata": {},
   "outputs": [],
   "source": [
    "# initial guesses\n",
    "a0, a1, a2 = 1, 1, 1\n",
    "\n",
    "afit, flag = optimize.leastsq(resid, [a0, a1, a2], args=(x, y, sigma))\n",
    "\n",
    "print(afit)"
   ]
  },
  {
   "cell_type": "code",
   "execution_count": null,
   "metadata": {},
   "outputs": [],
   "source": [
    "ax.plot(x, afit[0] + afit[1]*x + afit[2]*x*x )\n",
    "fig"
   ]
  },
  {
   "cell_type": "markdown",
   "metadata": {},
   "source": [
    "$\\chi^2$"
   ]
  },
  {
   "cell_type": "code",
   "execution_count": null,
   "metadata": {},
   "outputs": [],
   "source": [
    "chisq = sum(np.power(resid(afit, x, y, sigma),2))\n",
    "normalization = len(x)-len(afit)\n",
    "print(chisq/normalization)"
   ]
  },
  {
   "cell_type": "markdown",
   "metadata": {},
   "source": [
    "### a nonlinear example"
   ]
  },
  {
   "cell_type": "markdown",
   "metadata": {},
   "source": [
    "our experiemental data -- an exponential"
   ]
  },
  {
   "cell_type": "code",
   "execution_count": null,
   "metadata": {},
   "outputs": [],
   "source": [
    "a0 = 2.5\n",
    "a1 = 2./3.\n",
    "sigma = 5.0\n",
    "\n",
    "a0_orig, a1_orig = a0, a1\n",
    "\n",
    "x = np.linspace(0.0, 4.0, 25)\n",
    "y = a0*np.exp(a1*x) + sigma*np.random.randn(len(x))"
   ]
  },
  {
   "cell_type": "code",
   "execution_count": null,
   "metadata": {},
   "outputs": [],
   "source": [
    "fig, ax = plt.subplots()\n",
    "ax.scatter(x,y)\n",
    "ax.errorbar(x, y, yerr=sigma, fmt=\"o\", label=\"_nolegend_\")"
   ]
  },
  {
   "cell_type": "markdown",
   "metadata": {},
   "source": [
    "our function to minimize"
   ]
  },
  {
   "cell_type": "code",
   "execution_count": null,
   "metadata": {},
   "outputs": [],
   "source": [
    "def resid(avec, x, y):\n",
    "    \"\"\" the residual function -- this is what will be minimized by the                             \n",
    "        scipy.optimize.leastsq() routine.  avec is the parameters we                               \n",
    "        are optimizing -- they are packed in here, so we unpack to                                 \n",
    "        begin.  (x, y) are the data points                                                         \n",
    "                                                                                                   \n",
    "        scipy.optimize.leastsq() minimizes:                                                        \n",
    "                                                                                                   \n",
    "           x = arg min(sum(func(y)**2,axis=0))                                                     \n",
    "                    y                                                                              \n",
    "                                                                                                   \n",
    "        so this should just be the distance from a point to the curve,                             \n",
    "        and it will square it and sum over the points                                              \n",
    "        \"\"\"\n",
    "\n",
    "    a0, a1 = avec\n",
    "\n",
    "    # note: if we wanted to deal with error bars, we would weight each                             \n",
    "    # residual accordingly                                                                         \n",
    "    return y - a0*np.exp(a1*x)"
   ]
  },
  {
   "cell_type": "code",
   "execution_count": null,
   "metadata": {},
   "outputs": [],
   "source": [
    "a0, a1 = 1, 1\n",
    "afit, flag = optimize.leastsq(resid, [a0, a1], args=(x, y))\n",
    "\n",
    "print(flag)\n",
    "print(afit)"
   ]
  },
  {
   "cell_type": "code",
   "execution_count": null,
   "metadata": {},
   "outputs": [],
   "source": [
    "ax.plot(x, afit[0]*np.exp(afit[1]*x),\n",
    "           label=r\"$a_0 = $ %f; $a_1 = $ %f\" % (afit[0], afit[1]))\n",
    "ax.plot(x, a0_orig*np.exp(a1_orig*x), \":\", label=\"original function\")\n",
    "ax.legend(numpoints=1, frameon=False)\n",
    "fig"
   ]
  },
  {
   "cell_type": "markdown",
   "metadata": {},
   "source": [
    "## FFTs"
   ]
  },
  {
   "cell_type": "markdown",
   "metadata": {},
   "source": [
    "Fourier transforms convert a physical-space (or time series) representation of a function into frequency space.  This provides an equivalent representation of the data with a new view.\n",
    "\n",
    "The FFT and its inverse in NumPy use:\n",
    "\n",
    "$$F_k = \\sum_{n=0}^{N-1} f_n e^{-2\\pi i nk/N}$$\n",
    "\n",
    "$$f_n = \\frac{1}{N} \\sum_{k=0}^{N-1} F_k \n",
    "   e^{2\\pi i n k/N}$$\n",
    "   \n",
    "\n",
    "Both NumPy and SciPy have FFT routines that are similar.  However, the NumPy version returns the data in a more convenient form.\n",
    "\n",
    "It's always best to start with something you understand -- let's do a simple sine wave.  Since our function is real, we can use the rfft routines in NumPy -- the understand that we are working with real data and they don't return the negative frequency components.\n",
    "\n",
    "One important caveat -- FFTs assume that you are periodic.  If you include both endpoints of the domain in the points that comprise your sample then you will not match this assumption.  Here we use endpoint=False with linspace()"
   ]
  },
  {
   "cell_type": "code",
   "execution_count": null,
   "metadata": {},
   "outputs": [],
   "source": [
    "def single_freq_sine(npts):\n",
    "\n",
    "    # a pure sine with no phase shift will result in pure imaginary                                         \n",
    "    # signal                                                                                                \n",
    "    f_0 = 0.2\n",
    "\n",
    "    xmax = 10.0/f_0\n",
    "    \n",
    "    xx = np.linspace(0.0, xmax, npts, endpoint=False)\n",
    "\n",
    "    f = np.sin(2.0*np.pi*f_0*xx)\n",
    "\n",
    "    return xx, f"
   ]
  },
  {
   "cell_type": "markdown",
   "metadata": {},
   "source": [
    "To make our life easier, we'll define a function that plots all the stages of the FFT process"
   ]
  },
  {
   "cell_type": "code",
   "execution_count": null,
   "metadata": {},
   "outputs": [],
   "source": [
    "def plot_FFT(xx, f):\n",
    "\n",
    "    npts = len(xx)\n",
    "\n",
    "    # Forward transform: f(x) -> F(k)                                                                       \n",
    "    fk = np.fft.rfft(f)\n",
    "\n",
    "    # Normalization -- the '2' here comes from the fact that we are                                         \n",
    "    # neglecting the negative portion of the frequency space, since                                         \n",
    "    # the FFT of a real function contains redundant information, so                                         \n",
    "    # we are only dealing with 1/2 of the frequency space.                                                  \n",
    "    #                                                                                                       \n",
    "    # technically, we should only scale the 0 bin by N, since k=0 is                                        \n",
    "    # not duplicated -- we won't worry about that for these plots                                           \n",
    "    norm = 2.0/npts\n",
    "\n",
    "    fk = fk*norm\n",
    "\n",
    "    fk_r = fk.real\n",
    "    fk_i = fk.imag\n",
    "\n",
    "    # the fftfreq returns the postive and negative (and 0) frequencies                                      \n",
    "    # the newer versions of numpy (>=1.8) have an rfftfreq() function                                       \n",
    "    # that really does what we want -- we'll use that here.                                                 \n",
    "    k = np.fft.rfftfreq(npts)\n",
    "\n",
    "    # to make these dimensional, we need to divide by dx.  Note that                                        \n",
    "    # max(xx) is not the true length, since we didn't have a point                                          \n",
    "    # at the endpoint of the domain.                                                                        \n",
    "    kfreq = k*npts/(max(xx) + xx[1])\n",
    "\n",
    "    # Inverse transform: F(k) -> f(x) -- without the normalization                                          \n",
    "    fkinv = np.fft.irfft(fk/norm)\n",
    "\n",
    "    # plots\n",
    "    fig, ax = plt.subplots(nrows=4, ncols=1)\n",
    "    \n",
    "    ax[0].plot(xx, f)\n",
    "    ax[0].set_xlabel(\"x\")\n",
    "    ax[0].set_ylabel(\"f(x)\")\n",
    "\n",
    "    ax[1].plot(kfreq, fk_r, label=r\"Re($\\mathcal{F}$)\")\n",
    "    ax[1].plot(kfreq, fk_i, ls=\":\", label=r\"Im($\\mathcal{F}$)\")\n",
    "    ax[1].set_xlabel(r\"$\\nu_k$\")\n",
    "    ax[1].set_ylabel(\"F(k)\")\n",
    "\n",
    "    ax[1].legend(fontsize=\"small\", frameon=False)\n",
    "\n",
    "    ax[2].plot(kfreq, np.abs(fk))\n",
    "    ax[2].set_xlabel(r\"$\\nu_k$\")\n",
    "    ax[2].set_ylabel(r\"|F(k)|\")\n",
    "\n",
    "    ax[3].plot(xx, fkinv.real)\n",
    "    ax[3].set_xlabel(r\"$\\nu_k$\")\n",
    "    ax[3].set_ylabel(r\"inverse F(k)\")\n",
    "\n",
    "    f = plt.gcf()\n",
    "    \n",
    "    f.set_size_inches(10,8)\n",
    "    plt.tight_layout()\n"
   ]
  },
  {
   "cell_type": "code",
   "execution_count": null,
   "metadata": {},
   "outputs": [],
   "source": [
    "npts = 128\n",
    "xx, f = single_freq_sine(npts)\n",
    "plot_FFT(xx, f)"
   ]
  },
  {
   "cell_type": "markdown",
   "metadata": {},
   "source": [
    "A cosine is shifted in phase by pi/2"
   ]
  },
  {
   "cell_type": "code",
   "execution_count": null,
   "metadata": {},
   "outputs": [],
   "source": [
    "def single_freq_cosine(npts):\n",
    "\n",
    "    # a pure cosine with no phase shift will result in pure real                                            \n",
    "    # signal                                                                                                \n",
    "    f_0 = 0.2\n",
    "\n",
    "    xmax = 10.0/f_0\n",
    "\n",
    "    xx = np.linspace(0.0, xmax, npts, endpoint=False)\n",
    "\n",
    "    f = np.cos(2.0*np.pi*f_0*xx)\n",
    "\n",
    "    return xx, f"
   ]
  },
  {
   "cell_type": "code",
   "execution_count": null,
   "metadata": {},
   "outputs": [],
   "source": [
    "xx, f = single_freq_cosine(npts)\n",
    "plot_FFT(xx, f)"
   ]
  },
  {
   "cell_type": "markdown",
   "metadata": {},
   "source": [
    "Now let's look at a sine with a pi/4 phase shift"
   ]
  },
  {
   "cell_type": "code",
   "execution_count": null,
   "metadata": {},
   "outputs": [],
   "source": [
    "def single_freq_sine_plus_shift(npts):\n",
    "\n",
    "    # a pure sine with no phase shift will result in pure imaginary                                         \n",
    "    # signal                                                                                                \n",
    "    f_0 = 0.2\n",
    "\n",
    "    xmax = 10.0/f_0\n",
    "\n",
    "    xx = np.linspace(0.0, xmax, npts, endpoint=False)\n",
    "\n",
    "    f = np.sin(2.0*np.pi*f_0*xx + np.pi/4)\n",
    "\n",
    "    return xx, f"
   ]
  },
  {
   "cell_type": "code",
   "execution_count": null,
   "metadata": {},
   "outputs": [],
   "source": [
    "xx, f = single_freq_sine_plus_shift(npts)\n",
    "plot_FFT(xx, f)"
   ]
  },
  {
   "cell_type": "markdown",
   "metadata": {},
   "source": [
    "### A frequency filter"
   ]
  },
  {
   "cell_type": "markdown",
   "metadata": {},
   "source": [
    "we'll setup a simple two-frequency sine wave and filter a component"
   ]
  },
  {
   "cell_type": "code",
   "execution_count": null,
   "metadata": {},
   "outputs": [],
   "source": [
    "def two_freq_sine(npts):\n",
    "\n",
    "    # a pure sine with no phase shift will result in pure imaginary             \n",
    "    # signal                                                                    \n",
    "    f_0 = 0.2\n",
    "    f_1 = 0.5\n",
    "\n",
    "    xmax = 10.0/f_0\n",
    "\n",
    "    # we call with endpoint=False -- if we include the endpoint, then for       \n",
    "    # a periodic function, the first and last point are identical -- this       \n",
    "    # shows up as a signal in the FFT.                                          \n",
    "    xx = np.linspace(0.0, xmax, npts, endpoint=False)\n",
    "\n",
    "    f = 0.5*(np.sin(2.0*np.pi*f_0*xx) + np.sin(2.0*np.pi*f_1*xx))\n",
    "\n",
    "    return xx, f"
   ]
  },
  {
   "cell_type": "code",
   "execution_count": null,
   "metadata": {},
   "outputs": [],
   "source": [
    "npts = 256\n",
    "\n",
    "xx, f = two_freq_sine(npts)\n",
    "\n",
    "fig, ax = plt.subplots()\n",
    "ax.plot(xx, f)"
   ]
  },
  {
   "cell_type": "markdown",
   "metadata": {},
   "source": [
    "we'll take the transform: f(x) -> F(k)"
   ]
  },
  {
   "cell_type": "code",
   "execution_count": null,
   "metadata": {},
   "outputs": [],
   "source": [
    "# normalization factor: the 2 here comes from the fact that we neglect          \n",
    "# the negative portion of frequency space because our input function            \n",
    "# is real                                                                       \n",
    "norm = 2.0/npts\n",
    "fk = norm*np.fft.rfft(f)\n",
    "\n",
    "ofk_r = fk.real.copy()\n",
    "ofk_i = fk.imag.copy()\n",
    "\n",
    "# get the frequencies\n",
    "k = np.fft.rfftfreq(len(xx))\n",
    "\n",
    "# since we don't include the endpoint in xx, to normalize things, we need       \n",
    "# max(xx) + dx to get the true length of the domain\n",
    "#\n",
    "# This makes the frequencies essentially multiples of 1/dx\n",
    "kfreq = k*npts/(max(xx) + xx[1])"
   ]
  },
  {
   "cell_type": "code",
   "execution_count": null,
   "metadata": {},
   "outputs": [],
   "source": [
    "fig, ax = plt.subplots()\n",
    "ax.plot(kfreq, fk.real, label=\"real\")\n",
    "ax.plot(kfreq, fk.imag, \":\", label=\"imaginary\")\n",
    "ax.legend(frameon=False)"
   ]
  },
  {
   "cell_type": "markdown",
   "metadata": {},
   "source": [
    "Filter out the higher frequencies"
   ]
  },
  {
   "cell_type": "code",
   "execution_count": null,
   "metadata": {},
   "outputs": [],
   "source": [
    "fk[kfreq > 0.4] = 0.0\n",
    "\n",
    "# element 0 of fk is the DC component                                           \n",
    "fk_r = fk.real\n",
    "fk_i = fk.imag\n",
    "\n",
    "# Inverse transform: F(k) -> f(x)                                               \n",
    "fkinv = np.fft.irfft(fk/norm)"
   ]
  },
  {
   "cell_type": "code",
   "execution_count": null,
   "metadata": {},
   "outputs": [],
   "source": [
    "fig, ax = plt.subplots()\n",
    "ax.plot(xx, fkinv.real)"
   ]
  },
  {
   "cell_type": "markdown",
   "metadata": {},
   "source": [
    "## Linear Algebra"
   ]
  },
  {
   "cell_type": "markdown",
   "metadata": {},
   "source": [
    "### general manipulations of matrices"
   ]
  },
  {
   "cell_type": "markdown",
   "metadata": {},
   "source": [
    "you can use regular NumPy arrays or you can use a special matrix class that offers some short cuts"
   ]
  },
  {
   "cell_type": "code",
   "execution_count": null,
   "metadata": {},
   "outputs": [],
   "source": [
    "a = np.array([[1.0, 2.0], [3.0, 4.0]])"
   ]
  },
  {
   "cell_type": "code",
   "execution_count": null,
   "metadata": {},
   "outputs": [],
   "source": [
    "print(a)\n",
    "print(a.transpose())\n",
    "print(a.T)"
   ]
  },
  {
   "cell_type": "code",
   "execution_count": null,
   "metadata": {},
   "outputs": [],
   "source": [
    "ainv = np.linalg.inv(a)\n",
    "print(ainv)"
   ]
  },
  {
   "cell_type": "code",
   "execution_count": null,
   "metadata": {},
   "outputs": [],
   "source": [
    "a @ ainv"
   ]
  },
  {
   "cell_type": "markdown",
   "metadata": {},
   "source": [
    "the eye() function will generate an identity matrix (as will the identity())"
   ]
  },
  {
   "cell_type": "code",
   "execution_count": null,
   "metadata": {},
   "outputs": [],
   "source": [
    "print(np.eye(2))\n",
    "print(np.identity(2))"
   ]
  },
  {
   "cell_type": "markdown",
   "metadata": {},
   "source": [
    "we can solve Ax = b"
   ]
  },
  {
   "cell_type": "code",
   "execution_count": null,
   "metadata": {},
   "outputs": [],
   "source": [
    "b = np.array([5, 7])\n",
    "x = np.linalg.solve(a, b)\n",
    "print(x)"
   ]
  },
  {
   "cell_type": "markdown",
   "metadata": {},
   "source": [
    "### The matrix class"
   ]
  },
  {
   "cell_type": "code",
   "execution_count": null,
   "metadata": {},
   "outputs": [],
   "source": [
    "A = np.matrix('1.0 2.0; 3.0 4.0')\n",
    "print(A)\n",
    "print(A.T)"
   ]
  },
  {
   "cell_type": "code",
   "execution_count": null,
   "metadata": {},
   "outputs": [],
   "source": [
    "X = np.matrix('5.0 7.0')\n",
    "Y = X.T\n",
    "\n",
    "print(A*Y)"
   ]
  },
  {
   "cell_type": "code",
   "execution_count": null,
   "metadata": {},
   "outputs": [],
   "source": [
    "print(A.I*Y)"
   ]
  },
  {
   "cell_type": "markdown",
   "metadata": {},
   "source": [
    "### tridiagonal matrix solve"
   ]
  },
  {
   "cell_type": "markdown",
   "metadata": {},
   "source": [
    "Here we'll solve the equation:\n",
    "\n",
    "$$f^{\\prime\\prime} = g(x)$$\n",
    "\n",
    "with $g(x) = \\sin(x)$, and the domain $x \\in [0, 2\\pi]$, with boundary conditions $f(0) = f(2\\pi) = 0$.  The solution is simply $f(x) = -\\sin(x)$.\n",
    "\n",
    "We'll use a grid of $N$ points with $x_0$ on the left boundary and $x_{N-1}$ on the right boundary.\n",
    "\n",
    "We difference our equation as:\n",
    "\n",
    "$$f_{i+1} - 2 f_i + f_{i-1} = \\Delta x^2 g_i$$\n",
    "\n",
    "We keep the boundary points fixed, so we only need to solve for the $N-2$ interior points.  Near the boundaries, our difference is:\n",
    "\n",
    "$$f_2 - 2 f_1 = \\Delta x^2 g_1$$\n",
    "\n",
    "and\n",
    "\n",
    "$$-2f_{N-1} + f_{N-2} = \\Delta x^2 g_{N-1}$$\n",
    "\n",
    "We can write the system of equations for solving for the $N-2$ interior points as:\n",
    "\n",
    "$$A = \\left (\n",
    "\\begin{array}{ccccccc}\n",
    "-2 &  1 &    &        &         &           &          \\newline\n",
    "1  & -2 &  1 &        &         &           &          \\newline\n",
    "   &  1 & -2 & 1      &         &           &          \\newline\n",
    "   &         & \\ddots & \\ddots & \\ddots  &           &          \\newline\n",
    "   &         &        & \\ddots & \\ddots  & \\ddots  &          \\newline\n",
    "   &         &        &        & 1       & -2 & 1  \\newline\n",
    "   &         &        &        &         & 1  & -2 \\newline\n",
    "\\end{array}\n",
    "\\right )\n",
    "$$\n",
    "\n",
    "$$\n",
    "x = \\left (\n",
    "\\begin{array}{c}\n",
    "f_\\mathrm{1} \\\\\\\n",
    "f_\\mathrm{2} \\\\\\\n",
    "f_\\mathrm{3} \\\\\\\n",
    "\\vdots \\\\\\\n",
    "\\vdots \\\\\\\n",
    "f_\\mathrm{N-2} \\\\\\\n",
    "f_\\mathrm{N-1} \\\\\\\n",
    "\\end{array}\n",
    "\\right )\n",
    "$$\n",
    "\n",
    "$$\n",
    "b = \\Delta x^2 \\left (\n",
    "\\begin{array}{c}\n",
    "g_\\mathrm{1} \\\\\\\n",
    "g_\\mathrm{2} \\\\\\\n",
    "g_\\mathrm{3} \\\\\\\n",
    "\\vdots \\\\\\\n",
    "\\vdots \\\\\\\n",
    "g_\\mathrm{N-2} \\\\\\\n",
    "g_\\mathrm{N-1}\\\\\\\n",
    "\\end{array}\n",
    "\\right )\n",
    "$$\n",
    "\n",
    "Then we just solve $A x = b$"
   ]
  },
  {
   "cell_type": "code",
   "execution_count": null,
   "metadata": {},
   "outputs": [],
   "source": [
    "import scipy.linalg as linalg\n",
    "\n",
    "# our grid -- including endpoints\n",
    "N = 100\n",
    "x = np.linspace(0.0, 2.0*np.pi, N, endpoint=True)\n",
    "dx = x[1]-x[0]\n",
    "\n",
    "# our source\n",
    "g = np.sin(x)\n",
    "\n",
    "# our matrix will be tridiagonal, with [1, -2, 1] on the diagonals\n",
    "# we only solve for the N-2 interior points\n",
    "\n",
    "# diagonal\n",
    "d = -2*np.ones(N-2)\n",
    "\n",
    "# upper -- note that the upper diagonal has 1 less element than the\n",
    "# main diagonal.  The SciPy banded solver wants the matrix in the \n",
    "# form:\n",
    "#\n",
    "# *    a01  a12  a23  a34  a45    <- upper diagonal\n",
    "# a00  a11  a22  a33  a44  a55    <- diagonal\n",
    "# a10  a21  a32  a43  a54   *     <- lower diagonal\n",
    "#\n",
    "\n",
    "u = np.ones(N-2)\n",
    "u[0] = 0.0\n",
    "\n",
    "# lower\n",
    "l = np.ones(N-2)\n",
    "l[N-3] = 0.0\n",
    "\n",
    "# put the upper, diagonal, and lower parts together as a banded matrix\n",
    "A = np.matrix([u,d,l])\n",
    "\n",
    "# solve A sol = dx**2 g for the inner N-2 points\n",
    "sol = linalg.solve_banded((1,1), A, dx**2*g[1:N-1])"
   ]
  },
  {
   "cell_type": "code",
   "execution_count": null,
   "metadata": {},
   "outputs": [],
   "source": [
    "fig, ax = plt.subplots()\n",
    "ax.plot(x[1:N-1], sol)"
   ]
  },
  {
   "cell_type": "code",
   "execution_count": null,
   "metadata": {},
   "outputs": [],
   "source": []
  }
 ],
 "metadata": {
  "kernelspec": {
   "display_name": "Python 3 (ipykernel)",
   "language": "python",
   "name": "python3"
  },
  "language_info": {
   "codemirror_mode": {
    "name": "ipython",
    "version": 3
   },
   "file_extension": ".py",
   "mimetype": "text/x-python",
   "name": "python",
   "nbconvert_exporter": "python",
   "pygments_lexer": "ipython3",
   "version": "3.10.3"
  }
 },
 "nbformat": 4,
 "nbformat_minor": 4
}
