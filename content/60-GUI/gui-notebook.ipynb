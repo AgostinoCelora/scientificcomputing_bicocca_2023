{
 "metadata": {
  "name": "",
  "signature": "sha256:281d1c65366416dcc4292e69c11c442c945332985f5acfcdcd0b150daccabd0e"
 },
 "nbformat": 3,
 "nbformat_minor": 0,
 "worksheets": [
  {
   "cells": [
    {
     "cell_type": "raw",
     "metadata": {},
     "source": [
      "Depending of the version of python, the tkinter module has a different name"
     ]
    },
    {
     "cell_type": "code",
     "collapsed": false,
     "input": [
      "import sys\n",
      "if sys.version_info[0] < 3:\n",
      "    import Tkinter as Tk\n",
      "else:\n",
      "    import tkinter as Tk\n"
     ],
     "language": "python",
     "metadata": {},
     "outputs": [],
     "prompt_number": 2
    },
    {
     "cell_type": "heading",
     "level": 1,
     "metadata": {},
     "source": [
      "Geometry Managers"
     ]
    },
    {
     "cell_type": "heading",
     "level": 2,
     "metadata": {},
     "source": [
      "Grid"
     ]
    },
    {
     "cell_type": "raw",
     "metadata": {},
     "source": [
      "see http://userpages.umbc.edu/~dhood2/courses/cmsc433/spring2010/?section=Notes&topic=Python&notes=94\n",
      "http://effbot.org/tkinterbook/grid.htm"
     ]
    },
    {
     "cell_type": "code",
     "collapsed": false,
     "input": [
      "help(Tk.Label.grid)"
     ],
     "language": "python",
     "metadata": {},
     "outputs": [
      {
       "output_type": "stream",
       "stream": "stdout",
       "text": [
        "Help on method grid_configure in module Tkinter:\n",
        "\n",
        "grid_configure(self, cnf={}, **kw) unbound Tkinter.Label method\n",
        "    Position a widget in the parent widget in a grid. Use as options:\n",
        "    column=number - use cell identified with given column (starting with 0)\n",
        "    columnspan=number - this widget will span several columns\n",
        "    in=master - use master to contain this widget\n",
        "    in_=master - see 'in' option description\n",
        "    ipadx=amount - add internal padding in x direction\n",
        "    ipady=amount - add internal padding in y direction\n",
        "    padx=amount - add padding in x direction\n",
        "    pady=amount - add padding in y direction\n",
        "    row=number - use cell identified with given row (starting with 0)\n",
        "    rowspan=number - this widget will span several rows\n",
        "    sticky=NSEW - if cell is larger on which sides will this\n",
        "                  widget stick to the cell boundary\n",
        "\n"
       ]
      }
     ],
     "prompt_number": 4
    },
    {
     "cell_type": "code",
     "collapsed": false,
     "input": [
      "class GridExample:\n",
      "    def __init__(self, parent):\n",
      "        \n",
      "        self.parent = parent\n",
      "        \n",
      "        # first row\n",
      "        self.l1 = Tk.Label(self.parent, text=\"Entry 1: \")\n",
      "        self.e1 = Tk.Entry(self.parent)\n",
      "        \n",
      "        self.l1.grid(row=0, column=0)\n",
      "        self.e1.grid(row=0, column=1)\n",
      "        \n",
      "        # second row\n",
      "        self.l2 = Tk.Label(self.parent, text=\"Long Entry 2: \")\n",
      "        self.e2 = Tk.Entry(self.parent)\n",
      "        \n",
      "        self.l2.grid(row=2, column=0)\n",
      "        self.e2.grid(row=2, column=1)\n",
      "\n",
      "root = Tk.Tk()\n",
      "root.wm_title(\"my simple GUI\")\n",
      "\n",
      "gui_test = GridExample(root)\n",
      "\n",
      "root.mainloop()   "
     ],
     "language": "python",
     "metadata": {},
     "outputs": [],
     "prompt_number": 6
    },
    {
     "cell_type": "raw",
     "metadata": {},
     "source": [
      "Widgets are centered in their cells, but you can use sticky and N, S, E, W directions to say where to anchor it"
     ]
    },
    {
     "cell_type": "code",
     "collapsed": false,
     "input": [
      "class GridExample:\n",
      "    def __init__(self, parent):\n",
      "        \n",
      "        self.parent = parent\n",
      "        \n",
      "        # first row\n",
      "        self.l1 = Tk.Label(self.parent, text=\"Entry 1: \")\n",
      "        self.e1 = Tk.Entry(self.parent)\n",
      "        \n",
      "        self.l1.grid(row=0, column=0, sticky=Tk.E)\n",
      "        self.e1.grid(row=0, column=1)\n",
      "        \n",
      "        # second row\n",
      "        self.l2 = Tk.Label(self.parent, text=\"Long Entry 2: \")\n",
      "        self.e2 = Tk.Entry(self.parent)\n",
      "        \n",
      "        self.l2.grid(row=2, column=0, sticky=Tk.E)\n",
      "        self.e2.grid(row=2, column=1)\n",
      "\n",
      "root = Tk.Tk()\n",
      "root.wm_title(\"my simple GUI\")\n",
      "\n",
      "gui_test = GridExample(root)\n",
      "\n",
      "root.mainloop()   "
     ],
     "language": "python",
     "metadata": {},
     "outputs": [],
     "prompt_number": 7
    },
    {
     "cell_type": "heading",
     "level": 2,
     "metadata": {},
     "source": [
      "Pack"
     ]
    },
    {
     "cell_type": "code",
     "collapsed": false,
     "input": [
      "help(Tk.Button.pack)"
     ],
     "language": "python",
     "metadata": {},
     "outputs": [
      {
       "output_type": "stream",
       "stream": "stdout",
       "text": [
        "Help on method pack_configure in module Tkinter:\n",
        "\n",
        "pack_configure(self, cnf={}, **kw) unbound Tkinter.Button method\n",
        "    Pack a widget in the parent widget. Use as options:\n",
        "    after=widget - pack it after you have packed widget\n",
        "    anchor=NSEW (or subset) - position widget according to\n",
        "                              given direction\n",
        "    before=widget - pack it before you will pack widget\n",
        "    expand=bool - expand widget if parent size grows\n",
        "    fill=NONE or X or Y or BOTH - fill widget if widget grows\n",
        "    in=master - use master to contain this widget\n",
        "    in_=master - see 'in' option description\n",
        "    ipadx=amount - add internal padding in x direction\n",
        "    ipady=amount - add internal padding in y direction\n",
        "    padx=amount - add padding in x direction\n",
        "    pady=amount - add padding in y direction\n",
        "    side=TOP or BOTTOM or LEFT or RIGHT -  where to add this widget.\n",
        "\n"
       ]
      }
     ],
     "prompt_number": 8
    },
    {
     "cell_type": "code",
     "collapsed": false,
     "input": [
      "class PackExample:\n",
      "    def __init__(self, parent):\n",
      "        \n",
      "        self.parent = parent\n",
      "        \n",
      "        # first row\n",
      "        self.l1 = Tk.Label(self.parent, text=\"Entry 1: \")\n",
      "        self.e1 = Tk.Entry(self.parent)\n",
      "        \n",
      "        self.l2 = Tk.Label(self.parent, text=\"Long Entry 2: \")\n",
      "        self.e2 = Tk.Entry(self.parent)\n",
      "        \n",
      "        self.l1.pack()\n",
      "        self.e1.pack()\n",
      "        self.l2.pack()\n",
      "        self.e2.pack()\n",
      "\n",
      "root = Tk.Tk()\n",
      "root.wm_title(\"my simple GUI\")\n",
      "\n",
      "gui_test = PackExample(root)\n",
      "\n",
      "root.mainloop()   "
     ],
     "language": "python",
     "metadata": {},
     "outputs": [],
     "prompt_number": 9
    },
    {
     "cell_type": "raw",
     "metadata": {},
     "source": [
      "We can use side to specify where the widget lives.  Notice how things behave when you expand the widget"
     ]
    },
    {
     "cell_type": "code",
     "collapsed": false,
     "input": [
      "class PackExample:\n",
      "    def __init__(self, parent):\n",
      "        \n",
      "        self.parent = parent\n",
      "        \n",
      "        # first row\n",
      "        self.l1 = Tk.Label(self.parent, text=\"Entry 1: \")\n",
      "        self.e1 = Tk.Entry(self.parent)\n",
      "        \n",
      "        self.l2 = Tk.Label(self.parent, text=\"Long Entry 2: \")\n",
      "        self.e2 = Tk.Entry(self.parent)\n",
      "        \n",
      "        self.l1.pack(side=Tk.LEFT)\n",
      "        self.e1.pack(side=Tk.LEFT)\n",
      "        self.l2.pack(side=Tk.RIGHT)\n",
      "        self.e2.pack(side=Tk.RIGHT)\n",
      "\n",
      "root = Tk.Tk()\n",
      "root.wm_title(\"my simple GUI\")\n",
      "\n",
      "gui_test = PackExample(root)\n",
      "\n",
      "root.mainloop()   "
     ],
     "language": "python",
     "metadata": {},
     "outputs": [],
     "prompt_number": 10
    },
    {
     "cell_type": "heading",
     "level": 1,
     "metadata": {},
     "source": [
      "A simple GUI"
     ]
    },
    {
     "cell_type": "raw",
     "metadata": {},
     "source": [
      "Here we create a very simple GUI that allows you to enter a string, and outputs the value when you click \"show\".\n",
      "\n",
      "Notice that we create the GUI as a class -- this makes it easy to deal with all the interactions, since the different\n",
      "widget objects and methods they expose (e.g. to get data from the field) are all together in the object's namespace.\n",
      "\n",
      "Some people have the class itself inherit from Tk.Frame, see, e.g., http://stackoverflow.com/questions/17466561/best-way-to-structure-a-tkinter-application"
     ]
    },
    {
     "cell_type": "code",
     "collapsed": false,
     "input": [
      "class MyGUI:\n",
      "    def __init__(self, parent):\n",
      "        self.parent = parent\n",
      "        \n",
      "        self.frame_a = Tk.Frame(self.parent)\n",
      "        self.frame_a.pack(fill=Tk.BOTH, expand=1)                                                                        \n",
      "        \n",
      "        self.label_a = Tk.Label(self.frame_a, text=\"enter some text here: \")\n",
      "        self.label_a.grid(row=0, column=0, sticky=Tk.W)\n",
      "        \n",
      "        self.label_str = Tk.StringVar()\n",
      "        \n",
      "        self.field_a = Tk.Entry(self.frame_a, textvariable=self.label_str)\n",
      "        self.field_a.grid(row=0, column=1, sticky=Tk.W)\n",
      "        \n",
      "        self.frame_buttons = Tk.Frame(self.parent)\n",
      "        self.frame_buttons.pack(fill=Tk.BOTH, expand=1)\n",
      "\n",
      "        self.ok_button = Tk.Button(self.frame_buttons, text=\"show\", command=self._show)\n",
      "        self.ok_button.pack(side=Tk.RIGHT, padx=5, pady=5)\n",
      "        \n",
      "    def _show(self):\n",
      "        str = self.field_a.get()\n",
      "        print \"you entered {}\".format(str)      "
     ],
     "language": "python",
     "metadata": {},
     "outputs": [],
     "prompt_number": 12
    },
    {
     "cell_type": "code",
     "collapsed": false,
     "input": [
      "root = Tk.Tk()\n",
      "root.wm_title(\"my simple GUI\")\n",
      "\n",
      "gui_test = MyGUI(root)\n",
      "\n",
      "root.mainloop()"
     ],
     "language": "python",
     "metadata": {},
     "outputs": [
      {
       "output_type": "stream",
       "stream": "stdout",
       "text": [
        "you entered this is my test\n",
        "you entered this is my test"
       ]
      },
      {
       "output_type": "stream",
       "stream": "stdout",
       "text": [
        "\n",
        "you entered this is my test"
       ]
      },
      {
       "output_type": "stream",
       "stream": "stdout",
       "text": [
        "\n",
        "you entered this is my test"
       ]
      },
      {
       "output_type": "stream",
       "stream": "stdout",
       "text": [
        "\n",
        "you entered this is my test"
       ]
      },
      {
       "output_type": "stream",
       "stream": "stdout",
       "text": [
        "\n",
        "you entered this is my test"
       ]
      },
      {
       "output_type": "stream",
       "stream": "stdout",
       "text": [
        "\n",
        "you entered this is my test"
       ]
      },
      {
       "output_type": "stream",
       "stream": "stdout",
       "text": [
        "\n",
        "you entered this is my test"
       ]
      },
      {
       "output_type": "stream",
       "stream": "stdout",
       "text": [
        "\n"
       ]
      }
     ],
     "prompt_number": 13
    },
    {
     "cell_type": "heading",
     "level": 1,
     "metadata": {},
     "source": [
      "Windows Popping Out Windows"
     ]
    },
    {
     "cell_type": "raw",
     "metadata": {},
     "source": [
      "Now we can try to make it more complex -- let's have the show button pop up a new window.  We'll define a new class to manage that.  It will take the parent widget and also the MyGUI object itself, so we can access that data"
     ]
    },
    {
     "cell_type": "code",
     "collapsed": false,
     "input": [
      "class Response:\n",
      "    def __init__(self, parent, main_obj):\n",
      "        self.parent = parent\n",
      "        self.main_obj = main_obj\n",
      "        \n",
      "        self.frame = Tk.Frame(self.parent)\n",
      "        self.frame.pack(fill=Tk.BOTH, expand=1)\n",
      "        \n",
      "        str = self.main_obj.field_a.get()\n",
      "        self.label = Tk.Label(self.frame, text=\"You entered {}\".format(str))\n",
      "        self.label.grid(row=0, column=0, sticky=Tk.W)\n",
      "\n",
      "        self.frame_buttons = Tk.Frame(self.parent)\n",
      "        self.frame_buttons.pack(fill=Tk.BOTH, expand=1)\n",
      "        \n",
      "        self.ok_button = Tk.Button(self.frame_buttons, text=\"Ok\", command=self._ok)\n",
      "        self.ok_button.pack(side=Tk.RIGHT, padx=5, pady=5)\n",
      "        \n",
      "    def _ok(self):\n",
      "        self.parent.destroy()"
     ],
     "language": "python",
     "metadata": {},
     "outputs": [],
     "prompt_number": 14
    },
    {
     "cell_type": "raw",
     "metadata": {},
     "source": [
      "we'll need to modify the show() function in our previous class"
     ]
    },
    {
     "cell_type": "code",
     "collapsed": false,
     "input": [
      "class MyGUI2:\n",
      "    def __init__(self, parent):\n",
      "        self.parent = parent\n",
      "        \n",
      "        self.frame_a = Tk.Frame(self.parent)\n",
      "        self.frame_a.pack(fill=Tk.BOTH, expand=1)                                                                        \n",
      "        \n",
      "        self.label_a = Tk.Label(self.frame_a, text=\"enter some text here: \")\n",
      "        self.label_a.grid(row=0, column=0, sticky=Tk.W)\n",
      "        \n",
      "        self.label_str = Tk.StringVar()\n",
      "        \n",
      "        self.field_a = Tk.Entry(self.frame_a, textvariable=self.label_str)\n",
      "        self.field_a.grid(row=0, column=1, sticky=Tk.W)\n",
      "        \n",
      "        self.frame_buttons = Tk.Frame(self.parent)\n",
      "        self.frame_buttons.pack(fill=Tk.BOTH, expand=1)\n",
      "\n",
      "        self.show_button = Tk.Button(self.frame_buttons, text=\"show\", command=self._show)\n",
      "        self.show_button.pack(side=Tk.RIGHT, padx=5, pady=5)\n",
      "        \n",
      "    def _show(self):\n",
      "        self.new_window = Tk.Toplevel(self.parent)\n",
      "        self.show = Response(self.new_window, self)"
     ],
     "language": "python",
     "metadata": {},
     "outputs": [],
     "prompt_number": 15
    },
    {
     "cell_type": "code",
     "collapsed": false,
     "input": [
      "root = Tk.Tk()\n",
      "root.wm_title(\"my simple GUI\")\n",
      "\n",
      "gui_test = MyGUI2(root)\n",
      "\n",
      "root.mainloop()"
     ],
     "language": "python",
     "metadata": {},
     "outputs": [],
     "prompt_number": 16
    },
    {
     "cell_type": "heading",
     "level": 2,
     "metadata": {},
     "source": [
      "Message Boxes"
     ]
    },
    {
     "cell_type": "raw",
     "metadata": {},
     "source": [
      "a messagebox is a useful way to give feedback"
     ]
    },
    {
     "cell_type": "code",
     "collapsed": false,
     "input": [
      "import tkMessageBox\n",
      "\n",
      "class MyApp:\n",
      "    def __init__(self, parent):\n",
      "        self.parent = parent\n",
      "        \n",
      "        self.button = Tk.Button(self.parent, text=\"press me\", command=self.doit)\n",
      "        self.button.pack()\n",
      "        \n",
      "    def doit(self):\n",
      "        tkMessageBox.showwarning(\"Warning\", \"you did something bad!\")    \n",
      "                \n",
      "root = Tk.Tk()\n",
      "root.wm_title(\"main application\")\n",
      "\n",
      "my_app = MyApp(root)\n",
      "\n",
      "root.mainloop()"
     ],
     "language": "python",
     "metadata": {},
     "outputs": [],
     "prompt_number": 18
    },
    {
     "cell_type": "heading",
     "level": 1,
     "metadata": {},
     "source": [
      "Styling"
     ]
    },
    {
     "cell_type": "raw",
     "metadata": {},
     "source": [
      "sometimes we want to make our widgets look more native.  Tkinter supports this via ttk"
     ]
    },
    {
     "cell_type": "code",
     "collapsed": false,
     "input": [
      "import ttk\n",
      "import tkFileDialog\n",
      "\n",
      "class MyApp:\n",
      "    def __init__(self, parent):\n",
      "        self.parent = parent\n",
      "        \n",
      "        self.style = ttk.Style()\n",
      "        self.style.theme_use(\"default\")\n",
      "        \n",
      "        self.button1 = ttk.Button(self.parent, text=\"button 1\", command=self.file)\n",
      "        self.button1.pack()\n",
      "        self.button2 = ttk.Button(self.parent, text=\"button 2\")\n",
      "        self.button2.pack()\n",
      "        self.button3 = ttk.Button(self.parent, text=\"button 3\")\n",
      "        self.button3.pack()        \n",
      "        \n",
      "    def file(self):\n",
      "        self.file_opts = {}\n",
      "        return tkFileDialog.askopenfile(mode='r', **self.file_opts)\n",
      "    \n",
      "root = Tk.Tk()\n",
      "root.wm_title(\"main application\")\n",
      "\n",
      "my_app = MyApp(root)\n",
      "\n",
      "root.mainloop()"
     ],
     "language": "python",
     "metadata": {},
     "outputs": [],
     "prompt_number": 19
    },
    {
     "cell_type": "code",
     "collapsed": false,
     "input": [
      "class MyApp:\n",
      "    def __init__(self, parent):\n",
      "        self.parent = parent\n",
      "        \n",
      "        self.button1 = Tk.Button(self.parent, text=\"button 1\")\n",
      "        self.button1.pack()\n",
      "        self.button2 = Tk.Button(self.parent, text=\"button 2\")\n",
      "        self.button2.pack()\n",
      "        self.button3 = Tk.Button(self.parent, text=\"button 3\")\n",
      "        self.button3.pack()        \n",
      "                \n",
      "root = Tk.Tk()\n",
      "root.wm_title(\"main application\")\n",
      "\n",
      "my_app = MyApp(root)\n",
      "\n",
      "root.mainloop()"
     ],
     "language": "python",
     "metadata": {},
     "outputs": [],
     "prompt_number": 20
    },
    {
     "cell_type": "code",
     "collapsed": false,
     "input": [],
     "language": "python",
     "metadata": {},
     "outputs": [],
     "prompt_number": 20
    },
    {
     "cell_type": "code",
     "collapsed": false,
     "input": [],
     "language": "python",
     "metadata": {},
     "outputs": []
    }
   ],
   "metadata": {}
  }
 ]
}