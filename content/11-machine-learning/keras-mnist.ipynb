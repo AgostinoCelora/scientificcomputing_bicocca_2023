{
 "cells": [
  {
   "cell_type": "code",
   "execution_count": 2,
   "metadata": {},
   "outputs": [
    {
     "name": "stderr",
     "output_type": "stream",
     "text": [
      "2022-03-22 09:16:18.513006: W tensorflow/stream_executor/platform/default/dso_loader.cc:64] Could not load dynamic library 'libcudart.so.11.0'; dlerror: libcudart.so.11.0: cannot open shared object file: No such file or directory; LD_LIBRARY_PATH: /usr/lib64/mpich/lib\n",
      "2022-03-22 09:16:18.513026: I tensorflow/stream_executor/cuda/cudart_stub.cc:29] Ignore above cudart dlerror if you do not have a GPU set up on your machine.\n"
     ]
    }
   ],
   "source": [
    "import keras\n",
    "\n",
    "import matplotlib.pyplot as plt\n",
    "import numpy as np"
   ]
  },
  {
   "cell_type": "markdown",
   "metadata": {},
   "source": [
    "This notebook uses keras and the tensorflow backend to do character recognition on the MNIST digits.  You need to have the `keras` and `tensorflow` packages installed.  Also for visualization of the network, you need to have `pydot` installed.\n",
    "\n",
    "We folow the example for setting up the network:\n",
    "https://github.com/Vict0rSch/deep_learning/tree/master/keras/feedforward"
   ]
  },
  {
   "cell_type": "markdown",
   "metadata": {},
   "source": [
    "# The MNIST data\n",
    "\n",
    "The keras library can download the MNIST data directly and provides a function to give us both the training and test images and the corresponding digits."
   ]
  },
  {
   "cell_type": "code",
   "execution_count": 3,
   "metadata": {},
   "outputs": [],
   "source": [
    "from keras.datasets import mnist"
   ]
  },
  {
   "cell_type": "code",
   "execution_count": 4,
   "metadata": {},
   "outputs": [
    {
     "name": "stdout",
     "output_type": "stream",
     "text": [
      "Downloading data from https://storage.googleapis.com/tensorflow/tf-keras-datasets/mnist.npz\n",
      "11493376/11490434 [==============================] - 0s 0us/step\n",
      "11501568/11490434 [==============================] - 0s 0us/step\n"
     ]
    }
   ],
   "source": [
    "(X_train, y_train), (X_test, y_test) = mnist.load_data()"
   ]
  },
  {
   "cell_type": "markdown",
   "metadata": {},
   "source": [
    "Notice that the training set consists of 60000 digits represented as a 28x28 array (there are no color channels, so this is grayscale data).  They are also integer data."
   ]
  },
  {
   "cell_type": "code",
   "execution_count": 5,
   "metadata": {},
   "outputs": [
    {
     "data": {
      "text/plain": [
       "(60000, 28, 28)"
      ]
     },
     "execution_count": 5,
     "metadata": {},
     "output_type": "execute_result"
    }
   ],
   "source": [
    "X_train.shape"
   ]
  },
  {
   "cell_type": "code",
   "execution_count": 6,
   "metadata": {},
   "outputs": [
    {
     "data": {
      "text/plain": [
       "dtype('uint8')"
      ]
     },
     "execution_count": 6,
     "metadata": {},
     "output_type": "execute_result"
    }
   ],
   "source": [
    "X_train.dtype"
   ]
  },
  {
   "cell_type": "markdown",
   "metadata": {},
   "source": [
    "Let's look at the first digit and the \"y\" value (target) associated with it&mdash;that's the correct answer."
   ]
  },
  {
   "cell_type": "code",
   "execution_count": 7,
   "metadata": {},
   "outputs": [
    {
     "name": "stdout",
     "output_type": "stream",
     "text": [
      "5\n"
     ]
    },
    {
     "data": {
      "image/png": "[encoded data removed]",
      "text/plain": [
       "<Figure size 432x288 with 1 Axes>"
      ]
     },
     "metadata": {
      "needs_background": "light"
     },
     "output_type": "display_data"
    }
   ],
   "source": [
    "plt.imshow(X_train[0], cmap=\"gray_r\")\n",
    "print(y_train[0])"
   ]
  },
  {
   "cell_type": "markdown",
   "metadata": {},
   "source": [
    "## Preparing the Data\n",
    "\n",
    "The neural network takes a 1-d vector of input and will return a 1-d vector of output.  We need to convert our data to this form."
   ]
  },
  {
   "cell_type": "markdown",
   "metadata": {},
   "source": [
    "We'll scale the image data to fall in [0, 1) and the numerical output to be categorized as an array.  Finally, we need the input data to be one-dimensional, so we fill flatten the 28x28 images into a single 784 vector."
   ]
  },
  {
   "cell_type": "code",
   "execution_count": 8,
   "metadata": {},
   "outputs": [],
   "source": [
    "X_train = X_train.astype('float32')/255\n",
    "X_test = X_test.astype('float32')/255\n",
    "\n",
    "X_train = np.reshape(X_train, (60000, 784))\n",
    "X_test = np.reshape(X_test, (10000, 784))"
   ]
  },
  {
   "cell_type": "code",
   "execution_count": 9,
   "metadata": {},
   "outputs": [
    {
     "data": {
      "text/plain": [
       "array([0.        , 0.        , 0.        , 0.        , 0.        ,\n",
       "       0.        , 0.        , 0.        , 0.        , 0.        ,\n",
       "       0.        , 0.        , 0.        , 0.        , 0.        ,\n",
       "       0.        , 0.        , 0.        , 0.        , 0.        ,\n",
       "       0.        , 0.        , 0.        , 0.        , 0.        ,\n",
       "       0.        , 0.        , 0.        , 0.        , 0.        ,\n",
       "       0.        , 0.        , 0.        , 0.        , 0.        ,\n",
       "       0.        , 0.        , 0.        , 0.        , 0.        ,\n",
       "       0.        , 0.        , 0.        , 0.        , 0.        ,\n",
       "       0.        , 0.        , 0.        , 0.        , 0.        ,\n",
       "       0.        , 0.        , 0.        , 0.        , 0.        ,\n",
       "       0.        , 0.        , 0.        , 0.        , 0.        ,\n",
       "       0.        , 0.        , 0.        , 0.        , 0.        ,\n",
       "       0.        , 0.        , 0.        , 0.        , 0.        ,\n",
       "       0.        , 0.        , 0.        , 0.        , 0.        ,\n",
       "       0.        , 0.        , 0.        , 0.        , 0.        ,\n",
       "       0.        , 0.        , 0.        , 0.        , 0.        ,\n",
       "       0.        , 0.        , 0.        , 0.        , 0.        ,\n",
       "       0.        , 0.        , 0.        , 0.        , 0.        ,\n",
       "       0.        , 0.        , 0.        , 0.        , 0.        ,\n",
       "       0.        , 0.        , 0.        , 0.        , 0.        ,\n",
       "       0.        , 0.        , 0.        , 0.        , 0.        ,\n",
       "       0.        , 0.        , 0.        , 0.        , 0.        ,\n",
       "       0.        , 0.        , 0.        , 0.        , 0.        ,\n",
       "       0.        , 0.        , 0.        , 0.        , 0.        ,\n",
       "       0.        , 0.        , 0.        , 0.        , 0.        ,\n",
       "       0.        , 0.        , 0.        , 0.        , 0.        ,\n",
       "       0.        , 0.        , 0.        , 0.        , 0.        ,\n",
       "       0.        , 0.        , 0.        , 0.        , 0.        ,\n",
       "       0.        , 0.        , 0.        , 0.        , 0.        ,\n",
       "       0.        , 0.        , 0.01176471, 0.07058824, 0.07058824,\n",
       "       0.07058824, 0.49411765, 0.53333336, 0.6862745 , 0.10196079,\n",
       "       0.6509804 , 1.        , 0.96862745, 0.49803922, 0.        ,\n",
       "       0.        , 0.        , 0.        , 0.        , 0.        ,\n",
       "       0.        , 0.        , 0.        , 0.        , 0.        ,\n",
       "       0.        , 0.11764706, 0.14117648, 0.36862746, 0.6039216 ,\n",
       "       0.6666667 , 0.99215686, 0.99215686, 0.99215686, 0.99215686,\n",
       "       0.99215686, 0.88235295, 0.6745098 , 0.99215686, 0.9490196 ,\n",
       "       0.7647059 , 0.2509804 , 0.        , 0.        , 0.        ,\n",
       "       0.        , 0.        , 0.        , 0.        , 0.        ,\n",
       "       0.        , 0.        , 0.        , 0.19215687, 0.93333334,\n",
       "       0.99215686, 0.99215686, 0.99215686, 0.99215686, 0.99215686,\n",
       "       0.99215686, 0.99215686, 0.99215686, 0.9843137 , 0.3647059 ,\n",
       "       0.32156864, 0.32156864, 0.21960784, 0.15294118, 0.        ,\n",
       "       0.        , 0.        , 0.        , 0.        , 0.        ,\n",
       "       0.        , 0.        , 0.        , 0.        , 0.        ,\n",
       "       0.        , 0.07058824, 0.85882354, 0.99215686, 0.99215686,\n",
       "       0.99215686, 0.99215686, 0.99215686, 0.7764706 , 0.7137255 ,\n",
       "       0.96862745, 0.94509804, 0.        , 0.        , 0.        ,\n",
       "       0.        , 0.        , 0.        , 0.        , 0.        ,\n",
       "       0.        , 0.        , 0.        , 0.        , 0.        ,\n",
       "       0.        , 0.        , 0.        , 0.        , 0.        ,\n",
       "       0.3137255 , 0.6117647 , 0.41960785, 0.99215686, 0.99215686,\n",
       "       0.8039216 , 0.04313726, 0.        , 0.16862746, 0.6039216 ,\n",
       "       0.        , 0.        , 0.        , 0.        , 0.        ,\n",
       "       0.        , 0.        , 0.        , 0.        , 0.        ,\n",
       "       0.        , 0.        , 0.        , 0.        , 0.        ,\n",
       "       0.        , 0.        , 0.        , 0.        , 0.05490196,\n",
       "       0.00392157, 0.6039216 , 0.99215686, 0.3529412 , 0.        ,\n",
       "       0.        , 0.        , 0.        , 0.        , 0.        ,\n",
       "       0.        , 0.        , 0.        , 0.        , 0.        ,\n",
       "       0.        , 0.        , 0.        , 0.        , 0.        ,\n",
       "       0.        , 0.        , 0.        , 0.        , 0.        ,\n",
       "       0.        , 0.        , 0.        , 0.        , 0.54509807,\n",
       "       0.99215686, 0.74509805, 0.00784314, 0.        , 0.        ,\n",
       "       0.        , 0.        , 0.        , 0.        , 0.        ,\n",
       "       0.        , 0.        , 0.        , 0.        , 0.        ,\n",
       "       0.        , 0.        , 0.        , 0.        , 0.        ,\n",
       "       0.        , 0.        , 0.        , 0.        , 0.        ,\n",
       "       0.        , 0.        , 0.04313726, 0.74509805, 0.99215686,\n",
       "       0.27450982, 0.        , 0.        , 0.        , 0.        ,\n",
       "       0.        , 0.        , 0.        , 0.        , 0.        ,\n",
       "       0.        , 0.        , 0.        , 0.        , 0.        ,\n",
       "       0.        , 0.        , 0.        , 0.        , 0.        ,\n",
       "       0.        , 0.        , 0.        , 0.        , 0.        ,\n",
       "       0.        , 0.13725491, 0.94509804, 0.88235295, 0.627451  ,\n",
       "       0.42352942, 0.00392157, 0.        , 0.        , 0.        ,\n",
       "       0.        , 0.        , 0.        , 0.        , 0.        ,\n",
       "       0.        , 0.        , 0.        , 0.        , 0.        ,\n",
       "       0.        , 0.        , 0.        , 0.        , 0.        ,\n",
       "       0.        , 0.        , 0.        , 0.        , 0.        ,\n",
       "       0.31764707, 0.9411765 , 0.99215686, 0.99215686, 0.46666667,\n",
       "       0.09803922, 0.        , 0.        , 0.        , 0.        ,\n",
       "       0.        , 0.        , 0.        , 0.        , 0.        ,\n",
       "       0.        , 0.        , 0.        , 0.        , 0.        ,\n",
       "       0.        , 0.        , 0.        , 0.        , 0.        ,\n",
       "       0.        , 0.        , 0.        , 0.        , 0.1764706 ,\n",
       "       0.7294118 , 0.99215686, 0.99215686, 0.5882353 , 0.10588235,\n",
       "       0.        , 0.        , 0.        , 0.        , 0.        ,\n",
       "       0.        , 0.        , 0.        , 0.        , 0.        ,\n",
       "       0.        , 0.        , 0.        , 0.        , 0.        ,\n",
       "       0.        , 0.        , 0.        , 0.        , 0.        ,\n",
       "       0.        , 0.        , 0.        , 0.0627451 , 0.3647059 ,\n",
       "       0.9882353 , 0.99215686, 0.73333335, 0.        , 0.        ,\n",
       "       0.        , 0.        , 0.        , 0.        , 0.        ,\n",
       "       0.        , 0.        , 0.        , 0.        , 0.        ,\n",
       "       0.        , 0.        , 0.        , 0.        , 0.        ,\n",
       "       0.        , 0.        , 0.        , 0.        , 0.        ,\n",
       "       0.        , 0.        , 0.        , 0.9764706 , 0.99215686,\n",
       "       0.9764706 , 0.2509804 , 0.        , 0.        , 0.        ,\n",
       "       0.        , 0.        , 0.        , 0.        , 0.        ,\n",
       "       0.        , 0.        , 0.        , 0.        , 0.        ,\n",
       "       0.        , 0.        , 0.        , 0.        , 0.        ,\n",
       "       0.        , 0.        , 0.        , 0.18039216, 0.50980395,\n",
       "       0.7176471 , 0.99215686, 0.99215686, 0.8117647 , 0.00784314,\n",
       "       0.        , 0.        , 0.        , 0.        , 0.        ,\n",
       "       0.        , 0.        , 0.        , 0.        , 0.        ,\n",
       "       0.        , 0.        , 0.        , 0.        , 0.        ,\n",
       "       0.        , 0.        , 0.        , 0.        , 0.15294118,\n",
       "       0.5803922 , 0.8980392 , 0.99215686, 0.99215686, 0.99215686,\n",
       "       0.98039216, 0.7137255 , 0.        , 0.        , 0.        ,\n",
       "       0.        , 0.        , 0.        , 0.        , 0.        ,\n",
       "       0.        , 0.        , 0.        , 0.        , 0.        ,\n",
       "       0.        , 0.        , 0.        , 0.        , 0.        ,\n",
       "       0.09411765, 0.44705883, 0.8666667 , 0.99215686, 0.99215686,\n",
       "       0.99215686, 0.99215686, 0.7882353 , 0.30588236, 0.        ,\n",
       "       0.        , 0.        , 0.        , 0.        , 0.        ,\n",
       "       0.        , 0.        , 0.        , 0.        , 0.        ,\n",
       "       0.        , 0.        , 0.        , 0.        , 0.        ,\n",
       "       0.        , 0.09019608, 0.25882354, 0.8352941 , 0.99215686,\n",
       "       0.99215686, 0.99215686, 0.99215686, 0.7764706 , 0.31764707,\n",
       "       0.00784314, 0.        , 0.        , 0.        , 0.        ,\n",
       "       0.        , 0.        , 0.        , 0.        , 0.        ,\n",
       "       0.        , 0.        , 0.        , 0.        , 0.        ,\n",
       "       0.        , 0.        , 0.07058824, 0.67058825, 0.85882354,\n",
       "       0.99215686, 0.99215686, 0.99215686, 0.99215686, 0.7647059 ,\n",
       "       0.3137255 , 0.03529412, 0.        , 0.        , 0.        ,\n",
       "       0.        , 0.        , 0.        , 0.        , 0.        ,\n",
       "       0.        , 0.        , 0.        , 0.        , 0.        ,\n",
       "       0.        , 0.        , 0.        , 0.21568628, 0.6745098 ,\n",
       "       0.8862745 , 0.99215686, 0.99215686, 0.99215686, 0.99215686,\n",
       "       0.95686275, 0.52156866, 0.04313726, 0.        , 0.        ,\n",
       "       0.        , 0.        , 0.        , 0.        , 0.        ,\n",
       "       0.        , 0.        , 0.        , 0.        , 0.        ,\n",
       "       0.        , 0.        , 0.        , 0.        , 0.        ,\n",
       "       0.        , 0.53333336, 0.99215686, 0.99215686, 0.99215686,\n",
       "       0.83137256, 0.5294118 , 0.5176471 , 0.0627451 , 0.        ,\n",
       "       0.        , 0.        , 0.        , 0.        , 0.        ,\n",
       "       0.        , 0.        , 0.        , 0.        , 0.        ,\n",
       "       0.        , 0.        , 0.        , 0.        , 0.        ,\n",
       "       0.        , 0.        , 0.        , 0.        , 0.        ,\n",
       "       0.        , 0.        , 0.        , 0.        , 0.        ,\n",
       "       0.        , 0.        , 0.        , 0.        , 0.        ,\n",
       "       0.        , 0.        , 0.        , 0.        , 0.        ,\n",
       "       0.        , 0.        , 0.        , 0.        , 0.        ,\n",
       "       0.        , 0.        , 0.        , 0.        , 0.        ,\n",
       "       0.        , 0.        , 0.        , 0.        , 0.        ,\n",
       "       0.        , 0.        , 0.        , 0.        , 0.        ,\n",
       "       0.        , 0.        , 0.        , 0.        , 0.        ,\n",
       "       0.        , 0.        , 0.        , 0.        , 0.        ,\n",
       "       0.        , 0.        , 0.        , 0.        , 0.        ,\n",
       "       0.        , 0.        , 0.        , 0.        , 0.        ,\n",
       "       0.        , 0.        , 0.        , 0.        , 0.        ,\n",
       "       0.        , 0.        , 0.        , 0.        , 0.        ,\n",
       "       0.        , 0.        , 0.        , 0.        , 0.        ,\n",
       "       0.        , 0.        , 0.        , 0.        , 0.        ,\n",
       "       0.        , 0.        , 0.        , 0.        ], dtype=float32)"
      ]
     },
     "execution_count": 9,
     "metadata": {},
     "output_type": "execute_result"
    }
   ],
   "source": [
    "X_train[0]"
   ]
  },
  {
   "cell_type": "markdown",
   "metadata": {},
   "source": [
    "For the targets (y), we need to convert the output to an array that matches what we expect the output of the neural network to be.  keras includes routines to categorize data.  In our case, since there are 10 possible digits, we want to put the output into 10 categories (represented by 10 neurons)"
   ]
  },
  {
   "cell_type": "code",
   "execution_count": 10,
   "metadata": {},
   "outputs": [],
   "source": [
    "from keras.utils import np_utils\n",
    "\n",
    "y_train = np_utils.to_categorical(y_train, 10)\n",
    "y_test = np_utils.to_categorical(y_test, 10)"
   ]
  },
  {
   "cell_type": "markdown",
   "metadata": {},
   "source": [
    "Now let's look at the target for the first training digit.  We know from above that it was '5'.  Here we see that there is a `1` in the index corresponding to `5` (remember we start counting at `0` in python)."
   ]
  },
  {
   "cell_type": "code",
   "execution_count": 11,
   "metadata": {},
   "outputs": [
    {
     "data": {
      "text/plain": [
       "array([0., 0., 0., 0., 0., 1., 0., 0., 0., 0.], dtype=float32)"
      ]
     },
     "execution_count": 11,
     "metadata": {},
     "output_type": "execute_result"
    }
   ],
   "source": [
    "y_train[0]"
   ]
  },
  {
   "cell_type": "markdown",
   "metadata": {},
   "source": [
    "# Build the Neural Network"
   ]
  },
  {
   "cell_type": "markdown",
   "metadata": {},
   "source": [
    "Now we'll build the neural network.  We will have 2 hidden layers, and the number of neurons will look like:\n",
    "\n",
    "784 &rarr; 500 &rarr; 300 &rarr; 10\n",
    "\n",
    "We will use a **dense** network.  This means that all neurons in one layer are connected to all neurons in the next layer (sometimes the term \"fully-connected\" is used here).\n",
    "\n",
    "For each layer, we tell keras the number of output neurons.  It infers the number of inputs from the previous layer (with the exception of the input layer, where we need to tell it what to expect as input).\n",
    "\n",
    "Also, for each layer, we specify the **activation** function.  We can use \"sigmoid\" or some other choices.  We'll use\n",
    "the the _rectified linear unit_ activation function (see http://ml-cheatsheet.readthedocs.io/en/latest/activation_functions.html#relu) for all but the last layer.  See https://keras.io/activations/ for a list of activation functions supported.\n",
    "\n",
    "Finally, for some of the layers, we will specify a **dropout**.  This means that we will ignore some of the neurons in a layer during training (randomly selected at the specified probability).  This can help present overfitting of the network.  Here's a nice discussion: https://medium.com/@amarbudhiraja/https-medium-com-amarbudhiraja-learning-less-to-learn-better-dropout-in-deep-machine-learning-74334da4bfc5\n",
    "\n",
    "For the very last layer (the output layer), we use a `softmax` activation.  This is commonly used with categorical data (like we have) and has the nice property that all of entries add to 1 (so we can interpret them as probabilities)."
   ]
  },
  {
   "cell_type": "code",
   "execution_count": 18,
   "metadata": {},
   "outputs": [],
   "source": [
    "from keras.models import Sequential\n",
    "from keras.layers.core import Dense, Dropout, Activation\n",
    "from tensorflow.keras.optimizers import RMSprop\n",
    "\n",
    "model = Sequential()\n",
    "model.add(Dense(500, input_dim=784))\n",
    "model.add(Activation('relu'))\n",
    "model.add(Dropout(0.4))\n",
    "model.add(Dense(300))\n",
    "model.add(Activation('relu'))\n",
    "model.add(Dropout(0.4))\n",
    "model.add(Dense(10))\n",
    "model.add(Activation('softmax'))"
   ]
  },
  {
   "cell_type": "markdown",
   "metadata": {},
   "source": [
    "Let's look at the network"
   ]
  },
  {
   "cell_type": "code",
   "execution_count": 19,
   "metadata": {},
   "outputs": [
    {
     "data": {
      "image/svg+xml": [
       "<svg xmlns=\"http://www.w3.org/2000/svg\" xmlns:xlink=\"http://www.w3.org/1999/xlink\" width=\"456pt\" height=\"959pt\" viewBox=\"0.00 0.00 342.00 719.00\">\n",
       "<g id=\"graph0\" class=\"graph\" transform=\"scale(1.33 1.33) rotate(0) translate(4 715)\">\n",
       "<title>G</title>\n",
       "<polygon fill=\"white\" stroke=\"transparent\" points=\"-4,4 -4,-715 338,-715 338,4 -4,4\"/>\n",
       "<!-- 139936825409056 -->\n",
       "<g id=\"node1\" class=\"node\">\n",
       "<title>139936825409056</title>\n",
       "<polygon fill=\"none\" stroke=\"black\" points=\"0,-664.5 0,-710.5 334,-710.5 334,-664.5 0,-664.5\"/>\n",
       "<text text-anchor=\"middle\" x=\"47.5\" y=\"-695.3\" font-family=\"Times,serif\" font-size=\"14.00\">dense_3_input</text>\n",
       "<polyline fill=\"none\" stroke=\"black\" points=\"0,-687.5 95,-687.5 \"/>\n",
       "<text text-anchor=\"middle\" x=\"47.5\" y=\"-672.3\" font-family=\"Times,serif\" font-size=\"14.00\">InputLayer</text>\n",
       "<polyline fill=\"none\" stroke=\"black\" points=\"95,-664.5 95,-710.5 \"/>\n",
       "<text text-anchor=\"middle\" x=\"122.5\" y=\"-695.3\" font-family=\"Times,serif\" font-size=\"14.00\">input:</text>\n",
       "<polyline fill=\"none\" stroke=\"black\" points=\"95,-687.5 150,-687.5 \"/>\n",
       "<text text-anchor=\"middle\" x=\"122.5\" y=\"-672.3\" font-family=\"Times,serif\" font-size=\"14.00\">output:</text>\n",
       "<polyline fill=\"none\" stroke=\"black\" points=\"150,-664.5 150,-710.5 \"/>\n",
       "<text text-anchor=\"middle\" x=\"196\" y=\"-683.8\" font-family=\"Times,serif\" font-size=\"14.00\">[(None, 784)]</text>\n",
       "<polyline fill=\"none\" stroke=\"black\" points=\"242,-664.5 242,-710.5 \"/>\n",
       "<text text-anchor=\"middle\" x=\"288\" y=\"-683.8\" font-family=\"Times,serif\" font-size=\"14.00\">[(None, 784)]</text>\n",
       "</g>\n",
       "<!-- 139935594273888 -->\n",
       "<g id=\"node2\" class=\"node\">\n",
       "<title>139935594273888</title>\n",
       "<polygon fill=\"none\" stroke=\"black\" points=\"26,-581.5 26,-627.5 308,-627.5 308,-581.5 26,-581.5\"/>\n",
       "<text text-anchor=\"middle\" x=\"56.5\" y=\"-612.3\" font-family=\"Times,serif\" font-size=\"14.00\">dense_3</text>\n",
       "<polyline fill=\"none\" stroke=\"black\" points=\"26,-604.5 87,-604.5 \"/>\n",
       "<text text-anchor=\"middle\" x=\"56.5\" y=\"-589.3\" font-family=\"Times,serif\" font-size=\"14.00\">Dense</text>\n",
       "<polyline fill=\"none\" stroke=\"black\" points=\"87,-581.5 87,-627.5 \"/>\n",
       "<text text-anchor=\"middle\" x=\"114.5\" y=\"-612.3\" font-family=\"Times,serif\" font-size=\"14.00\">input:</text>\n",
       "<polyline fill=\"none\" stroke=\"black\" points=\"87,-604.5 142,-604.5 \"/>\n",
       "<text text-anchor=\"middle\" x=\"114.5\" y=\"-589.3\" font-family=\"Times,serif\" font-size=\"14.00\">output:</text>\n",
       "<polyline fill=\"none\" stroke=\"black\" points=\"142,-581.5 142,-627.5 \"/>\n",
       "<text text-anchor=\"middle\" x=\"183.5\" y=\"-600.8\" font-family=\"Times,serif\" font-size=\"14.00\">(None, 784)</text>\n",
       "<polyline fill=\"none\" stroke=\"black\" points=\"225,-581.5 225,-627.5 \"/>\n",
       "<text text-anchor=\"middle\" x=\"266.5\" y=\"-600.8\" font-family=\"Times,serif\" font-size=\"14.00\">(None, 500)</text>\n",
       "</g>\n",
       "<!-- 139936825409056&#45;&gt;139935594273888 -->\n",
       "<g id=\"edge1\" class=\"edge\">\n",
       "<title>139936825409056-&gt;139935594273888</title>\n",
       "<path fill=\"none\" stroke=\"black\" d=\"M167,-664.37C167,-656.15 167,-646.66 167,-637.73\"/>\n",
       "<polygon fill=\"black\" stroke=\"black\" points=\"170.5,-637.61 167,-627.61 163.5,-637.61 170.5,-637.61\"/>\n",
       "</g>\n",
       "<!-- 139935593907632 -->\n",
       "<g id=\"node3\" class=\"node\">\n",
       "<title>139935593907632</title>\n",
       "<polygon fill=\"none\" stroke=\"black\" points=\"15,-498.5 15,-544.5 319,-544.5 319,-498.5 15,-498.5\"/>\n",
       "<text text-anchor=\"middle\" x=\"56.5\" y=\"-529.3\" font-family=\"Times,serif\" font-size=\"14.00\">activation_3</text>\n",
       "<polyline fill=\"none\" stroke=\"black\" points=\"15,-521.5 98,-521.5 \"/>\n",
       "<text text-anchor=\"middle\" x=\"56.5\" y=\"-506.3\" font-family=\"Times,serif\" font-size=\"14.00\">Activation</text>\n",
       "<polyline fill=\"none\" stroke=\"black\" points=\"98,-498.5 98,-544.5 \"/>\n",
       "<text text-anchor=\"middle\" x=\"125.5\" y=\"-529.3\" font-family=\"Times,serif\" font-size=\"14.00\">input:</text>\n",
       "<polyline fill=\"none\" stroke=\"black\" points=\"98,-521.5 153,-521.5 \"/>\n",
       "<text text-anchor=\"middle\" x=\"125.5\" y=\"-506.3\" font-family=\"Times,serif\" font-size=\"14.00\">output:</text>\n",
       "<polyline fill=\"none\" stroke=\"black\" points=\"153,-498.5 153,-544.5 \"/>\n",
       "<text text-anchor=\"middle\" x=\"194.5\" y=\"-517.8\" font-family=\"Times,serif\" font-size=\"14.00\">(None, 500)</text>\n",
       "<polyline fill=\"none\" stroke=\"black\" points=\"236,-498.5 236,-544.5 \"/>\n",
       "<text text-anchor=\"middle\" x=\"277.5\" y=\"-517.8\" font-family=\"Times,serif\" font-size=\"14.00\">(None, 500)</text>\n",
       "</g>\n",
       "<!-- 139935594273888&#45;&gt;139935593907632 -->\n",
       "<g id=\"edge2\" class=\"edge\">\n",
       "<title>139935594273888-&gt;139935593907632</title>\n",
       "<path fill=\"none\" stroke=\"black\" d=\"M167,-581.37C167,-573.15 167,-563.66 167,-554.73\"/>\n",
       "<polygon fill=\"black\" stroke=\"black\" points=\"170.5,-554.61 167,-544.61 163.5,-554.61 170.5,-554.61\"/>\n",
       "</g>\n",
       "<!-- 139936820677984 -->\n",
       "<g id=\"node4\" class=\"node\">\n",
       "<title>139936820677984</title>\n",
       "<polygon fill=\"none\" stroke=\"black\" points=\"20.5,-415.5 20.5,-461.5 313.5,-461.5 313.5,-415.5 20.5,-415.5\"/>\n",
       "<text text-anchor=\"middle\" x=\"56.5\" y=\"-446.3\" font-family=\"Times,serif\" font-size=\"14.00\">dropout_2</text>\n",
       "<polyline fill=\"none\" stroke=\"black\" points=\"20.5,-438.5 92.5,-438.5 \"/>\n",
       "<text text-anchor=\"middle\" x=\"56.5\" y=\"-423.3\" font-family=\"Times,serif\" font-size=\"14.00\">Dropout</text>\n",
       "<polyline fill=\"none\" stroke=\"black\" points=\"92.5,-415.5 92.5,-461.5 \"/>\n",
       "<text text-anchor=\"middle\" x=\"120\" y=\"-446.3\" font-family=\"Times,serif\" font-size=\"14.00\">input:</text>\n",
       "<polyline fill=\"none\" stroke=\"black\" points=\"92.5,-438.5 147.5,-438.5 \"/>\n",
       "<text text-anchor=\"middle\" x=\"120\" y=\"-423.3\" font-family=\"Times,serif\" font-size=\"14.00\">output:</text>\n",
       "<polyline fill=\"none\" stroke=\"black\" points=\"147.5,-415.5 147.5,-461.5 \"/>\n",
       "<text text-anchor=\"middle\" x=\"189\" y=\"-434.8\" font-family=\"Times,serif\" font-size=\"14.00\">(None, 500)</text>\n",
       "<polyline fill=\"none\" stroke=\"black\" points=\"230.5,-415.5 230.5,-461.5 \"/>\n",
       "<text text-anchor=\"middle\" x=\"272\" y=\"-434.8\" font-family=\"Times,serif\" font-size=\"14.00\">(None, 500)</text>\n",
       "</g>\n",
       "<!-- 139935593907632&#45;&gt;139936820677984 -->\n",
       "<g id=\"edge3\" class=\"edge\">\n",
       "<title>139935593907632-&gt;139936820677984</title>\n",
       "<path fill=\"none\" stroke=\"black\" d=\"M167,-498.37C167,-490.15 167,-480.66 167,-471.73\"/>\n",
       "<polygon fill=\"black\" stroke=\"black\" points=\"170.5,-471.61 167,-461.61 163.5,-471.61 170.5,-471.61\"/>\n",
       "</g>\n",
       "<!-- 139936820857200 -->\n",
       "<g id=\"node5\" class=\"node\">\n",
       "<title>139936820857200</title>\n",
       "<polygon fill=\"none\" stroke=\"black\" points=\"26,-332.5 26,-378.5 308,-378.5 308,-332.5 26,-332.5\"/>\n",
       "<text text-anchor=\"middle\" x=\"56.5\" y=\"-363.3\" font-family=\"Times,serif\" font-size=\"14.00\">dense_4</text>\n",
       "<polyline fill=\"none\" stroke=\"black\" points=\"26,-355.5 87,-355.5 \"/>\n",
       "<text text-anchor=\"middle\" x=\"56.5\" y=\"-340.3\" font-family=\"Times,serif\" font-size=\"14.00\">Dense</text>\n",
       "<polyline fill=\"none\" stroke=\"black\" points=\"87,-332.5 87,-378.5 \"/>\n",
       "<text text-anchor=\"middle\" x=\"114.5\" y=\"-363.3\" font-family=\"Times,serif\" font-size=\"14.00\">input:</text>\n",
       "<polyline fill=\"none\" stroke=\"black\" points=\"87,-355.5 142,-355.5 \"/>\n",
       "<text text-anchor=\"middle\" x=\"114.5\" y=\"-340.3\" font-family=\"Times,serif\" font-size=\"14.00\">output:</text>\n",
       "<polyline fill=\"none\" stroke=\"black\" points=\"142,-332.5 142,-378.5 \"/>\n",
       "<text text-anchor=\"middle\" x=\"183.5\" y=\"-351.8\" font-family=\"Times,serif\" font-size=\"14.00\">(None, 500)</text>\n",
       "<polyline fill=\"none\" stroke=\"black\" points=\"225,-332.5 225,-378.5 \"/>\n",
       "<text text-anchor=\"middle\" x=\"266.5\" y=\"-351.8\" font-family=\"Times,serif\" font-size=\"14.00\">(None, 300)</text>\n",
       "</g>\n",
       "<!-- 139936820677984&#45;&gt;139936820857200 -->\n",
       "<g id=\"edge4\" class=\"edge\">\n",
       "<title>139936820677984-&gt;139936820857200</title>\n",
       "<path fill=\"none\" stroke=\"black\" d=\"M167,-415.37C167,-407.15 167,-397.66 167,-388.73\"/>\n",
       "<polygon fill=\"black\" stroke=\"black\" points=\"170.5,-388.61 167,-378.61 163.5,-388.61 170.5,-388.61\"/>\n",
       "</g>\n",
       "<!-- 139936820690656 -->\n",
       "<g id=\"node6\" class=\"node\">\n",
       "<title>139936820690656</title>\n",
       "<polygon fill=\"none\" stroke=\"black\" points=\"15,-249.5 15,-295.5 319,-295.5 319,-249.5 15,-249.5\"/>\n",
       "<text text-anchor=\"middle\" x=\"56.5\" y=\"-280.3\" font-family=\"Times,serif\" font-size=\"14.00\">activation_4</text>\n",
       "<polyline fill=\"none\" stroke=\"black\" points=\"15,-272.5 98,-272.5 \"/>\n",
       "<text text-anchor=\"middle\" x=\"56.5\" y=\"-257.3\" font-family=\"Times,serif\" font-size=\"14.00\">Activation</text>\n",
       "<polyline fill=\"none\" stroke=\"black\" points=\"98,-249.5 98,-295.5 \"/>\n",
       "<text text-anchor=\"middle\" x=\"125.5\" y=\"-280.3\" font-family=\"Times,serif\" font-size=\"14.00\">input:</text>\n",
       "<polyline fill=\"none\" stroke=\"black\" points=\"98,-272.5 153,-272.5 \"/>\n",
       "<text text-anchor=\"middle\" x=\"125.5\" y=\"-257.3\" font-family=\"Times,serif\" font-size=\"14.00\">output:</text>\n",
       "<polyline fill=\"none\" stroke=\"black\" points=\"153,-249.5 153,-295.5 \"/>\n",
       "<text text-anchor=\"middle\" x=\"194.5\" y=\"-268.8\" font-family=\"Times,serif\" font-size=\"14.00\">(None, 300)</text>\n",
       "<polyline fill=\"none\" stroke=\"black\" points=\"236,-249.5 236,-295.5 \"/>\n",
       "<text text-anchor=\"middle\" x=\"277.5\" y=\"-268.8\" font-family=\"Times,serif\" font-size=\"14.00\">(None, 300)</text>\n",
       "</g>\n",
       "<!-- 139936820857200&#45;&gt;139936820690656 -->\n",
       "<g id=\"edge5\" class=\"edge\">\n",
       "<title>139936820857200-&gt;139936820690656</title>\n",
       "<path fill=\"none\" stroke=\"black\" d=\"M167,-332.37C167,-324.15 167,-314.66 167,-305.73\"/>\n",
       "<polygon fill=\"black\" stroke=\"black\" points=\"170.5,-305.61 167,-295.61 163.5,-305.61 170.5,-305.61\"/>\n",
       "</g>\n",
       "<!-- 139936820856912 -->\n",
       "<g id=\"node7\" class=\"node\">\n",
       "<title>139936820856912</title>\n",
       "<polygon fill=\"none\" stroke=\"black\" points=\"20.5,-166.5 20.5,-212.5 313.5,-212.5 313.5,-166.5 20.5,-166.5\"/>\n",
       "<text text-anchor=\"middle\" x=\"56.5\" y=\"-197.3\" font-family=\"Times,serif\" font-size=\"14.00\">dropout_3</text>\n",
       "<polyline fill=\"none\" stroke=\"black\" points=\"20.5,-189.5 92.5,-189.5 \"/>\n",
       "<text text-anchor=\"middle\" x=\"56.5\" y=\"-174.3\" font-family=\"Times,serif\" font-size=\"14.00\">Dropout</text>\n",
       "<polyline fill=\"none\" stroke=\"black\" points=\"92.5,-166.5 92.5,-212.5 \"/>\n",
       "<text text-anchor=\"middle\" x=\"120\" y=\"-197.3\" font-family=\"Times,serif\" font-size=\"14.00\">input:</text>\n",
       "<polyline fill=\"none\" stroke=\"black\" points=\"92.5,-189.5 147.5,-189.5 \"/>\n",
       "<text text-anchor=\"middle\" x=\"120\" y=\"-174.3\" font-family=\"Times,serif\" font-size=\"14.00\">output:</text>\n",
       "<polyline fill=\"none\" stroke=\"black\" points=\"147.5,-166.5 147.5,-212.5 \"/>\n",
       "<text text-anchor=\"middle\" x=\"189\" y=\"-185.8\" font-family=\"Times,serif\" font-size=\"14.00\">(None, 300)</text>\n",
       "<polyline fill=\"none\" stroke=\"black\" points=\"230.5,-166.5 230.5,-212.5 \"/>\n",
       "<text text-anchor=\"middle\" x=\"272\" y=\"-185.8\" font-family=\"Times,serif\" font-size=\"14.00\">(None, 300)</text>\n",
       "</g>\n",
       "<!-- 139936820690656&#45;&gt;139936820856912 -->\n",
       "<g id=\"edge6\" class=\"edge\">\n",
       "<title>139936820690656-&gt;139936820856912</title>\n",
       "<path fill=\"none\" stroke=\"black\" d=\"M167,-249.37C167,-241.15 167,-231.66 167,-222.73\"/>\n",
       "<polygon fill=\"black\" stroke=\"black\" points=\"170.5,-222.61 167,-212.61 163.5,-222.61 170.5,-222.61\"/>\n",
       "</g>\n",
       "<!-- 139936820863248 -->\n",
       "<g id=\"node8\" class=\"node\">\n",
       "<title>139936820863248</title>\n",
       "<polygon fill=\"none\" stroke=\"black\" points=\"29.5,-83.5 29.5,-129.5 304.5,-129.5 304.5,-83.5 29.5,-83.5\"/>\n",
       "<text text-anchor=\"middle\" x=\"60\" y=\"-114.3\" font-family=\"Times,serif\" font-size=\"14.00\">dense_5</text>\n",
       "<polyline fill=\"none\" stroke=\"black\" points=\"29.5,-106.5 90.5,-106.5 \"/>\n",
       "<text text-anchor=\"middle\" x=\"60\" y=\"-91.3\" font-family=\"Times,serif\" font-size=\"14.00\">Dense</text>\n",
       "<polyline fill=\"none\" stroke=\"black\" points=\"90.5,-83.5 90.5,-129.5 \"/>\n",
       "<text text-anchor=\"middle\" x=\"118\" y=\"-114.3\" font-family=\"Times,serif\" font-size=\"14.00\">input:</text>\n",
       "<polyline fill=\"none\" stroke=\"black\" points=\"90.5,-106.5 145.5,-106.5 \"/>\n",
       "<text text-anchor=\"middle\" x=\"118\" y=\"-91.3\" font-family=\"Times,serif\" font-size=\"14.00\">output:</text>\n",
       "<polyline fill=\"none\" stroke=\"black\" points=\"145.5,-83.5 145.5,-129.5 \"/>\n",
       "<text text-anchor=\"middle\" x=\"187\" y=\"-102.8\" font-family=\"Times,serif\" font-size=\"14.00\">(None, 300)</text>\n",
       "<polyline fill=\"none\" stroke=\"black\" points=\"228.5,-83.5 228.5,-129.5 \"/>\n",
       "<text text-anchor=\"middle\" x=\"266.5\" y=\"-102.8\" font-family=\"Times,serif\" font-size=\"14.00\">(None, 10)</text>\n",
       "</g>\n",
       "<!-- 139936820856912&#45;&gt;139936820863248 -->\n",
       "<g id=\"edge7\" class=\"edge\">\n",
       "<title>139936820856912-&gt;139936820863248</title>\n",
       "<path fill=\"none\" stroke=\"black\" d=\"M167,-166.37C167,-158.15 167,-148.66 167,-139.73\"/>\n",
       "<polygon fill=\"black\" stroke=\"black\" points=\"170.5,-139.61 167,-129.61 163.5,-139.61 170.5,-139.61\"/>\n",
       "</g>\n",
       "<!-- 139936820866080 -->\n",
       "<g id=\"node9\" class=\"node\">\n",
       "<title>139936820866080</title>\n",
       "<polygon fill=\"none\" stroke=\"black\" points=\"22,-0.5 22,-46.5 312,-46.5 312,-0.5 22,-0.5\"/>\n",
       "<text text-anchor=\"middle\" x=\"63.5\" y=\"-31.3\" font-family=\"Times,serif\" font-size=\"14.00\">activation_5</text>\n",
       "<polyline fill=\"none\" stroke=\"black\" points=\"22,-23.5 105,-23.5 \"/>\n",
       "<text text-anchor=\"middle\" x=\"63.5\" y=\"-8.3\" font-family=\"Times,serif\" font-size=\"14.00\">Activation</text>\n",
       "<polyline fill=\"none\" stroke=\"black\" points=\"105,-0.5 105,-46.5 \"/>\n",
       "<text text-anchor=\"middle\" x=\"132.5\" y=\"-31.3\" font-family=\"Times,serif\" font-size=\"14.00\">input:</text>\n",
       "<polyline fill=\"none\" stroke=\"black\" points=\"105,-23.5 160,-23.5 \"/>\n",
       "<text text-anchor=\"middle\" x=\"132.5\" y=\"-8.3\" font-family=\"Times,serif\" font-size=\"14.00\">output:</text>\n",
       "<polyline fill=\"none\" stroke=\"black\" points=\"160,-0.5 160,-46.5 \"/>\n",
       "<text text-anchor=\"middle\" x=\"198\" y=\"-19.8\" font-family=\"Times,serif\" font-size=\"14.00\">(None, 10)</text>\n",
       "<polyline fill=\"none\" stroke=\"black\" points=\"236,-0.5 236,-46.5 \"/>\n",
       "<text text-anchor=\"middle\" x=\"274\" y=\"-19.8\" font-family=\"Times,serif\" font-size=\"14.00\">(None, 10)</text>\n",
       "</g>\n",
       "<!-- 139936820863248&#45;&gt;139936820866080 -->\n",
       "<g id=\"edge8\" class=\"edge\">\n",
       "<title>139936820863248-&gt;139936820866080</title>\n",
       "<path fill=\"none\" stroke=\"black\" d=\"M167,-83.37C167,-75.15 167,-65.66 167,-56.73\"/>\n",
       "<polygon fill=\"black\" stroke=\"black\" points=\"170.5,-56.61 167,-46.61 163.5,-56.61 170.5,-56.61\"/>\n",
       "</g>\n",
       "</g>\n",
       "</svg>"
      ],
      "text/plain": [
       "<IPython.core.display.SVG object>"
      ]
     },
     "execution_count": 19,
     "metadata": {},
     "output_type": "execute_result"
    }
   ],
   "source": [
    "from IPython.display import SVG\n",
    "from keras.utils.vis_utils import model_to_dot\n",
    "\n",
    "SVG(model_to_dot(model, show_shapes=True).create(prog='dot', format='svg'))"
   ]
  },
  {
   "cell_type": "markdown",
   "metadata": {},
   "source": [
    "We need to specify what we want to optimize and how we are going to do it.  \n",
    "\n",
    "The loss (or objective) function measures how well our predictions match the expected target (an example can be the root-mean-square of the error).  For category data, like we have, the \"cross-entropy\" metric is often used.  See here for an explanation: https://jamesmccaffrey.wordpress.com/2013/11/05/why-you-should-use-cross-entropy-error-instead-of-classification-error-or-mean-squared-error-for-neural-network-classifier-training/\n",
    "\n",
    "We also need to specify an optimizer.  This could be like gradient descent.  Here's a list of the optimizers supoprted by keras: https://keras.io/optimizers/  We'll use `RMPprop`.\n",
    "\n",
    "Finally, we need to specify a metric that is evaluated during training and testing.  We'll use `\"accuracy\"` here.  This means that we'll see the accuracy of our model reported as we are training and testing.\n",
    "\n",
    "More details on these options is here: https://keras.io/models/model/"
   ]
  },
  {
   "cell_type": "code",
   "execution_count": 20,
   "metadata": {},
   "outputs": [],
   "source": [
    "rms = RMSprop()\n",
    "model.compile(loss='categorical_crossentropy',\n",
    "              optimizer=rms, metrics=['accuracy'])"
   ]
  },
  {
   "cell_type": "markdown",
   "metadata": {},
   "source": [
    "# Train\n",
    "\n",
    "For training, we pass in the inputs and target and the number of epochs to run and it will optimize the network by adjusting the weights between the nodes in the layers.\n",
    "\n",
    "The number of epochs is the number of times the entire data set is passed forward and backward through the network.  The batch size is the number of training pairs you pass through the network at a given time.  You update the parameter in your model (the weights) once for each batch.  This makes things more efficient and less noisy."
   ]
  },
  {
   "cell_type": "code",
   "execution_count": 21,
   "metadata": {},
   "outputs": [
    {
     "name": "stdout",
     "output_type": "stream",
     "text": [
      "Epoch 1/20\n",
      "235/235 - 2s - loss: 0.3563 - accuracy: 0.8922 - val_loss: 0.1599 - val_accuracy: 0.9495 - 2s/epoch - 7ms/step\n",
      "Epoch 2/20\n",
      "235/235 - 1s - loss: 0.1510 - accuracy: 0.9545 - val_loss: 0.0986 - val_accuracy: 0.9685 - 1s/epoch - 5ms/step\n",
      "Epoch 3/20\n",
      "235/235 - 1s - loss: 0.1141 - accuracy: 0.9649 - val_loss: 0.0910 - val_accuracy: 0.9733 - 1s/epoch - 5ms/step\n",
      "Epoch 4/20\n",
      "235/235 - 1s - loss: 0.0942 - accuracy: 0.9715 - val_loss: 0.0795 - val_accuracy: 0.9767 - 1s/epoch - 5ms/step\n",
      "Epoch 5/20\n",
      "235/235 - 1s - loss: 0.0809 - accuracy: 0.9748 - val_loss: 0.0677 - val_accuracy: 0.9799 - 1s/epoch - 5ms/step\n",
      "Epoch 6/20\n",
      "235/235 - 1s - loss: 0.0706 - accuracy: 0.9774 - val_loss: 0.0740 - val_accuracy: 0.9796 - 1s/epoch - 5ms/step\n",
      "Epoch 7/20\n",
      "235/235 - 1s - loss: 0.0642 - accuracy: 0.9806 - val_loss: 0.0680 - val_accuracy: 0.9803 - 1s/epoch - 5ms/step\n",
      "Epoch 8/20\n",
      "235/235 - 1s - loss: 0.0585 - accuracy: 0.9821 - val_loss: 0.0735 - val_accuracy: 0.9808 - 1s/epoch - 5ms/step\n",
      "Epoch 9/20\n",
      "235/235 - 1s - loss: 0.0532 - accuracy: 0.9829 - val_loss: 0.0750 - val_accuracy: 0.9808 - 1s/epoch - 5ms/step\n",
      "Epoch 10/20\n",
      "235/235 - 1s - loss: 0.0501 - accuracy: 0.9847 - val_loss: 0.0740 - val_accuracy: 0.9820 - 1s/epoch - 5ms/step\n",
      "Epoch 11/20\n",
      "235/235 - 1s - loss: 0.0456 - accuracy: 0.9864 - val_loss: 0.0748 - val_accuracy: 0.9806 - 1s/epoch - 5ms/step\n",
      "Epoch 12/20\n",
      "235/235 - 1s - loss: 0.0429 - accuracy: 0.9872 - val_loss: 0.0748 - val_accuracy: 0.9824 - 1s/epoch - 5ms/step\n",
      "Epoch 13/20\n",
      "235/235 - 1s - loss: 0.0424 - accuracy: 0.9873 - val_loss: 0.0729 - val_accuracy: 0.9827 - 1s/epoch - 5ms/step\n",
      "Epoch 14/20\n",
      "235/235 - 1s - loss: 0.0416 - accuracy: 0.9880 - val_loss: 0.0749 - val_accuracy: 0.9817 - 1s/epoch - 5ms/step\n",
      "Epoch 15/20\n",
      "235/235 - 1s - loss: 0.0366 - accuracy: 0.9887 - val_loss: 0.0739 - val_accuracy: 0.9828 - 1s/epoch - 5ms/step\n",
      "Epoch 16/20\n",
      "235/235 - 1s - loss: 0.0365 - accuracy: 0.9883 - val_loss: 0.0754 - val_accuracy: 0.9830 - 1s/epoch - 5ms/step\n",
      "Epoch 17/20\n",
      "235/235 - 1s - loss: 0.0353 - accuracy: 0.9896 - val_loss: 0.0829 - val_accuracy: 0.9818 - 1s/epoch - 5ms/step\n",
      "Epoch 18/20\n",
      "235/235 - 1s - loss: 0.0335 - accuracy: 0.9898 - val_loss: 0.0844 - val_accuracy: 0.9830 - 1s/epoch - 5ms/step\n",
      "Epoch 19/20\n",
      "235/235 - 1s - loss: 0.0324 - accuracy: 0.9901 - val_loss: 0.0870 - val_accuracy: 0.9834 - 1s/epoch - 5ms/step\n",
      "Epoch 20/20\n",
      "235/235 - 1s - loss: 0.0314 - accuracy: 0.9908 - val_loss: 0.0795 - val_accuracy: 0.9843 - 1s/epoch - 5ms/step\n"
     ]
    },
    {
     "data": {
      "text/plain": [
       "<keras.callbacks.History at 0x7f4538790220>"
      ]
     },
     "execution_count": 21,
     "metadata": {},
     "output_type": "execute_result"
    }
   ],
   "source": [
    "epochs = 20\n",
    "batch_size = 256\n",
    "model.fit(X_train, y_train, epochs=epochs, batch_size=batch_size,\n",
    "          validation_data=(X_test, y_test), verbose=2)"
   ]
  },
  {
   "cell_type": "markdown",
   "metadata": {},
   "source": [
    "# Test\n",
    "\n",
    "keras has a routine, `evaluate()` that can take the inputs and targets of a test data set and return the loss value and accuracy (or other defined metrics) on this data.\n",
    "\n",
    "Here we see we are > 98% accurate on the test data&mdash;this is the data that the model has never seen before (and was not trained with)."
   ]
  },
  {
   "cell_type": "code",
   "execution_count": 22,
   "metadata": {},
   "outputs": [
    {
     "name": "stdout",
     "output_type": "stream",
     "text": [
      "625/625 [==============================] - 1s 893us/step - loss: 0.0795 - accuracy: 0.9843\n",
      "0.9843000173568726\n"
     ]
    }
   ],
   "source": [
    "loss_value, accuracy = model.evaluate(X_test, y_test, batch_size=16)\n",
    "print(accuracy)"
   ]
  },
  {
   "cell_type": "markdown",
   "metadata": {},
   "source": [
    "# Predicting\n",
    "\n",
    "Suppose we simply want to ask our neural network to predict the target for an input.  We can use the `predict()` method to return the category array with the predictions.  We can then use `np.argmax()` to select the most probable."
   ]
  },
  {
   "cell_type": "code",
   "execution_count": 25,
   "metadata": {},
   "outputs": [
    {
     "data": {
      "text/plain": [
       "7"
      ]
     },
     "execution_count": 25,
     "metadata": {},
     "output_type": "execute_result"
    }
   ],
   "source": [
    "np.argmax(model.predict(np.array([X_test[0]])))"
   ]
  },
  {
   "cell_type": "code",
   "execution_count": 26,
   "metadata": {},
   "outputs": [
    {
     "data": {
      "text/plain": [
       "array([0., 0., 0., 0., 0., 0., 0., 1., 0., 0.], dtype=float32)"
      ]
     },
     "execution_count": 26,
     "metadata": {},
     "output_type": "execute_result"
    }
   ],
   "source": [
    "y_test[0]"
   ]
  },
  {
   "cell_type": "markdown",
   "metadata": {},
   "source": [
    "Now let's loop over the test set and print out what we predict vs. the true answer for those we get wrong.  We can also plot the image of the digit."
   ]
  },
  {
   "cell_type": "code",
   "execution_count": 27,
   "metadata": {},
   "outputs": [
    {
     "name": "stdout",
     "output_type": "stream",
     "text": [
      "test 115: prediction = 9, truth is 4\n"
     ]
    },
    {
     "data": {
      "image/png": "[encoded data removed]",
      "text/plain": [
       "<Figure size 432x288 with 1 Axes>"
      ]
     },
     "metadata": {
      "needs_background": "light"
     },
     "output_type": "display_data"
    },
    {
     "name": "stdout",
     "output_type": "stream",
     "text": [
      "test 247: prediction = 2, truth is 4\n"
     ]
    },
    {
     "data": {
      "image/png": "[encoded data removed]",
      "text/plain": [
       "<Figure size 432x288 with 1 Axes>"
      ]
     },
     "metadata": {
      "needs_background": "light"
     },
     "output_type": "display_data"
    },
    {
     "name": "stdout",
     "output_type": "stream",
     "text": [
      "test 259: prediction = 0, truth is 6\n"
     ]
    },
    {
     "data": {
      "image/png": "[encoded data removed]",
      "text/plain": [
       "<Figure size 432x288 with 1 Axes>"
      ]
     },
     "metadata": {
      "needs_background": "light"
     },
     "output_type": "display_data"
    },
    {
     "name": "stdout",
     "output_type": "stream",
     "text": [
      "test 321: prediction = 7, truth is 2\n"
     ]
    },
    {
     "data": {
      "image/png": "[encoded data removed]",
      "text/plain": [
       "<Figure size 432x288 with 1 Axes>"
      ]
     },
     "metadata": {
      "needs_background": "light"
     },
     "output_type": "display_data"
    },
    {
     "name": "stdout",
     "output_type": "stream",
     "text": [
      "test 340: prediction = 3, truth is 5\n"
     ]
    },
    {
     "data": {
      "image/png": "[encoded data removed]",
      "text/plain": [
       "<Figure size 432x288 with 1 Axes>"
      ]
     },
     "metadata": {
      "needs_background": "light"
     },
     "output_type": "display_data"
    },
    {
     "name": "stdout",
     "output_type": "stream",
     "text": [
      "test 445: prediction = 0, truth is 6\n"
     ]
    },
    {
     "data": {
      "image/png": "[encoded data removed]",
      "text/plain": [
       "<Figure size 432x288 with 1 Axes>"
      ]
     },
     "metadata": {
      "needs_background": "light"
     },
     "output_type": "display_data"
    },
    {
     "name": "stdout",
     "output_type": "stream",
     "text": [
      "test 447: prediction = 9, truth is 4\n"
     ]
    },
    {
     "data": {
      "image/png": "[encoded data removed]",
      "text/plain": [
       "<Figure size 432x288 with 1 Axes>"
      ]
     },
     "metadata": {
      "needs_background": "light"
     },
     "output_type": "display_data"
    },
    {
     "name": "stdout",
     "output_type": "stream",
     "text": [
      "test 495: prediction = 2, truth is 8\n"
     ]
    },
    {
     "data": {
      "image/png": "[encoded data removed]",
      "text/plain": [
       "<Figure size 432x288 with 1 Axes>"
      ]
     },
     "metadata": {
      "needs_background": "light"
     },
     "output_type": "display_data"
    },
    {
     "name": "stdout",
     "output_type": "stream",
     "text": [
      "test 582: prediction = 2, truth is 8\n"
     ]
    },
    {
     "data": {
      "image/png": "[encoded data removed]",
      "text/plain": [
       "<Figure size 432x288 with 1 Axes>"
      ]
     },
     "metadata": {
      "needs_background": "light"
     },
     "output_type": "display_data"
    },
    {
     "name": "stdout",
     "output_type": "stream",
     "text": [
      "test 619: prediction = 8, truth is 1\n"
     ]
    },
    {
     "data": {
      "image/png": "[encoded data removed]",
      "text/plain": [
       "<Figure size 432x288 with 1 Axes>"
      ]
     },
     "metadata": {
      "needs_background": "light"
     },
     "output_type": "display_data"
    },
    {
     "name": "stdout",
     "output_type": "stream",
     "text": [
      "test 691: prediction = 4, truth is 8\n"
     ]
    },
    {
     "data": {
      "image/png": "[encoded data removed]",
      "text/plain": [
       "<Figure size 432x288 with 1 Axes>"
      ]
     },
     "metadata": {
      "needs_background": "light"
     },
     "output_type": "display_data"
    },
    {
     "name": "stdout",
     "output_type": "stream",
     "text": [
      "test 720: prediction = 8, truth is 5\n"
     ]
    },
    {
     "data": {
      "image/png": "[encoded data removed]",
      "text/plain": [
       "<Figure size 432x288 with 1 Axes>"
      ]
     },
     "metadata": {
      "needs_background": "light"
     },
     "output_type": "display_data"
    },
    {
     "name": "stdout",
     "output_type": "stream",
     "text": [
      "test 740: prediction = 9, truth is 4\n"
     ]
    },
    {
     "data": {
      "image/png": "[encoded data removed]",
      "text/plain": [
       "<Figure size 432x288 with 1 Axes>"
      ]
     },
     "metadata": {
      "needs_background": "light"
     },
     "output_type": "display_data"
    },
    {
     "name": "stdout",
     "output_type": "stream",
     "text": [
      "test 924: prediction = 7, truth is 2\n"
     ]
    },
    {
     "data": {
      "image/png": "[encoded data removed]",
      "text/plain": [
       "<Figure size 432x288 with 1 Axes>"
      ]
     },
     "metadata": {
      "needs_background": "light"
     },
     "output_type": "display_data"
    },
    {
     "name": "stdout",
     "output_type": "stream",
     "text": [
      "test 951: prediction = 4, truth is 5\n"
     ]
    },
    {
     "data": {
      "image/png": "[encoded data removed]",
      "text/plain": [
       "<Figure size 432x288 with 1 Axes>"
      ]
     },
     "metadata": {
      "needs_background": "light"
     },
     "output_type": "display_data"
    },
    {
     "name": "stdout",
     "output_type": "stream",
     "text": [
      "test 965: prediction = 0, truth is 6\n"
     ]
    },
    {
     "data": {
      "image/png": "[encoded data removed]",
      "text/plain": [
       "<Figure size 432x288 with 1 Axes>"
      ]
     },
     "metadata": {
      "needs_background": "light"
     },
     "output_type": "display_data"
    },
    {
     "name": "stdout",
     "output_type": "stream",
     "text": [
      "test 1014: prediction = 5, truth is 6\n"
     ]
    },
    {
     "data": {
      "image/png": "[encoded data removed]",
      "text/plain": [
       "<Figure size 432x288 with 1 Axes>"
      ]
     },
     "metadata": {
      "needs_background": "light"
     },
     "output_type": "display_data"
    },
    {
     "name": "stdout",
     "output_type": "stream",
     "text": [
      "stopping\n"
     ]
    }
   ],
   "source": [
    "for n, (x, y) in enumerate(zip(X_test, y_test)):\n",
    "    try:\n",
    "        res = model.predict(np.array([x]), verbose=0)\n",
    "        if np.argmax(res) != np.argmax(y):\n",
    "            print(\"test {}: prediction = {}, truth is {}\".format(n, np.argmax(res), np.argmax(y)))\n",
    "            plt.imshow(x.reshape(28, 28), cmap=\"gray_r\")\n",
    "            plt.show()\n",
    "    except KeyboardInterrupt:\n",
    "        print(\"stopping\")\n",
    "        break\n"
   ]
  },
  {
   "cell_type": "markdown",
   "metadata": {},
   "source": [
    "# Exercises"
   ]
  },
  {
   "cell_type": "markdown",
   "metadata": {},
   "source": [
    "## Q1: Batch size\n",
    "\n",
    "Adjust the batch size&mdash;how does this affect the time it takes to train for an epoch?"
   ]
  },
  {
   "cell_type": "markdown",
   "metadata": {},
   "source": [
    "## Q2: Hidden layers\n",
    "\n",
    "Remove one of the hidden layers&mdash;how does the accuracy change?"
   ]
  },
  {
   "cell_type": "markdown",
   "metadata": {},
   "source": [
    "## Q3: Dropout\n",
    "\n",
    "What happens to the accuracy if you don't include any dropouts?"
   ]
  },
  {
   "cell_type": "markdown",
   "metadata": {},
   "source": [
    "## Q4: Activation\n",
    "\n",
    "How does the network perform using a `\"sigmoid\"` activation function?"
   ]
  },
  {
   "cell_type": "markdown",
   "metadata": {},
   "source": [
    "## Q5: Callbacks\n",
    "\n",
    "keras allows for callbacks each epoch to store some information.  Make a plot of the accuracy vs. epoch by adding a callback.  Take a look here for some inspiration:\n",
    "\n",
    "https://keras.io/callbacks/#example-recording-loss-history\n",
    "\n",
    "https://www.tensorflow.org/api_docs/python/tf/keras/callbacks/History"
   ]
  },
  {
   "cell_type": "markdown",
   "metadata": {},
   "source": [
    "# Going Further\n",
    "\n",
    "Convolutional neural networks are often used for image recognition, especially with larger images.  They use filter to try to recognize patterns in portions of images (A tile).  See this for a keras example: http://adventuresinmachinelearning.com/keras-tutorial-cnn-11-lines/"
   ]
  },
  {
   "cell_type": "code",
   "execution_count": null,
   "metadata": {},
   "outputs": [],
   "source": []
  }
 ],
 "metadata": {
  "kernelspec": {
   "display_name": "Python 3 (ipykernel)",
   "language": "python",
   "name": "python3"
  },
  "language_info": {
   "codemirror_mode": {
    "name": "ipython",
    "version": 3
   },
   "file_extension": ".py",
   "mimetype": "text/x-python",
   "name": "python",
   "nbconvert_exporter": "python",
   "pygments_lexer": "ipython3",
   "version": "3.10.2"
  }
 },
 "nbformat": 4,
 "nbformat_minor": 4
}
