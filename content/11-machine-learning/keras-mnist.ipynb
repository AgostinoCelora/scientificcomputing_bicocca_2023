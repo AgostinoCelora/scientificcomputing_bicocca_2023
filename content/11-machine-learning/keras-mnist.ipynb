{
 "cells": [
  {
   "cell_type": "markdown",
   "metadata": {},
   "source": [
    "# KERAS and Tensorflow"
   ]
  },
  {
   "cell_type": "code",
   "execution_count": 1,
   "metadata": {
    "tags": []
   },
   "outputs": [
    {
     "name": "stderr",
     "output_type": "stream",
     "text": [
      "2023-04-10 11:50:32.012960: I tensorflow/core/util/port.cc:110] oneDNN custom operations are on. You may see slightly different numerical results due to floating-point round-off errors from different computation orders. To turn them off, set the environment variable `TF_ENABLE_ONEDNN_OPTS=0`.\n",
      "2023-04-10 11:50:32.014450: I tensorflow/tsl/cuda/cudart_stub.cc:28] Could not find cuda drivers on your machine, GPU will not be used.\n",
      "2023-04-10 11:50:32.044733: I tensorflow/tsl/cuda/cudart_stub.cc:28] Could not find cuda drivers on your machine, GPU will not be used.\n",
      "2023-04-10 11:50:32.045658: I tensorflow/core/platform/cpu_feature_guard.cc:182] This TensorFlow binary is optimized to use available CPU instructions in performance-critical operations.\n",
      "To enable the following instructions: AVX2 AVX512F AVX512_VNNI FMA, in other operations, rebuild TensorFlow with the appropriate compiler flags.\n",
      "2023-04-10 11:50:32.652484: W tensorflow/compiler/tf2tensorrt/utils/py_utils.cc:38] TF-TRT Warning: Could not find TensorRT\n"
     ]
    }
   ],
   "source": [
    "import keras\n",
    "\n",
    "import matplotlib.pyplot as plt\n",
    "import numpy as np"
   ]
  },
  {
   "cell_type": "markdown",
   "metadata": {},
   "source": [
    "This notebook uses keras and the tensorflow backend to do character recognition on the MNIST digits.  You need to have the `keras` and `tensorflow` packages installed.  Also for visualization of the network, you need to have `pydot` installed.\n",
    "\n",
    "We folow the example for setting up the network:\n",
    "https://github.com/Vict0rSch/deep_learning/tree/master/keras/feedforward"
   ]
  },
  {
   "cell_type": "markdown",
   "metadata": {},
   "source": [
    "## The MNIST data\n",
    "\n",
    "The keras library can download the MNIST data directly and provides a function to give us both the training and test images and the corresponding digits."
   ]
  },
  {
   "cell_type": "code",
   "execution_count": 2,
   "metadata": {
    "tags": []
   },
   "outputs": [],
   "source": [
    "from keras.datasets import mnist"
   ]
  },
  {
   "cell_type": "code",
   "execution_count": 3,
   "metadata": {
    "tags": []
   },
   "outputs": [],
   "source": [
    "(X_train, y_train), (X_test, y_test) = mnist.load_data()"
   ]
  },
  {
   "cell_type": "markdown",
   "metadata": {},
   "source": [
    "Notice that the training set consists of 60000 digits represented as a 28x28 array (there are no color channels, so this is grayscale data).  They are also integer data."
   ]
  },
  {
   "cell_type": "code",
   "execution_count": 4,
   "metadata": {
    "tags": []
   },
   "outputs": [
    {
     "data": {
      "text/plain": [
       "(60000, 28, 28)"
      ]
     },
     "execution_count": 4,
     "metadata": {},
     "output_type": "execute_result"
    }
   ],
   "source": [
    "X_train.shape"
   ]
  },
  {
   "cell_type": "code",
   "execution_count": 5,
   "metadata": {
    "tags": []
   },
   "outputs": [
    {
     "data": {
      "text/plain": [
       "dtype('uint8')"
      ]
     },
     "execution_count": 5,
     "metadata": {},
     "output_type": "execute_result"
    }
   ],
   "source": [
    "X_train.dtype"
   ]
  },
  {
   "cell_type": "markdown",
   "metadata": {},
   "source": [
    "Let's look at the first digit and the \"y\" value (target) associated with it&mdash;that's the correct answer."
   ]
  },
  {
   "cell_type": "code",
   "execution_count": 6,
   "metadata": {
    "tags": []
   },
   "outputs": [
    {
     "name": "stdout",
     "output_type": "stream",
     "text": [
      "5\n"
     ]
    },
    {
     "data": {
      "image/png": "[encoded data removed]",
      "text/plain": [
       "<Figure size 432x288 with 1 Axes>"
      ]
     },
     "metadata": {
      "needs_background": "light"
     },
     "output_type": "display_data"
    }
   ],
   "source": [
    "plt.imshow(X_train[0], cmap=\"gray_r\")\n",
    "print(y_train[0])"
   ]
  },
  {
   "cell_type": "markdown",
   "metadata": {},
   "source": [
    "## Preparing the Data\n",
    "\n",
    "The neural network takes a 1-d vector of input and will return a 1-d vector of output.  We need to convert our data to this form."
   ]
  },
  {
   "cell_type": "markdown",
   "metadata": {},
   "source": [
    "We'll scale the image data to fall in [0, 1) and the numerical output to be categorized as an array.  Finally, we need the input data to be one-dimensional, so we fill flatten the 28x28 images into a single 784 vector."
   ]
  },
  {
   "cell_type": "code",
   "execution_count": 7,
   "metadata": {
    "tags": []
   },
   "outputs": [],
   "source": [
    "X_train = X_train.astype('float32')/255\n",
    "X_test = X_test.astype('float32')/255\n",
    "\n",
    "X_train = np.reshape(X_train, (60000, 784))\n",
    "X_test = np.reshape(X_test, (10000, 784))"
   ]
  },
  {
   "cell_type": "code",
   "execution_count": 8,
   "metadata": {
    "tags": []
   },
   "outputs": [
    {
     "data": {
      "text/plain": [
       "array([0.        , 0.        , 0.        , 0.        , 0.        ,\n",
       "       0.        , 0.        , 0.        , 0.        , 0.        ,\n",
       "       0.        , 0.        , 0.        , 0.        , 0.        ,\n",
       "       0.        , 0.        , 0.        , 0.        , 0.        ,\n",
       "       0.        , 0.        , 0.        , 0.        , 0.        ,\n",
       "       0.        , 0.        , 0.        , 0.        , 0.        ,\n",
       "       0.        , 0.        , 0.        , 0.        , 0.        ,\n",
       "       0.        , 0.        , 0.        , 0.        , 0.        ,\n",
       "       0.        , 0.        , 0.        , 0.        , 0.        ,\n",
       "       0.        , 0.        , 0.        , 0.        , 0.        ,\n",
       "       0.        , 0.        , 0.        , 0.        , 0.        ,\n",
       "       0.        , 0.        , 0.        , 0.        , 0.        ,\n",
       "       0.        , 0.        , 0.        , 0.        , 0.        ,\n",
       "       0.        , 0.        , 0.        , 0.        , 0.        ,\n",
       "       0.        , 0.        , 0.        , 0.        , 0.        ,\n",
       "       0.        , 0.        , 0.        , 0.        , 0.        ,\n",
       "       0.        , 0.        , 0.        , 0.        , 0.        ,\n",
       "       0.        , 0.        , 0.        , 0.        , 0.        ,\n",
       "       0.        , 0.        , 0.        , 0.        , 0.        ,\n",
       "       0.        , 0.        , 0.        , 0.        , 0.        ,\n",
       "       0.        , 0.        , 0.        , 0.        , 0.        ,\n",
       "       0.        , 0.        , 0.        , 0.        , 0.        ,\n",
       "       0.        , 0.        , 0.        , 0.        , 0.        ,\n",
       "       0.        , 0.        , 0.        , 0.        , 0.        ,\n",
       "       0.        , 0.        , 0.        , 0.        , 0.        ,\n",
       "       0.        , 0.        , 0.        , 0.        , 0.        ,\n",
       "       0.        , 0.        , 0.        , 0.        , 0.        ,\n",
       "       0.        , 0.        , 0.        , 0.        , 0.        ,\n",
       "       0.        , 0.        , 0.        , 0.        , 0.        ,\n",
       "       0.        , 0.        , 0.        , 0.        , 0.        ,\n",
       "       0.        , 0.        , 0.01176471, 0.07058824, 0.07058824,\n",
       "       0.07058824, 0.49411765, 0.53333336, 0.6862745 , 0.10196079,\n",
       "       0.6509804 , 1.        , 0.96862745, 0.49803922, 0.        ,\n",
       "       0.        , 0.        , 0.        , 0.        , 0.        ,\n",
       "       0.        , 0.        , 0.        , 0.        , 0.        ,\n",
       "       0.        , 0.11764706, 0.14117648, 0.36862746, 0.6039216 ,\n",
       "       0.6666667 , 0.99215686, 0.99215686, 0.99215686, 0.99215686,\n",
       "       0.99215686, 0.88235295, 0.6745098 , 0.99215686, 0.9490196 ,\n",
       "       0.7647059 , 0.2509804 , 0.        , 0.        , 0.        ,\n",
       "       0.        , 0.        , 0.        , 0.        , 0.        ,\n",
       "       0.        , 0.        , 0.        , 0.19215687, 0.93333334,\n",
       "       0.99215686, 0.99215686, 0.99215686, 0.99215686, 0.99215686,\n",
       "       0.99215686, 0.99215686, 0.99215686, 0.9843137 , 0.3647059 ,\n",
       "       0.32156864, 0.32156864, 0.21960784, 0.15294118, 0.        ,\n",
       "       0.        , 0.        , 0.        , 0.        , 0.        ,\n",
       "       0.        , 0.        , 0.        , 0.        , 0.        ,\n",
       "       0.        , 0.07058824, 0.85882354, 0.99215686, 0.99215686,\n",
       "       0.99215686, 0.99215686, 0.99215686, 0.7764706 , 0.7137255 ,\n",
       "       0.96862745, 0.94509804, 0.        , 0.        , 0.        ,\n",
       "       0.        , 0.        , 0.        , 0.        , 0.        ,\n",
       "       0.        , 0.        , 0.        , 0.        , 0.        ,\n",
       "       0.        , 0.        , 0.        , 0.        , 0.        ,\n",
       "       0.3137255 , 0.6117647 , 0.41960785, 0.99215686, 0.99215686,\n",
       "       0.8039216 , 0.04313726, 0.        , 0.16862746, 0.6039216 ,\n",
       "       0.        , 0.        , 0.        , 0.        , 0.        ,\n",
       "       0.        , 0.        , 0.        , 0.        , 0.        ,\n",
       "       0.        , 0.        , 0.        , 0.        , 0.        ,\n",
       "       0.        , 0.        , 0.        , 0.        , 0.05490196,\n",
       "       0.00392157, 0.6039216 , 0.99215686, 0.3529412 , 0.        ,\n",
       "       0.        , 0.        , 0.        , 0.        , 0.        ,\n",
       "       0.        , 0.        , 0.        , 0.        , 0.        ,\n",
       "       0.        , 0.        , 0.        , 0.        , 0.        ,\n",
       "       0.        , 0.        , 0.        , 0.        , 0.        ,\n",
       "       0.        , 0.        , 0.        , 0.        , 0.54509807,\n",
       "       0.99215686, 0.74509805, 0.00784314, 0.        , 0.        ,\n",
       "       0.        , 0.        , 0.        , 0.        , 0.        ,\n",
       "       0.        , 0.        , 0.        , 0.        , 0.        ,\n",
       "       0.        , 0.        , 0.        , 0.        , 0.        ,\n",
       "       0.        , 0.        , 0.        , 0.        , 0.        ,\n",
       "       0.        , 0.        , 0.04313726, 0.74509805, 0.99215686,\n",
       "       0.27450982, 0.        , 0.        , 0.        , 0.        ,\n",
       "       0.        , 0.        , 0.        , 0.        , 0.        ,\n",
       "       0.        , 0.        , 0.        , 0.        , 0.        ,\n",
       "       0.        , 0.        , 0.        , 0.        , 0.        ,\n",
       "       0.        , 0.        , 0.        , 0.        , 0.        ,\n",
       "       0.        , 0.13725491, 0.94509804, 0.88235295, 0.627451  ,\n",
       "       0.42352942, 0.00392157, 0.        , 0.        , 0.        ,\n",
       "       0.        , 0.        , 0.        , 0.        , 0.        ,\n",
       "       0.        , 0.        , 0.        , 0.        , 0.        ,\n",
       "       0.        , 0.        , 0.        , 0.        , 0.        ,\n",
       "       0.        , 0.        , 0.        , 0.        , 0.        ,\n",
       "       0.31764707, 0.9411765 , 0.99215686, 0.99215686, 0.46666667,\n",
       "       0.09803922, 0.        , 0.        , 0.        , 0.        ,\n",
       "       0.        , 0.        , 0.        , 0.        , 0.        ,\n",
       "       0.        , 0.        , 0.        , 0.        , 0.        ,\n",
       "       0.        , 0.        , 0.        , 0.        , 0.        ,\n",
       "       0.        , 0.        , 0.        , 0.        , 0.1764706 ,\n",
       "       0.7294118 , 0.99215686, 0.99215686, 0.5882353 , 0.10588235,\n",
       "       0.        , 0.        , 0.        , 0.        , 0.        ,\n",
       "       0.        , 0.        , 0.        , 0.        , 0.        ,\n",
       "       0.        , 0.        , 0.        , 0.        , 0.        ,\n",
       "       0.        , 0.        , 0.        , 0.        , 0.        ,\n",
       "       0.        , 0.        , 0.        , 0.0627451 , 0.3647059 ,\n",
       "       0.9882353 , 0.99215686, 0.73333335, 0.        , 0.        ,\n",
       "       0.        , 0.        , 0.        , 0.        , 0.        ,\n",
       "       0.        , 0.        , 0.        , 0.        , 0.        ,\n",
       "       0.        , 0.        , 0.        , 0.        , 0.        ,\n",
       "       0.        , 0.        , 0.        , 0.        , 0.        ,\n",
       "       0.        , 0.        , 0.        , 0.9764706 , 0.99215686,\n",
       "       0.9764706 , 0.2509804 , 0.        , 0.        , 0.        ,\n",
       "       0.        , 0.        , 0.        , 0.        , 0.        ,\n",
       "       0.        , 0.        , 0.        , 0.        , 0.        ,\n",
       "       0.        , 0.        , 0.        , 0.        , 0.        ,\n",
       "       0.        , 0.        , 0.        , 0.18039216, 0.50980395,\n",
       "       0.7176471 , 0.99215686, 0.99215686, 0.8117647 , 0.00784314,\n",
       "       0.        , 0.        , 0.        , 0.        , 0.        ,\n",
       "       0.        , 0.        , 0.        , 0.        , 0.        ,\n",
       "       0.        , 0.        , 0.        , 0.        , 0.        ,\n",
       "       0.        , 0.        , 0.        , 0.        , 0.15294118,\n",
       "       0.5803922 , 0.8980392 , 0.99215686, 0.99215686, 0.99215686,\n",
       "       0.98039216, 0.7137255 , 0.        , 0.        , 0.        ,\n",
       "       0.        , 0.        , 0.        , 0.        , 0.        ,\n",
       "       0.        , 0.        , 0.        , 0.        , 0.        ,\n",
       "       0.        , 0.        , 0.        , 0.        , 0.        ,\n",
       "       0.09411765, 0.44705883, 0.8666667 , 0.99215686, 0.99215686,\n",
       "       0.99215686, 0.99215686, 0.7882353 , 0.30588236, 0.        ,\n",
       "       0.        , 0.        , 0.        , 0.        , 0.        ,\n",
       "       0.        , 0.        , 0.        , 0.        , 0.        ,\n",
       "       0.        , 0.        , 0.        , 0.        , 0.        ,\n",
       "       0.        , 0.09019608, 0.25882354, 0.8352941 , 0.99215686,\n",
       "       0.99215686, 0.99215686, 0.99215686, 0.7764706 , 0.31764707,\n",
       "       0.00784314, 0.        , 0.        , 0.        , 0.        ,\n",
       "       0.        , 0.        , 0.        , 0.        , 0.        ,\n",
       "       0.        , 0.        , 0.        , 0.        , 0.        ,\n",
       "       0.        , 0.        , 0.07058824, 0.67058825, 0.85882354,\n",
       "       0.99215686, 0.99215686, 0.99215686, 0.99215686, 0.7647059 ,\n",
       "       0.3137255 , 0.03529412, 0.        , 0.        , 0.        ,\n",
       "       0.        , 0.        , 0.        , 0.        , 0.        ,\n",
       "       0.        , 0.        , 0.        , 0.        , 0.        ,\n",
       "       0.        , 0.        , 0.        , 0.21568628, 0.6745098 ,\n",
       "       0.8862745 , 0.99215686, 0.99215686, 0.99215686, 0.99215686,\n",
       "       0.95686275, 0.52156866, 0.04313726, 0.        , 0.        ,\n",
       "       0.        , 0.        , 0.        , 0.        , 0.        ,\n",
       "       0.        , 0.        , 0.        , 0.        , 0.        ,\n",
       "       0.        , 0.        , 0.        , 0.        , 0.        ,\n",
       "       0.        , 0.53333336, 0.99215686, 0.99215686, 0.99215686,\n",
       "       0.83137256, 0.5294118 , 0.5176471 , 0.0627451 , 0.        ,\n",
       "       0.        , 0.        , 0.        , 0.        , 0.        ,\n",
       "       0.        , 0.        , 0.        , 0.        , 0.        ,\n",
       "       0.        , 0.        , 0.        , 0.        , 0.        ,\n",
       "       0.        , 0.        , 0.        , 0.        , 0.        ,\n",
       "       0.        , 0.        , 0.        , 0.        , 0.        ,\n",
       "       0.        , 0.        , 0.        , 0.        , 0.        ,\n",
       "       0.        , 0.        , 0.        , 0.        , 0.        ,\n",
       "       0.        , 0.        , 0.        , 0.        , 0.        ,\n",
       "       0.        , 0.        , 0.        , 0.        , 0.        ,\n",
       "       0.        , 0.        , 0.        , 0.        , 0.        ,\n",
       "       0.        , 0.        , 0.        , 0.        , 0.        ,\n",
       "       0.        , 0.        , 0.        , 0.        , 0.        ,\n",
       "       0.        , 0.        , 0.        , 0.        , 0.        ,\n",
       "       0.        , 0.        , 0.        , 0.        , 0.        ,\n",
       "       0.        , 0.        , 0.        , 0.        , 0.        ,\n",
       "       0.        , 0.        , 0.        , 0.        , 0.        ,\n",
       "       0.        , 0.        , 0.        , 0.        , 0.        ,\n",
       "       0.        , 0.        , 0.        , 0.        , 0.        ,\n",
       "       0.        , 0.        , 0.        , 0.        , 0.        ,\n",
       "       0.        , 0.        , 0.        , 0.        ], dtype=float32)"
      ]
     },
     "execution_count": 8,
     "metadata": {},
     "output_type": "execute_result"
    }
   ],
   "source": [
    "X_train[0]"
   ]
  },
  {
   "cell_type": "markdown",
   "metadata": {},
   "source": [
    "For the targets (y), we need to convert the output to an array that matches what we expect the output of the neural network to be.  keras includes routines to categorize data.  In our case, since there are 10 possible digits, we want to put the output into 10 categories (represented by 10 neurons)"
   ]
  },
  {
   "cell_type": "code",
   "execution_count": 9,
   "metadata": {
    "tags": []
   },
   "outputs": [],
   "source": [
    "from keras.utils import np_utils\n",
    "\n",
    "y_train = np_utils.to_categorical(y_train, 10)\n",
    "y_test = np_utils.to_categorical(y_test, 10)"
   ]
  },
  {
   "cell_type": "markdown",
   "metadata": {},
   "source": [
    "Now let's look at the target for the first training digit.  We know from above that it was '5'.  Here we see that there is a `1` in the index corresponding to `5` (remember we start counting at `0` in python)."
   ]
  },
  {
   "cell_type": "code",
   "execution_count": 10,
   "metadata": {
    "tags": []
   },
   "outputs": [
    {
     "data": {
      "text/plain": [
       "array([0., 0., 0., 0., 0., 1., 0., 0., 0., 0.], dtype=float32)"
      ]
     },
     "execution_count": 10,
     "metadata": {},
     "output_type": "execute_result"
    }
   ],
   "source": [
    "y_train[0]"
   ]
  },
  {
   "cell_type": "markdown",
   "metadata": {},
   "source": [
    "## Build the Neural Network"
   ]
  },
  {
   "cell_type": "markdown",
   "metadata": {},
   "source": [
    "Now we'll build the neural network.  We will have 2 hidden layers, and the number of neurons will look like:\n",
    "\n",
    "784 &rarr; 500 &rarr; 300 &rarr; 10\n",
    "\n",
    "We will use a **dense** network.  This means that all neurons in one layer are connected to all neurons in the next layer (sometimes the term \"fully-connected\" is used here).\n",
    "\n",
    "For each layer, we tell keras the number of output neurons.  It infers the number of inputs from the previous layer (with the exception of the input layer, where we need to tell it what to expect as input).\n",
    "\n",
    "Also, for each layer, we specify the **activation** function.  We can use \"sigmoid\" or some other choices.  We'll use\n",
    "the the _rectified linear unit_ activation function (see http://ml-cheatsheet.readthedocs.io/en/latest/activation_functions.html#relu) for all but the last layer.  See https://keras.io/api/layers/activations/ for a list of activation functions supported.\n",
    "\n",
    "Finally, for some of the layers, we will specify a **dropout**.  This means that we will ignore some of the neurons in a layer during training (randomly selected at the specified probability).  This can help present overfitting of the network.  Here's a nice discussion: https://medium.com/@amarbudhiraja/https-medium-com-amarbudhiraja-learning-less-to-learn-better-dropout-in-deep-machine-learning-74334da4bfc5\n",
    "\n",
    "For the very last layer (the output layer), we use a `softmax` activation.  This is commonly used with categorical data (like we have) and has the nice property that all of entries add to 1 (so we can interpret them as probabilities)."
   ]
  },
  {
   "cell_type": "code",
   "execution_count": 14,
   "metadata": {
    "tags": []
   },
   "outputs": [],
   "source": [
    "from keras.models import Sequential\n",
    "from keras.layers.core import Dense, Dropout, Activation\n",
    "from tensorflow.keras.optimizers import RMSprop\n",
    "\n",
    "model = Sequential()\n",
    "model.add(Dense(500, input_dim=784, activation=\"relu\"))\n",
    "model.add(Dropout(0.4))\n",
    "model.add(Dense(300, activation=\"relu\"))\n",
    "model.add(Dropout(0.4))\n",
    "model.add(Dense(10, activation=\"softmax\"))"
   ]
  },
  {
   "cell_type": "markdown",
   "metadata": {},
   "source": [
    "Let's look at the network"
   ]
  },
  {
   "cell_type": "code",
   "execution_count": 16,
   "metadata": {
    "tags": []
   },
   "outputs": [
    {
     "data": {
      "image/svg+xml": [
       "<svg xmlns=\"http://www.w3.org/2000/svg\" xmlns:xlink=\"http://www.w3.org/1999/xlink\" width=\"226pt\" height=\"424pt\" viewBox=\"0.00 0.00 250.00 470.00\">\n",
       "<g id=\"graph0\" class=\"graph\" transform=\"scale(0.902778 0.902778) rotate(0) translate(4 466)\">\n",
       "<title>G</title>\n",
       "<polygon fill=\"white\" stroke=\"transparent\" points=\"-4,4 -4,-466 246,-466 246,4 -4,4\"/>\n",
       "<!-- 140372053444752 -->\n",
       "<g id=\"node1\" class=\"node\">\n",
       "<title>140372053444752</title>\n",
       "<polygon fill=\"none\" stroke=\"black\" points=\"0,-415.5 0,-461.5 242,-461.5 242,-415.5 0,-415.5\"/>\n",
       "<text text-anchor=\"middle\" x=\"47.5\" y=\"-446.3\" font-family=\"Times,serif\" font-size=\"14.00\">dense_6_input</text>\n",
       "<polyline fill=\"none\" stroke=\"black\" points=\"0,-438.5 95,-438.5 \"/>\n",
       "<text text-anchor=\"middle\" x=\"47.5\" y=\"-423.3\" font-family=\"Times,serif\" font-size=\"14.00\">InputLayer</text>\n",
       "<polyline fill=\"none\" stroke=\"black\" points=\"95,-415.5 95,-461.5 \"/>\n",
       "<text text-anchor=\"middle\" x=\"122.5\" y=\"-446.3\" font-family=\"Times,serif\" font-size=\"14.00\">input:</text>\n",
       "<polyline fill=\"none\" stroke=\"black\" points=\"95,-438.5 150,-438.5 \"/>\n",
       "<text text-anchor=\"middle\" x=\"122.5\" y=\"-423.3\" font-family=\"Times,serif\" font-size=\"14.00\">output:</text>\n",
       "<polyline fill=\"none\" stroke=\"black\" points=\"150,-415.5 150,-461.5 \"/>\n",
       "<text text-anchor=\"middle\" x=\"196\" y=\"-446.3\" font-family=\"Times,serif\" font-size=\"14.00\">[(None, 784)]</text>\n",
       "<polyline fill=\"none\" stroke=\"black\" points=\"150,-438.5 242,-438.5 \"/>\n",
       "<text text-anchor=\"middle\" x=\"196\" y=\"-423.3\" font-family=\"Times,serif\" font-size=\"14.00\">[(None, 784)]</text>\n",
       "</g>\n",
       "<!-- 140370276286992 -->\n",
       "<g id=\"node2\" class=\"node\">\n",
       "<title>140370276286992</title>\n",
       "<polygon fill=\"none\" stroke=\"black\" points=\"21.5,-332.5 21.5,-378.5 220.5,-378.5 220.5,-332.5 21.5,-332.5\"/>\n",
       "<text text-anchor=\"middle\" x=\"52\" y=\"-363.3\" font-family=\"Times,serif\" font-size=\"14.00\">dense_6</text>\n",
       "<polyline fill=\"none\" stroke=\"black\" points=\"21.5,-355.5 82.5,-355.5 \"/>\n",
       "<text text-anchor=\"middle\" x=\"52\" y=\"-340.3\" font-family=\"Times,serif\" font-size=\"14.00\">Dense</text>\n",
       "<polyline fill=\"none\" stroke=\"black\" points=\"82.5,-332.5 82.5,-378.5 \"/>\n",
       "<text text-anchor=\"middle\" x=\"110\" y=\"-363.3\" font-family=\"Times,serif\" font-size=\"14.00\">input:</text>\n",
       "<polyline fill=\"none\" stroke=\"black\" points=\"82.5,-355.5 137.5,-355.5 \"/>\n",
       "<text text-anchor=\"middle\" x=\"110\" y=\"-340.3\" font-family=\"Times,serif\" font-size=\"14.00\">output:</text>\n",
       "<polyline fill=\"none\" stroke=\"black\" points=\"137.5,-332.5 137.5,-378.5 \"/>\n",
       "<text text-anchor=\"middle\" x=\"179\" y=\"-363.3\" font-family=\"Times,serif\" font-size=\"14.00\">(None, 784)</text>\n",
       "<polyline fill=\"none\" stroke=\"black\" points=\"137.5,-355.5 220.5,-355.5 \"/>\n",
       "<text text-anchor=\"middle\" x=\"179\" y=\"-340.3\" font-family=\"Times,serif\" font-size=\"14.00\">(None, 500)</text>\n",
       "</g>\n",
       "<!-- 140372053444752&#45;&gt;140370276286992 -->\n",
       "<g id=\"edge1\" class=\"edge\">\n",
       "<title>140372053444752-&gt;140370276286992</title>\n",
       "<path fill=\"none\" stroke=\"black\" d=\"M121,-415.37C121,-407.15 121,-397.66 121,-388.73\"/>\n",
       "<polygon fill=\"black\" stroke=\"black\" points=\"124.5,-388.61 121,-378.61 117.5,-388.61 124.5,-388.61\"/>\n",
       "</g>\n",
       "<!-- 140370073061648 -->\n",
       "<g id=\"node3\" class=\"node\">\n",
       "<title>140370073061648</title>\n",
       "<polygon fill=\"none\" stroke=\"black\" points=\"16,-249.5 16,-295.5 226,-295.5 226,-249.5 16,-249.5\"/>\n",
       "<text text-anchor=\"middle\" x=\"52\" y=\"-280.3\" font-family=\"Times,serif\" font-size=\"14.00\">dropout_4</text>\n",
       "<polyline fill=\"none\" stroke=\"black\" points=\"16,-272.5 88,-272.5 \"/>\n",
       "<text text-anchor=\"middle\" x=\"52\" y=\"-257.3\" font-family=\"Times,serif\" font-size=\"14.00\">Dropout</text>\n",
       "<polyline fill=\"none\" stroke=\"black\" points=\"88,-249.5 88,-295.5 \"/>\n",
       "<text text-anchor=\"middle\" x=\"115.5\" y=\"-280.3\" font-family=\"Times,serif\" font-size=\"14.00\">input:</text>\n",
       "<polyline fill=\"none\" stroke=\"black\" points=\"88,-272.5 143,-272.5 \"/>\n",
       "<text text-anchor=\"middle\" x=\"115.5\" y=\"-257.3\" font-family=\"Times,serif\" font-size=\"14.00\">output:</text>\n",
       "<polyline fill=\"none\" stroke=\"black\" points=\"143,-249.5 143,-295.5 \"/>\n",
       "<text text-anchor=\"middle\" x=\"184.5\" y=\"-280.3\" font-family=\"Times,serif\" font-size=\"14.00\">(None, 500)</text>\n",
       "<polyline fill=\"none\" stroke=\"black\" points=\"143,-272.5 226,-272.5 \"/>\n",
       "<text text-anchor=\"middle\" x=\"184.5\" y=\"-257.3\" font-family=\"Times,serif\" font-size=\"14.00\">(None, 500)</text>\n",
       "</g>\n",
       "<!-- 140370276286992&#45;&gt;140370073061648 -->\n",
       "<g id=\"edge2\" class=\"edge\">\n",
       "<title>140370276286992-&gt;140370073061648</title>\n",
       "<path fill=\"none\" stroke=\"black\" d=\"M121,-332.37C121,-324.15 121,-314.66 121,-305.73\"/>\n",
       "<polygon fill=\"black\" stroke=\"black\" points=\"124.5,-305.61 121,-295.61 117.5,-305.61 124.5,-305.61\"/>\n",
       "</g>\n",
       "<!-- 140370073070608 -->\n",
       "<g id=\"node4\" class=\"node\">\n",
       "<title>140370073070608</title>\n",
       "<polygon fill=\"none\" stroke=\"black\" points=\"21.5,-166.5 21.5,-212.5 220.5,-212.5 220.5,-166.5 21.5,-166.5\"/>\n",
       "<text text-anchor=\"middle\" x=\"52\" y=\"-197.3\" font-family=\"Times,serif\" font-size=\"14.00\">dense_7</text>\n",
       "<polyline fill=\"none\" stroke=\"black\" points=\"21.5,-189.5 82.5,-189.5 \"/>\n",
       "<text text-anchor=\"middle\" x=\"52\" y=\"-174.3\" font-family=\"Times,serif\" font-size=\"14.00\">Dense</text>\n",
       "<polyline fill=\"none\" stroke=\"black\" points=\"82.5,-166.5 82.5,-212.5 \"/>\n",
       "<text text-anchor=\"middle\" x=\"110\" y=\"-197.3\" font-family=\"Times,serif\" font-size=\"14.00\">input:</text>\n",
       "<polyline fill=\"none\" stroke=\"black\" points=\"82.5,-189.5 137.5,-189.5 \"/>\n",
       "<text text-anchor=\"middle\" x=\"110\" y=\"-174.3\" font-family=\"Times,serif\" font-size=\"14.00\">output:</text>\n",
       "<polyline fill=\"none\" stroke=\"black\" points=\"137.5,-166.5 137.5,-212.5 \"/>\n",
       "<text text-anchor=\"middle\" x=\"179\" y=\"-197.3\" font-family=\"Times,serif\" font-size=\"14.00\">(None, 500)</text>\n",
       "<polyline fill=\"none\" stroke=\"black\" points=\"137.5,-189.5 220.5,-189.5 \"/>\n",
       "<text text-anchor=\"middle\" x=\"179\" y=\"-174.3\" font-family=\"Times,serif\" font-size=\"14.00\">(None, 300)</text>\n",
       "</g>\n",
       "<!-- 140370073061648&#45;&gt;140370073070608 -->\n",
       "<g id=\"edge3\" class=\"edge\">\n",
       "<title>140370073061648-&gt;140370073070608</title>\n",
       "<path fill=\"none\" stroke=\"black\" d=\"M121,-249.37C121,-241.15 121,-231.66 121,-222.73\"/>\n",
       "<polygon fill=\"black\" stroke=\"black\" points=\"124.5,-222.61 121,-212.61 117.5,-222.61 124.5,-222.61\"/>\n",
       "</g>\n",
       "<!-- 140370740071184 -->\n",
       "<g id=\"node5\" class=\"node\">\n",
       "<title>140370740071184</title>\n",
       "<polygon fill=\"none\" stroke=\"black\" points=\"16,-83.5 16,-129.5 226,-129.5 226,-83.5 16,-83.5\"/>\n",
       "<text text-anchor=\"middle\" x=\"52\" y=\"-114.3\" font-family=\"Times,serif\" font-size=\"14.00\">dropout_5</text>\n",
       "<polyline fill=\"none\" stroke=\"black\" points=\"16,-106.5 88,-106.5 \"/>\n",
       "<text text-anchor=\"middle\" x=\"52\" y=\"-91.3\" font-family=\"Times,serif\" font-size=\"14.00\">Dropout</text>\n",
       "<polyline fill=\"none\" stroke=\"black\" points=\"88,-83.5 88,-129.5 \"/>\n",
       "<text text-anchor=\"middle\" x=\"115.5\" y=\"-114.3\" font-family=\"Times,serif\" font-size=\"14.00\">input:</text>\n",
       "<polyline fill=\"none\" stroke=\"black\" points=\"88,-106.5 143,-106.5 \"/>\n",
       "<text text-anchor=\"middle\" x=\"115.5\" y=\"-91.3\" font-family=\"Times,serif\" font-size=\"14.00\">output:</text>\n",
       "<polyline fill=\"none\" stroke=\"black\" points=\"143,-83.5 143,-129.5 \"/>\n",
       "<text text-anchor=\"middle\" x=\"184.5\" y=\"-114.3\" font-family=\"Times,serif\" font-size=\"14.00\">(None, 300)</text>\n",
       "<polyline fill=\"none\" stroke=\"black\" points=\"143,-106.5 226,-106.5 \"/>\n",
       "<text text-anchor=\"middle\" x=\"184.5\" y=\"-91.3\" font-family=\"Times,serif\" font-size=\"14.00\">(None, 300)</text>\n",
       "</g>\n",
       "<!-- 140370073070608&#45;&gt;140370740071184 -->\n",
       "<g id=\"edge4\" class=\"edge\">\n",
       "<title>140370073070608-&gt;140370740071184</title>\n",
       "<path fill=\"none\" stroke=\"black\" d=\"M121,-166.37C121,-158.15 121,-148.66 121,-139.73\"/>\n",
       "<polygon fill=\"black\" stroke=\"black\" points=\"124.5,-139.61 121,-129.61 117.5,-139.61 124.5,-139.61\"/>\n",
       "</g>\n",
       "<!-- 140370072906768 -->\n",
       "<g id=\"node6\" class=\"node\">\n",
       "<title>140370072906768</title>\n",
       "<polygon fill=\"none\" stroke=\"black\" points=\"21.5,-0.5 21.5,-46.5 220.5,-46.5 220.5,-0.5 21.5,-0.5\"/>\n",
       "<text text-anchor=\"middle\" x=\"52\" y=\"-31.3\" font-family=\"Times,serif\" font-size=\"14.00\">dense_8</text>\n",
       "<polyline fill=\"none\" stroke=\"black\" points=\"21.5,-23.5 82.5,-23.5 \"/>\n",
       "<text text-anchor=\"middle\" x=\"52\" y=\"-8.3\" font-family=\"Times,serif\" font-size=\"14.00\">Dense</text>\n",
       "<polyline fill=\"none\" stroke=\"black\" points=\"82.5,-0.5 82.5,-46.5 \"/>\n",
       "<text text-anchor=\"middle\" x=\"110\" y=\"-31.3\" font-family=\"Times,serif\" font-size=\"14.00\">input:</text>\n",
       "<polyline fill=\"none\" stroke=\"black\" points=\"82.5,-23.5 137.5,-23.5 \"/>\n",
       "<text text-anchor=\"middle\" x=\"110\" y=\"-8.3\" font-family=\"Times,serif\" font-size=\"14.00\">output:</text>\n",
       "<polyline fill=\"none\" stroke=\"black\" points=\"137.5,-0.5 137.5,-46.5 \"/>\n",
       "<text text-anchor=\"middle\" x=\"179\" y=\"-31.3\" font-family=\"Times,serif\" font-size=\"14.00\">(None, 300)</text>\n",
       "<polyline fill=\"none\" stroke=\"black\" points=\"137.5,-23.5 220.5,-23.5 \"/>\n",
       "<text text-anchor=\"middle\" x=\"179\" y=\"-8.3\" font-family=\"Times,serif\" font-size=\"14.00\">(None, 10)</text>\n",
       "</g>\n",
       "<!-- 140370740071184&#45;&gt;140370072906768 -->\n",
       "<g id=\"edge5\" class=\"edge\">\n",
       "<title>140370740071184-&gt;140370072906768</title>\n",
       "<path fill=\"none\" stroke=\"black\" d=\"M121,-83.37C121,-75.15 121,-65.66 121,-56.73\"/>\n",
       "<polygon fill=\"black\" stroke=\"black\" points=\"124.5,-56.61 121,-46.61 117.5,-56.61 124.5,-56.61\"/>\n",
       "</g>\n",
       "</g>\n",
       "</svg>"
      ],
      "text/plain": [
       "<IPython.core.display.SVG object>"
      ]
     },
     "execution_count": 16,
     "metadata": {},
     "output_type": "execute_result"
    }
   ],
   "source": [
    "from IPython.display import SVG\n",
    "from keras.utils.vis_utils import model_to_dot\n",
    "\n",
    "SVG(model_to_dot(model, show_shapes=True, dpi=65).create(prog='dot', format='svg'))"
   ]
  },
  {
   "cell_type": "markdown",
   "metadata": {},
   "source": [
    "We need to specify what we want to optimize and how we are going to do it.  \n",
    "\n",
    "The loss (or objective) function measures how well our predictions match the expected target (an example can be the root-mean-square of the error).  For category data, like we have, the \"cross-entropy\" metric is often used.  See here for an explanation: https://jamesmccaffrey.wordpress.com/2013/11/05/why-you-should-use-cross-entropy-error-instead-of-classification-error-or-mean-squared-error-for-neural-network-classifier-training/\n",
    "\n",
    "We also need to specify an optimizer.  This could be like gradient descent.  Here's a list of the optimizers supoprted by keras: https://keras.io/api/optimizers/  We'll use `RMPprop`.\n",
    "\n",
    "Finally, we need to specify a metric that is evaluated during training and testing.  We'll use `\"accuracy\"` here.  This means that we'll see the accuracy of our model reported as we are training and testing.\n",
    "\n",
    "More details on these options is here: https://keras.io/api/models/model/"
   ]
  },
  {
   "cell_type": "code",
   "execution_count": 17,
   "metadata": {
    "tags": []
   },
   "outputs": [],
   "source": [
    "rms = RMSprop()\n",
    "model.compile(loss='categorical_crossentropy',\n",
    "              optimizer=rms, metrics=['accuracy'])"
   ]
  },
  {
   "cell_type": "markdown",
   "metadata": {},
   "source": [
    "# Train\n",
    "\n",
    "For training, we pass in the inputs and target and the number of epochs to run and it will optimize the network by adjusting the weights between the nodes in the layers.\n",
    "\n",
    "The number of epochs is the number of times the entire data set is passed forward and backward through the network.  The batch size is the number of training pairs you pass through the network at a given time.  You update the parameter in your model (the weights) once for each batch.  This makes things more efficient and less noisy."
   ]
  },
  {
   "cell_type": "code",
   "execution_count": 18,
   "metadata": {
    "tags": []
   },
   "outputs": [
    {
     "name": "stdout",
     "output_type": "stream",
     "text": [
      "Epoch 1/20\n",
      "235/235 - 2s - loss: 0.3749 - accuracy: 0.8850 - val_loss: 0.1474 - val_accuracy: 0.9546 - 2s/epoch - 7ms/step\n",
      "Epoch 2/20\n",
      "235/235 - 1s - loss: 0.1597 - accuracy: 0.9515 - val_loss: 0.1051 - val_accuracy: 0.9678 - 1s/epoch - 6ms/step\n",
      "Epoch 3/20\n",
      "235/235 - 1s - loss: 0.1184 - accuracy: 0.9650 - val_loss: 0.0835 - val_accuracy: 0.9733 - 1s/epoch - 6ms/step\n",
      "Epoch 4/20\n",
      "235/235 - 1s - loss: 0.0976 - accuracy: 0.9699 - val_loss: 0.0717 - val_accuracy: 0.9783 - 1s/epoch - 6ms/step\n",
      "Epoch 5/20\n",
      "235/235 - 1s - loss: 0.0833 - accuracy: 0.9744 - val_loss: 0.0667 - val_accuracy: 0.9802 - 1s/epoch - 6ms/step\n",
      "Epoch 6/20\n",
      "235/235 - 1s - loss: 0.0735 - accuracy: 0.9774 - val_loss: 0.0672 - val_accuracy: 0.9803 - 1s/epoch - 6ms/step\n",
      "Epoch 7/20\n",
      "235/235 - 1s - loss: 0.0625 - accuracy: 0.9804 - val_loss: 0.0625 - val_accuracy: 0.9808 - 1s/epoch - 6ms/step\n",
      "Epoch 8/20\n",
      "235/235 - 1s - loss: 0.0592 - accuracy: 0.9818 - val_loss: 0.0573 - val_accuracy: 0.9824 - 1s/epoch - 6ms/step\n",
      "Epoch 9/20\n",
      "235/235 - 1s - loss: 0.0526 - accuracy: 0.9823 - val_loss: 0.0615 - val_accuracy: 0.9819 - 1s/epoch - 6ms/step\n",
      "Epoch 10/20\n",
      "235/235 - 1s - loss: 0.0483 - accuracy: 0.9844 - val_loss: 0.0619 - val_accuracy: 0.9823 - 1s/epoch - 6ms/step\n",
      "Epoch 11/20\n",
      "235/235 - 1s - loss: 0.0461 - accuracy: 0.9854 - val_loss: 0.0646 - val_accuracy: 0.9821 - 1s/epoch - 6ms/step\n",
      "Epoch 12/20\n",
      "235/235 - 1s - loss: 0.0420 - accuracy: 0.9863 - val_loss: 0.0606 - val_accuracy: 0.9834 - 1s/epoch - 6ms/step\n",
      "Epoch 13/20\n",
      "235/235 - 1s - loss: 0.0397 - accuracy: 0.9871 - val_loss: 0.0611 - val_accuracy: 0.9827 - 1s/epoch - 6ms/step\n",
      "Epoch 14/20\n",
      "235/235 - 1s - loss: 0.0378 - accuracy: 0.9877 - val_loss: 0.0598 - val_accuracy: 0.9836 - 1s/epoch - 6ms/step\n",
      "Epoch 15/20\n",
      "235/235 - 1s - loss: 0.0343 - accuracy: 0.9892 - val_loss: 0.0646 - val_accuracy: 0.9828 - 1s/epoch - 6ms/step\n",
      "Epoch 16/20\n",
      "235/235 - 1s - loss: 0.0330 - accuracy: 0.9898 - val_loss: 0.0646 - val_accuracy: 0.9830 - 1s/epoch - 6ms/step\n",
      "Epoch 17/20\n",
      "235/235 - 1s - loss: 0.0319 - accuracy: 0.9895 - val_loss: 0.0639 - val_accuracy: 0.9832 - 1s/epoch - 6ms/step\n",
      "Epoch 18/20\n",
      "235/235 - 1s - loss: 0.0290 - accuracy: 0.9906 - val_loss: 0.0603 - val_accuracy: 0.9848 - 1s/epoch - 6ms/step\n",
      "Epoch 19/20\n",
      "235/235 - 1s - loss: 0.0295 - accuracy: 0.9904 - val_loss: 0.0603 - val_accuracy: 0.9855 - 1s/epoch - 6ms/step\n",
      "Epoch 20/20\n",
      "235/235 - 1s - loss: 0.0282 - accuracy: 0.9909 - val_loss: 0.0589 - val_accuracy: 0.9851 - 1s/epoch - 6ms/step\n"
     ]
    },
    {
     "data": {
      "text/plain": [
       "<keras.callbacks.History at 0x7faa75320090>"
      ]
     },
     "execution_count": 18,
     "metadata": {},
     "output_type": "execute_result"
    }
   ],
   "source": [
    "epochs = 20\n",
    "batch_size = 256\n",
    "model.fit(X_train, y_train, epochs=epochs, batch_size=batch_size,\n",
    "          validation_data=(X_test, y_test), verbose=2)"
   ]
  },
  {
   "cell_type": "markdown",
   "metadata": {},
   "source": [
    "## Test\n",
    "\n",
    "keras has a routine, `evaluate()` that can take the inputs and targets of a test data set and return the loss value and accuracy (or other defined metrics) on this data.\n",
    "\n",
    "Here we see we are > 98% accurate on the test data&mdash;this is the data that the model has never seen before (and was not trained with)."
   ]
  },
  {
   "cell_type": "code",
   "execution_count": 19,
   "metadata": {
    "tags": []
   },
   "outputs": [
    {
     "name": "stdout",
     "output_type": "stream",
     "text": [
      "625/625 [==============================] - 1s 813us/step - loss: 0.0589 - accuracy: 0.9851\n",
      "0.9850999712944031\n"
     ]
    }
   ],
   "source": [
    "loss_value, accuracy = model.evaluate(X_test, y_test, batch_size=16)\n",
    "print(accuracy)"
   ]
  },
  {
   "cell_type": "markdown",
   "metadata": {},
   "source": [
    "## Predicting\n",
    "\n",
    "Suppose we simply want to ask our neural network to predict the target for an input.  We can use the `predict()` method to return the category array with the predictions.  We can then use `np.argmax()` to select the most probable."
   ]
  },
  {
   "cell_type": "code",
   "execution_count": 20,
   "metadata": {
    "tags": []
   },
   "outputs": [
    {
     "name": "stdout",
     "output_type": "stream",
     "text": [
      "1/1 [==============================] - 0s 46ms/step\n"
     ]
    },
    {
     "data": {
      "text/plain": [
       "7"
      ]
     },
     "execution_count": 20,
     "metadata": {},
     "output_type": "execute_result"
    }
   ],
   "source": [
    "np.argmax(model.predict(np.array([X_test[0]])))"
   ]
  },
  {
   "cell_type": "code",
   "execution_count": 21,
   "metadata": {
    "tags": []
   },
   "outputs": [
    {
     "data": {
      "text/plain": [
       "array([0., 0., 0., 0., 0., 0., 0., 1., 0., 0.], dtype=float32)"
      ]
     },
     "execution_count": 21,
     "metadata": {},
     "output_type": "execute_result"
    }
   ],
   "source": [
    "y_test[0]"
   ]
  },
  {
   "cell_type": "markdown",
   "metadata": {},
   "source": [
    "Now let's loop over the test set and print out what we predict vs. the true answer for those we get wrong.  We can also plot the image of the digit."
   ]
  },
  {
   "cell_type": "code",
   "execution_count": null,
   "metadata": {
    "tags": []
   },
   "outputs": [],
   "source": [
    "wrong = 0\n",
    "max_wrong = 10\n",
    "\n",
    "for n, (x, y) in enumerate(zip(X_test, y_test)):\n",
    "    try:\n",
    "        res = model.predict(np.array([x]), verbose=0)\n",
    "        if np.argmax(res) != np.argmax(y):\n",
    "            print(\"test {}: prediction = {}, truth is {}\".format(n, np.argmax(res), np.argmax(y)))\n",
    "            plt.imshow(x.reshape(28, 28), cmap=\"gray_r\")\n",
    "            plt.show()\n",
    "            wrong += 1\n",
    "            if (wrong > max_wrong-1):\n",
    "                break\n",
    "    except KeyboardInterrupt:\n",
    "        print(\"stopping\")\n",
    "        break\n"
   ]
  },
  {
   "cell_type": "markdown",
   "metadata": {},
   "source": [
    "## Exercises"
   ]
  },
  {
   "cell_type": "markdown",
   "metadata": {},
   "source": [
    "### Q1: Batch size\n",
    "\n",
    "Adjust the batch size&mdash;how does this affect the time it takes to train for an epoch?"
   ]
  },
  {
   "cell_type": "markdown",
   "metadata": {},
   "source": [
    "### Q2: Hidden layers\n",
    "\n",
    "Remove one of the hidden layers&mdash;how does the accuracy change?"
   ]
  },
  {
   "cell_type": "markdown",
   "metadata": {},
   "source": [
    "### Q3: Dropout\n",
    "\n",
    "What happens to the accuracy if you don't include any dropouts?"
   ]
  },
  {
   "cell_type": "markdown",
   "metadata": {},
   "source": [
    "### Q4: Activation\n",
    "\n",
    "How does the network perform using a `\"sigmoid\"` activation function?"
   ]
  },
  {
   "cell_type": "markdown",
   "metadata": {},
   "source": [
    "### Q5: Callbacks\n",
    "\n",
    "keras allows for callbacks each epoch to store some information.  Make a plot of the accuracy vs. epoch by adding a callback.  Take a look here for some inspiration:\n",
    "\n",
    "https://keras.io/api/callbacks/#example-recording-loss-history\n",
    "\n",
    "https://www.tensorflow.org/api_docs/python/tf/keras/callbacks/History\n"
   ]
  },
  {
   "cell_type": "markdown",
   "metadata": {},
   "source": [
    "## Going Further\n",
    "\n",
    "Convolutional neural networks are often used for image recognition, especially with larger images.  They use filter to try to recognize patterns in portions of images (A tile).  See this for a keras example: \n",
    "\n",
    "https://www.tensorflow.org/tutorials/images/cnn\n"
   ]
  },
  {
   "cell_type": "code",
   "execution_count": null,
   "metadata": {
    "tags": []
   },
   "outputs": [],
   "source": [
    "X_train.shape"
   ]
  },
  {
   "cell_type": "code",
   "execution_count": null,
   "metadata": {
    "tags": []
   },
   "outputs": [],
   "source": [
    "X_test[0].shape"
   ]
  },
  {
   "cell_type": "code",
   "execution_count": null,
   "metadata": {},
   "outputs": [],
   "source": []
  }
 ],
 "metadata": {
  "kernelspec": {
   "display_name": "Python 3 (ipykernel)",
   "language": "python",
   "name": "python3"
  },
  "language_info": {
   "codemirror_mode": {
    "name": "ipython",
    "version": 3
   },
   "file_extension": ".py",
   "mimetype": "text/x-python",
   "name": "python",
   "nbconvert_exporter": "python",
   "pygments_lexer": "ipython3",
   "version": "3.11.2"
  }
 },
 "nbformat": 4,
 "nbformat_minor": 4
}
