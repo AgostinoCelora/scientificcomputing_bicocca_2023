{
  "cells": [
    {
      "cell_type": "markdown",
      "metadata": {},
      "source": [
        "# Introduction\n",
        "\n",
        "This class will introduce the basics of the python programming\n",
        "language and the libraries used for scientific computing.\n",
        "\n",
        "\n",
        "## Getting python\n",
        "\n",
        "You will want to install python and the associated libraries on your\n",
        "laptop that you can bring to the seminar.\n",
        "\n",
        "On Linux machines, you probably already have python and you can get\n",
        "the needed libraries through your system package manager.\n",
        "\n",
        "For Mac and Windows, I recommend the free Anaconda distribution:\n",
        "\n",
        "https://www.anaconda.com/products/individual\n",
        "\n",
        "This will install everything that you need.\n",
        "\n",
        "If you have trouble getting a local install working, most of the class\n",
        "material will work automatically in the cloud, either on\n",
        "[binder](https://mybinder.org/) or [google\n",
        "colab](https://research.google.com/colaboratory/).\n",
        "\n",
        "If you have python successfully installed, you should be able to start\n",
        "the python interpreter at the command line as: `python`.  A shell will\n",
        "come up, and you can try out your first program:\n",
        "\n",
        "```\n",
        "print(\"hello, world\")\n",
        "```\n",
        "\n",
        "\n",
        "## Following along in class\n",
        "\n",
        "All of the class notes are hosted as Jupyter notebooks on github:\n",
        "\n",
        "https://github.com/sbu-python-class/python-science\n",
        "\n",
        "these are rendered by [Jupyter\n",
        "book](https://jupyterbook.org/intro.html) into a webpage that allows\n",
        "you to see the rendered notebooks as well as launch the notebooks in\n",
        "the cloud:\n",
        "\n",
        "http://sbu-python-class.github.io/python-science/Introduction.html\n"
      ]
    }
  ],
  "metadata": {
    "kernelspec": {
      "display_name": "Python 3",
      "language": "python",
      "name": "python3"
    },
    "language_info": {
      "codemirror_mode": {
        "name": "ipython",
        "version": 3
      },
      "file_extension": ".py",
      "mimetype": "text/x-python",
      "name": "python",
      "nbconvert_exporter": "python",
      "pygments_lexer": "ipython3",
      "version": "3.7.8"
    }
  },
  "nbformat": 4,
  "nbformat_minor": 4
}