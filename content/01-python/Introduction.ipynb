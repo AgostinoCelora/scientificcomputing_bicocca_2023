{
  "cells": [
    {
      "cell_type": "markdown",
      "metadata": {},
      "source": [
        "# PHY 546: Python for Scientific Computing\n",
        "\n",
        "![xkcd](01-python/python.png)\n",
        "\n",
        "(from https://xkcd.com)\n",
        "\n",
        "## Why python?\n",
        "\n",
        "* Python is a very high-level language\n",
        "\n",
        "  * it provides many complex data-structures (lists, dictionaries, ...)\n",
        "\n",
        "  * your code is shorter than a comparable algorithm in a compiled language\n",
        "\n",
        "* Many powerful libraries to perform complex tasks\n",
        "\n",
        "  * Parse structured inputs files\n",
        "\n",
        "  * send e-mail\n",
        "\n",
        "  * interact with the operating system\n",
        "\n",
        "  * make plots\n",
        "\n",
        "  * make GUIs\n",
        "\n",
        "  * do scientific computations\n",
        "\n",
        "  * ...\n",
        "\n",
        "* Python makes it easy to prototype new tools\n",
        "\n",
        "* Python is cross-platform and Free\n",
        "\n",
        "## Language Features\n",
        "\n",
        "Some of the language features are:\n",
        "\n",
        "* Dynamical typing\n",
        "\n",
        "* Object-oriented foundation\n",
        "\n",
        "* Extensible (easy to call Fortran, C/C++, ...)\n",
        "\n",
        "* Automatic memory management (garbage collection)\n",
        "\n",
        "* Ease of readability (whitespace matters)\n",
        "\n",
        "\n",
        "## Scientific python\n",
        "\n",
        "Perhaps most importantly, and why we are here:\n",
        "\n",
        "> Python has been widely adopted in the scientific community.\n",
        "\n"
      ]
    }
  ],
  "metadata": {
    "kernelspec": {
      "display_name": "Python 3",
      "language": "python",
      "name": "python3"
    },
    "language_info": {
      "codemirror_mode": {
        "name": "ipython",
        "version": 3
      },
      "file_extension": ".py",
      "mimetype": "text/x-python",
      "name": "python",
      "nbconvert_exporter": "python",
      "pygments_lexer": "ipython3",
      "version": "3.7.8"
    }
  },
  "nbformat": 4,
  "nbformat_minor": 4
}