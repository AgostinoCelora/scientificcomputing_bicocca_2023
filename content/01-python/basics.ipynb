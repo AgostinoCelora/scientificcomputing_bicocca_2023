{
  "cells": [
    {
      "cell_type": "markdown",
      "metadata": {},
      "source": [
        "# Python Basics\n",
        "\n",
        "The following references give helpful introductions to python:\n",
        "\n",
        "* The [official python tutorial](http://docs.python.org/3/tutorial/)\n",
        "\n",
        "* The [software carpentry python lessons](https://swcarpentry.github.io/python-novice-inflammation/)\n",
        "\n",
        "\n",
        "## Practicing\n",
        "\n",
        "Some resources for practicing on your own:\n",
        "\n",
        "* [Code Academy python rack](http://www.codecademy.com/tracks/python): \n",
        "  step-by-step tutorial through the basics of the language\n",
        "\n",
        "* [Project Euler](https://projecteuler.net/):\n",
        "  a set of increasingly complex programming tasks to try out with\n",
        "  python\n",
        "\n",
        "\n",
        "## Online books:\n",
        "\n",
        "* [Think python](http://www.greenteapress.com/thinkpython/)\n",
        "\n",
        "* [Dive into Python](http://www.diveintopython.net/)\n",
        "\n",
        "* [SciPy Lecture Notes](http://scipy-lectures.github.io/)\n",
        "\n",
        "* [Google's python class](https://developers.google.com/edu/python/)\n",
        "\n",
        "* more resources can be found at: http://pythonbooks.revolunet.com/\n",
        "\n",
        "\n",
        "## Domain-specific libraries\n",
        "\n",
        "* Astronomy: [AstroPy](http://astropy.org)\n",
        "\n",
        "* Atmospheric sciences: [PyAOS](http://pyaos.johnny-lin.com/)\n",
        "\n",
        "* Biology: [Biopython](http://biopython.org/)\n",
        "\n",
        "* Ocean and marine sciences: [OceanPython](http://oceanpython.org/)\n",
        "\n",
        "* Psychology resources: [PyschoPy](http://www.psychopy.org/)\n",
        "\n",
        "* Quantum physics: [QuTiP](http://qutip.org/)\n",
        "\n",
        "* Solar physics: [SunPy](http://sunpy.org/)\n",
        "\n",
        "\n"
      ]
    }
  ],
  "metadata": {
    "kernelspec": {
      "display_name": "Python 3",
      "language": "python",
      "name": "python3"
    },
    "language_info": {
      "codemirror_mode": {
        "name": "ipython",
        "version": 3
      },
      "file_extension": ".py",
      "mimetype": "text/x-python",
      "name": "python",
      "nbconvert_exporter": "python",
      "pygments_lexer": "ipython3",
      "version": "3.7.8"
    }
  },
  "nbformat": 4,
  "nbformat_minor": 4
}