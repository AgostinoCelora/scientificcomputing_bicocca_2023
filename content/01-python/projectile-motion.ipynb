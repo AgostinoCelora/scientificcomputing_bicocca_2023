{
 "cells": [
  {
   "cell_type": "markdown",
   "metadata": {},
   "source": [
    "# Projectile Motion"
   ]
  },
  {
   "cell_type": "raw",
   "metadata": {},
   "source": [
    "This notebook shows off some basic IPython notebook features.  We create a simple class to describe a projectile, given an angle and initial velocity and then instantiate some objects and make plots."
   ]
  },
  {
   "cell_type": "code",
   "execution_count": 1,
   "metadata": {
    "collapsed": false
   },
   "outputs": [
    {
     "name": "stdout",
     "output_type": "stream",
     "text": [
      "Populating the interactive namespace from numpy and matplotlib\n"
     ]
    }
   ],
   "source": [
    "%pylab inline"
   ]
  },
  {
   "cell_type": "code",
   "execution_count": 2,
   "metadata": {
    "collapsed": false
   },
   "outputs": [],
   "source": [
    "class Projectile(object):\n",
    "\n",
    "    # this is called every time a new object is created\n",
    "    def __init__(self, v=1.0, theta=45, grav=9.81):\n",
    "\n",
    "        self.v = v           # velocity m/s\n",
    "        self.theta = theta   # angle (degrees)\n",
    "        \n",
    "        self.theta_rad = math.radians(theta)\n",
    "        self.vx = v*math.cos(self.theta_rad)\n",
    "        self.vy = v*math.sin(self.theta_rad)\n",
    "\n",
    "        self.g = grav\n",
    "\n",
    "        self.npts = 1000\n",
    "\n",
    "    def height(self):\n",
    "\n",
    "        # how high does this projectile go?\n",
    "        # vf_y^2 = 0 = vi_y^2 - 2 g h\n",
    "        h = self.vy**2/(2.0*self.g)\n",
    "\n",
    "        return h\n",
    "\n",
    "    def time(self):\n",
    "        \n",
    "        # time of flight up\n",
    "        # vf_y = 0 = vi_y - g t\n",
    "        t = self.vy/self.g\n",
    "\n",
    "        # total time = up + down\n",
    "        t = 2.0*t\n",
    "\n",
    "        return t\n",
    "        \n",
    "    def distance(self):\n",
    "        \n",
    "        d = self.vx*self.time()\n",
    "\n",
    "        return d\n",
    "\n",
    "    def __str__(self):\n",
    "        # a string representation for this class -- so we can print it\n",
    "        str = \" v: {} m/s\\n theta: {} (degrees)\\n height: {} m\\n distance: {} m\\n\".format(\n",
    "            self.v, self.theta, self.height(), self.distance())\n",
    "            \n",
    "        return str\n",
    "    \n",
    "    def t(self):\n",
    "        return numpy.linspace(0.0, self.time(), num=self.npts)\n",
    "    \n",
    "    def x(self):\n",
    "        return self.vx*self.t()\n",
    "    \n",
    "    def y(self):\n",
    "        return self.vy*self.t() - 0.5*self.g*self.t()**2\n"
   ]
  },
  {
   "cell_type": "code",
   "execution_count": 3,
   "metadata": {
    "collapsed": false
   },
   "outputs": [],
   "source": [
    "p1 = Projectile(theta=80, v=10)\n",
    "p2 = Projectile(theta=45, v=10)"
   ]
  },
  {
   "cell_type": "code",
   "execution_count": 4,
   "metadata": {
    "collapsed": false
   },
   "outputs": [
    {
     "name": "stdout",
     "output_type": "stream",
     "text": [
      " v: 10 m/s\n",
      " theta: 80 (degrees)\n",
      " height: 4.943151429118012 m\n",
      " distance: 3.4864438667244526 m\n",
      "\n",
      " v: 10 m/s\n",
      " theta: 45 (degrees)\n",
      " height: 2.54841997961264 m\n",
      " distance: 10.19367991845056 m\n",
      "\n"
     ]
    }
   ],
   "source": [
    "print(p1)\n",
    "print(p2)"
   ]
  },
  {
   "cell_type": "code",
   "execution_count": 5,
   "metadata": {
    "collapsed": false
   },
   "outputs": [
    {
     "data": {
      "text/plain": [
       "[<matplotlib.lines.Line2D at 0x7fea4666ed30>]"
      ]
     },
     "execution_count": 5,
     "metadata": {},
     "output_type": "execute_result"
    },
    {
     "data": {
      "image/png": "[encoded data removed]",
      "text/plain": [
       "<matplotlib.figure.Figure at 0x7fea4666ed68>"
      ]
     },
     "metadata": {},
     "output_type": "display_data"
    }
   ],
   "source": [
    "pylab.plot(p1.x(), p1.y())\n",
    "pylab.plot(p2.x(), p2.y())"
   ]
  },
  {
   "cell_type": "code",
   "execution_count": null,
   "metadata": {
    "collapsed": false
   },
   "outputs": [],
   "source": []
  }
 ],
 "metadata": {
  "kernelspec": {
   "display_name": "Python 3",
   "language": "python",
   "name": "python3"
  },
  "language_info": {
   "codemirror_mode": {
    "name": "ipython",
    "version": 3
   },
   "file_extension": ".py",
   "mimetype": "text/x-python",
   "name": "python",
   "nbconvert_exporter": "python",
   "pygments_lexer": "ipython3",
   "version": "3.5.2"
  }
 },
 "nbformat": 4,
 "nbformat_minor": 0
}
